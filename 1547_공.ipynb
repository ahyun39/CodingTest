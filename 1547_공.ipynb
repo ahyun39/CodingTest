{
  "nbformat": 4,
  "nbformat_minor": 0,
  "metadata": {
    "colab": {
      "name": "Solved problem.ipynb",
      "provenance": [],
      "collapsed_sections": [],
      "authorship_tag": "ABX9TyPJr9sUnCM/KVMP9H6Pdn0Z",
      "include_colab_link": true
    },
    "kernelspec": {
      "name": "python3",
      "display_name": "Python 3"
    },
    "language_info": {
      "name": "python"
    }
  },
  "cells": [
    {
      "cell_type": "markdown",
      "metadata": {
        "id": "view-in-github",
        "colab_type": "text"
      },
      "source": [
        "<a href=\"https://colab.research.google.com/github/A-A27/Baekjoon/blob/main/baekjoon/1547_%EA%B3%B5.ipynb\" target=\"_parent\"><img src=\"https://colab.research.google.com/assets/colab-badge.svg\" alt=\"Open In Colab\"/></a>"
      ]
    },
    {
      "cell_type": "code",
      "source": [
        "# 1547 : 공\n",
        "t = int(input())\n",
        "ball = 1\n",
        "for i in range(t):\n",
        "    a, b = map(int, input().split())\n",
        "    if a == ball and b != ball:\n",
        "        ball = b\n",
        "    elif a != ball and b == ball:\n",
        "        ball = a\n",
        "print(ball)"
      ],
      "metadata": {
        "id": "pb-_Dmf4S2f4"
      },
      "execution_count": null,
      "outputs": []
    }
  ]
}