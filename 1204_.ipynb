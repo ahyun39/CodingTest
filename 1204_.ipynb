{
 "cells": [
  {
   "cell_type": "markdown",
   "metadata": {},
   "source": [
    "## 1204. [S/W 문제해결 기본] 1일차 - 최빈수 구하기 D2\n",
    "[문제 링크](https://swexpertacademy.com/main/code/problem/problemDetail.do?problemLevel=2&contestProbId=AV13zo1KAAACFAYh&categoryId=AV13zo1KAAACFAYh&categoryType=CODE&problemTitle=&orderBy=INQUERY_COUNT&selectCodeLang=PYTHON&select-1=2&pageSize=10&pageIndex=1)\n",
    "\n",
    "### collections Module **Counter**\n",
    "```\n",
    "    >>> c = Counter()                           # a new, empty counter\n",
    "    >>> c = Counter('gallahad')                 # a new counter from an iterable\n",
    "    >>> c = Counter({'red': 4, 'blue': 2})      # a new counter from a mapping\n",
    "    >>> c = Counter(cats=4, dogs=8)             # a new counter from keyword args\n",
    "```\n",
    "> ##### 누락 항목에 대해 KeyError가 아닌 0을 리턴\n",
    "```\n",
    "    >>> c = Counter(['eggs', 'ham'])\n",
    "    >>> c['bacon']                              # count of a missing element is zero\n",
    "    0\n",
    "```\n",
    "> ##### 개수를 0으로 설정해도 제거되지 않는다. 완전히 제거하기 위해서는 del\n",
    "```\n",
    "    >>> c['sausage'] = 0                        # counter entry with a zero count\n",
    "    >>> del c['sausage']                        # del actually removes the entry\n",
    "```\n",
    "\n",
    "```\n",
    "\n",
    "\n",
    "```\n",
    "#### **Methods**\n",
    "\n",
    "> **elements( )**\n",
    "```\n",
    "    요소의 개수가 0인 경우 무시\n",
    "\n",
    "    >>> c = Counter(a=4, b=2, c=0, d=-2)\n",
    "    >>> sorted(c.elements())\n",
    "    ['a', 'a', 'a', 'a', 'b', 'b']\n",
    "```\n",
    "\n",
    "> **most_common([n])**\n",
    "```\n",
    "    가장 많은 요소 -> 가장 적은 요소 순으로 나열\n",
    "\n",
    "    >>> Counter('abracadabra').most_common(3)\n",
    "    [('a', 5), ('b', 2), ('r', 2)]\n",
    "```\n",
    "\n",
    "> **subtract([iterable-or-mapping])**\n",
    "```\n",
    "    >>> c = Counter(a=4, b=2, c=0, d=-2)\n",
    "    >>> d = Counter(a=1, b=2, c=3, d=4)\n",
    "    >>> c.subtract(d)\n",
    "    >>> c\n",
    "    Counter({'a': 3, 'b': 0, 'c': -3, 'd': -6})\n",
    "```\n",
    "\n",
    "> **total( )**\n",
    "```\n",
    "    >>> c = Counter(a=10, b=5, c=0)\n",
    "    >>> c.total()\n",
    "    15\n",
    "```\n",
    "```\n",
    "\n",
    "\n",
    "\n",
    "\n",
    "```\n",
    "### Dictionary에서 value값이 가장 큰 것 출력\n",
    "```\n",
    "    dictionary ={}\n",
    "    max_value = max(dictionary, key = dictionary.get)\n",
    "```"
   ]
  },
  {
   "cell_type": "code",
   "execution_count": 1,
   "metadata": {},
   "outputs": [
    {
     "name": "stdout",
     "output_type": "stream",
     "text": [
      "#1 4\n"
     ]
    }
   ],
   "source": [
    "from collections import Counter\n",
    "T = int(input())\n",
    "for _ in range(T):\n",
    "    t = int(input())\n",
    "    score = list(map(int,input().split()))\n",
    "    s = Counter(score)\n",
    "    ans = max(s,key=s.get)\n",
    "    print(f'#{t} {ans}')"
   ]
  }
 ],
 "metadata": {
  "kernelspec": {
   "display_name": "Python 3",
   "language": "python",
   "name": "python3"
  },
  "language_info": {
   "codemirror_mode": {
    "name": "ipython",
    "version": 3
   },
   "file_extension": ".py",
   "mimetype": "text/x-python",
   "name": "python",
   "nbconvert_exporter": "python",
   "pygments_lexer": "ipython3",
   "version": "3.10.11"
  }
 },
 "nbformat": 4,
 "nbformat_minor": 2
}
