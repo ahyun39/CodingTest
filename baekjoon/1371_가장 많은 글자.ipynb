{
  "nbformat": 4,
  "nbformat_minor": 0,
  "metadata": {
    "colab": {
      "name": "Solved problem.ipynb",
      "provenance": [],
      "collapsed_sections": [],
      "authorship_tag": "ABX9TyNvHX876NlbYSW9H2eXOSYf",
      "include_colab_link": true
    },
    "kernelspec": {
      "name": "python3",
      "display_name": "Python 3"
    },
    "language_info": {
      "name": "python"
    }
  },
  "cells": [
    {
      "cell_type": "markdown",
      "metadata": {
        "id": "view-in-github",
        "colab_type": "text"
      },
      "source": [
        "<a href=\"https://colab.research.google.com/github/A-A27/Baekjoon/blob/main/baekjoon/1371_%EA%B0%80%EC%9E%A5%20%EB%A7%8E%EC%9D%80%20%EA%B8%80%EC%9E%90.ipynb\" target=\"_parent\"><img src=\"https://colab.research.google.com/assets/colab-badge.svg\" alt=\"Open In Colab\"/></a>"
      ]
    },
    {
      "cell_type": "code",
      "source": [
        "# 1371 : 가장 많은 글자\n",
        "t = []\n",
        "while True:\n",
        "    try:\n",
        "        s = list(str(input()))\n",
        "        t.append(s)\n",
        "    except EOFError:\n",
        "        break\n",
        "t = sum(t,[])\n",
        "k = 0\n",
        "answer = ''\n",
        "alpha = ['a','b','c','d','e','f','g','h','i','j','k','l','m','n','o','p','q','r','s','t','u','v','w','x','y','z']\n",
        "for i in alpha:\n",
        "    if t.count(i) > k:\n",
        "        k = t.count(i)\n",
        "        answer = ''\n",
        "        answer += i\n",
        "    elif t.count(i) == k:\n",
        "        answer += i\n",
        "print(answer)"
      ],
      "metadata": {
        "id": "Spp3EPn4RMrz"
      },
      "execution_count": null,
      "outputs": []
    }
  ]
}