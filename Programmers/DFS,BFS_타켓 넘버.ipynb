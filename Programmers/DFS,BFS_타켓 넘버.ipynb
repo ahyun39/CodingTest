{
  "nbformat": 4,
  "nbformat_minor": 0,
  "metadata": {
    "colab": {
      "name": "Solved problem.ipynb",
      "provenance": [],
      "collapsed_sections": [],
      "authorship_tag": "ABX9TyPsO+ascEIjrX2jn/2tvXH2",
      "include_colab_link": true
    },
    "kernelspec": {
      "name": "python3",
      "display_name": "Python 3"
    },
    "language_info": {
      "name": "python"
    }
  },
  "cells": [
    {
      "cell_type": "markdown",
      "metadata": {
        "id": "view-in-github",
        "colab_type": "text"
      },
      "source": [
        "<a href=\"https://colab.research.google.com/github/A-A27/Programmers/blob/main/%08Programmers/DFS%2CBFS_%ED%83%80%EC%BC%93%20%EB%84%98%EB%B2%84.ipynb\" target=\"_parent\"><img src=\"https://colab.research.google.com/assets/colab-badge.svg\" alt=\"Open In Colab\"/></a>"
      ]
    },
    {
      "cell_type": "code",
      "source": [
        "# 깊이/너비 우선 탐색(DFS/BFS) _ 타켓 넘버\n",
        "def solution(numbers, target):\n",
        "    answer = 0\n",
        "    overVal = (sum(numbers) - target)//2  # 잉여 값 구하기. 이 값을 만들 경우의 수를 구해야함\n",
        "    length = len(numbers)\n",
        "\n",
        "    def recursive(target, idx, cnt):  # 목표 숫자, 리스트에서 현재 위치, 경우 갯수\n",
        "        for i in range(idx, length):\n",
        "            temp = target\n",
        "            temp -= numbers[i]\n",
        "            if temp == 0:\n",
        "                cnt += 1\n",
        "            elif temp > 0:\n",
        "                cnt += recursive(temp, i+1, 0)\n",
        "            elif temp < 0:\n",
        "                continue\n",
        "        return cnt\n",
        "\n",
        "    return recursive(overVal, 0, 0)\n",
        "solution([1, 1, 1, 1, 1], 3)"
      ],
      "metadata": {
        "colab": {
          "base_uri": "https://localhost:8080/"
        },
        "id": "SgVvbR-YZLa2",
        "outputId": "de276bbb-f302-4cf2-bcc9-764a475b3753"
      },
      "execution_count": 1,
      "outputs": [
        {
          "output_type": "execute_result",
          "data": {
            "text/plain": [
              "5"
            ]
          },
          "metadata": {},
          "execution_count": 1
        }
      ]
    }
  ]
}