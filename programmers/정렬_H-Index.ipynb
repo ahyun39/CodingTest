{
  "nbformat": 4,
  "nbformat_minor": 0,
  "metadata": {
    "colab": {
      "name": "Solved problem.ipynb",
      "provenance": [],
      "collapsed_sections": [],
      "authorship_tag": "ABX9TyOTwNDJ4GxeCxLDn4uQW3WU",
      "include_colab_link": true
    },
    "kernelspec": {
      "name": "python3",
      "display_name": "Python 3"
    },
    "language_info": {
      "name": "python"
    }
  },
  "cells": [
    {
      "cell_type": "markdown",
      "metadata": {
        "id": "view-in-github",
        "colab_type": "text"
      },
      "source": [
        "<a href=\"https://colab.research.google.com/github/A-A27/Programmers/blob/main/programmers/%EC%A0%95%EB%A0%AC_H-Index.ipynb\" target=\"_parent\"><img src=\"https://colab.research.google.com/assets/colab-badge.svg\" alt=\"Open In Colab\"/></a>"
      ]
    },
    {
      "cell_type": "code",
      "source": [
        "# 정렬 _ H-Index\n",
        "def solution(citations):\n",
        "    answer = 0\n",
        "    maxl = max(citations)\n",
        "    h = []\n",
        "    if len(citations) >= 1:\n",
        "        for i in range(maxl):\n",
        "            less = 0\n",
        "            more = 0\n",
        "            for j in citations:\n",
        "                if j >= i:\n",
        "                    more += 1\n",
        "                elif j < i:\n",
        "                    less += 1\n",
        "            if more >= i and less <= i:\n",
        "                h.append(i)\n",
        "        if len(h) >= 1:\n",
        "            answer = max(h)\n",
        "        else:\n",
        "            answer = max(citations)\n",
        "        return answer\n",
        "solution([3, 0, 6, 1, 5])\n",
        "\n",
        "# 다른 풀이...\n",
        "def solution(citations):\n",
        "    citations.sort(reverse=True)\n",
        "    answer = max(map(min, enumerate(citations, start=1)))\n",
        "    return answer"
      ],
      "metadata": {
        "colab": {
          "base_uri": "https://localhost:8080/"
        },
        "id": "SgVvbR-YZLa2",
        "outputId": "cd891dc3-be6b-41cc-b5d5-5a3bf2ad9069"
      },
      "execution_count": 1,
      "outputs": [
        {
          "output_type": "execute_result",
          "data": {
            "text/plain": [
              "3"
            ]
          },
          "metadata": {},
          "execution_count": 1
        }
      ]
    }
  ]
}