{
  "nbformat": 4,
  "nbformat_minor": 0,
  "metadata": {
    "colab": {
      "provenance": [],
      "collapsed_sections": [],
      "authorship_tag": "ABX9TyPq8ymrGzB1cLCZdWLAGe9b",
      "include_colab_link": true
    },
    "kernelspec": {
      "name": "python3",
      "display_name": "Python 3"
    },
    "language_info": {
      "name": "python"
    }
  },
  "cells": [
    {
      "cell_type": "markdown",
      "metadata": {
        "id": "view-in-github",
        "colab_type": "text"
      },
      "source": [
        "<a href=\"https://colab.research.google.com/github/A-A27/Programmers/blob/main/programmers/PCCP%20%EB%AA%A8%EC%9D%98%EA%B3%A0%EC%82%AC%201%ED%9A%8C_1%EB%B2%88.ipynb\" target=\"_parent\"><img src=\"https://colab.research.google.com/assets/colab-badge.svg\" alt=\"Open In Colab\"/></a>"
      ]
    },
    {
      "cell_type": "code",
      "source": [
        "# PCCP 모의고사 1회 _ 1번\n",
        "import numpy\n",
        "def solution(input_string):\n",
        "    answer = []\n",
        "    test_str = []\n",
        "    a = list(input_string)\n",
        "    for i in range(len(input_string)):\n",
        "        b = []\n",
        "        if a.count(input_string[i]) > 1 and input_string[i] not in test_str:\n",
        "            test_str.append(input_string[i])\n",
        "            t = a.count(input_string[i])\n",
        "            k = numpy.array(list(input_string))\n",
        "            b.append(numpy.where(k == input_string[i])[0])\n",
        "            tp = b[0][0]\n",
        "            for h in range(tp+1,tp+t):\n",
        "                tp += h\n",
        "            if tp != sum(b[0]) and input_string[i] not in answer:\n",
        "                answer.append(input_string[i])\n",
        "    if answer == []:\n",
        "        return \"N\"\n",
        "    answer.sort()\n",
        "    return \"\".join(answer)\n",
        "solution(\"eeddee\")"
      ],
      "metadata": {
        "colab": {
          "base_uri": "https://localhost:8080/",
          "height": 36
        },
        "id": "sRuIB13LrH9f",
        "outputId": "b4cdb233-0e22-446b-da97-2447754dff81"
      },
      "execution_count": 1,
      "outputs": [
        {
          "output_type": "execute_result",
          "data": {
            "text/plain": [
              "'e'"
            ],
            "application/vnd.google.colaboratory.intrinsic+json": {
              "type": "string"
            }
          },
          "metadata": {},
          "execution_count": 1
        }
      ]
    }
  ]
}