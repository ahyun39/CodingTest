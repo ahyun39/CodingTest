{
  "nbformat": 4,
  "nbformat_minor": 0,
  "metadata": {
    "colab": {
      "name": "Solved problem.ipynb",
      "provenance": [],
      "collapsed_sections": [],
      "authorship_tag": "ABX9TyMvlOc/BpC2h9ABmUK+xgD1",
      "include_colab_link": true
    },
    "kernelspec": {
      "name": "python3",
      "display_name": "Python 3"
    },
    "language_info": {
      "name": "python"
    }
  },
  "cells": [
    {
      "cell_type": "markdown",
      "metadata": {
        "id": "view-in-github",
        "colab_type": "text"
      },
      "source": [
        "<a href=\"https://colab.research.google.com/github/A-A27/Baekjoon_Python/blob/main/programmers/%EC%99%84%EC%A0%84%ED%83%90%EC%83%89_%EC%86%8C%EC%88%98%20%EC%B0%BE%EA%B8%B0.ipynb\" target=\"_parent\"><img src=\"https://colab.research.google.com/assets/colab-badge.svg\" alt=\"Open In Colab\"/></a>"
      ]
    },
    {
      "cell_type": "markdown",
      "source": [
        "Solved Problem"
      ],
      "metadata": {
        "id": "r6v6x4aYshb-"
      }
    },
    {
      "cell_type": "code",
      "source": [
        "# 완전탐색 _ 소수 찾기\n",
        "from itertools import permutations\n",
        "import math\n",
        "def solution(numbers):\n",
        "  answer = 0\n",
        "  pernum = []\n",
        "  numbers = [numbers[i] for i in range(len(numbers))]\n",
        "  for i in range(1, len(numbers)+1):\n",
        "    perL = list(permutations(numbers, i))\n",
        "    for j in perL:\n",
        "      if j[0] != '0':\n",
        "        pernum.append( ''.join(list(j)))\n",
        "  pernum = list(set(pernum))\n",
        "  for i in pernum:\n",
        "    if i != '1':\n",
        "      i = int(i)\n",
        "      t = 0\n",
        "      for k in range(2, int(math.sqrt(i)+1)):\n",
        "        if i % k == 0:\n",
        "          t += 1\n",
        "      if t == 0:\n",
        "        answer += 1\n",
        "  return answer \n",
        "\n",
        "solution(\"011\")\n",
        "\n",
        "# 다른 풀이...\n",
        "from iterfools import permutations\n",
        "def solution(n):\n",
        "  a = set()\n",
        "  for i in range(len(n)):\n",
        "    a |= set(map(int, map(\"\".join, permutations(list(n), i + 1))))\n",
        "  a -= set(range(0,2))\n",
        "  for i in range(2, int(max(a) ** 0.5) + 1):\n",
        "    a -= set(range(i*2, max(a) + 1, i))\n",
        "  return len(a)"
      ],
      "metadata": {
        "colab": {
          "base_uri": "https://localhost:8080/"
        },
        "id": "WFLusbsjFZFh",
        "outputId": "893bad4a-efec-472c-ed85-16f2661fc037"
      },
      "execution_count": 1,
      "outputs": [
        {
          "output_type": "execute_result",
          "data": {
            "text/plain": [
              "2"
            ]
          },
          "metadata": {},
          "execution_count": 1
        }
      ]
    }
  ]
}