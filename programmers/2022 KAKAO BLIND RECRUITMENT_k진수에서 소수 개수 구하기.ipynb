{
  "nbformat": 4,
  "nbformat_minor": 0,
  "metadata": {
    "colab": {
      "name": "Untitled2.ipynb",
      "provenance": [],
      "authorship_tag": "ABX9TyModZbYC8Ncaw0de1x1URv2",
      "include_colab_link": true
    },
    "kernelspec": {
      "name": "python3",
      "display_name": "Python 3"
    },
    "language_info": {
      "name": "python"
    }
  },
  "cells": [
    {
      "cell_type": "markdown",
      "metadata": {
        "id": "view-in-github",
        "colab_type": "text"
      },
      "source": [
        "<a href=\"https://colab.research.google.com/github/A-A27/Baekjoon_Python/blob/main/programmers/2022%20KAKAO%20BLIND%20RECRUITMENT_k%EC%A7%84%EC%88%98%EC%97%90%EC%84%9C%20%EC%86%8C%EC%88%98%20%EA%B0%9C%EC%88%98%20%EA%B5%AC%ED%95%98%EA%B8%B0.ipynb\" target=\"_parent\"><img src=\"https://colab.research.google.com/assets/colab-badge.svg\" alt=\"Open In Colab\"/></a>"
      ]
    },
    {
      "cell_type": "code",
      "source": [
        "# 2022 KAKAO BLIND RECRUITMENT_k진수에서 소수 개수 구하기\n",
        "def solution(n, k):\n",
        "    turnTok = int(str(n),10)\n",
        "    str_n = ''\n",
        "    answer = 0\n",
        "    while turnTok > 0:\n",
        "        turnTok, b = divmod(turnTok,k)\n",
        "        str_n += str(b)\n",
        "    str_n = str_n[::-1]\n",
        "    str_list = list(str_n.split('0'))\n",
        "    for i in range(len(str_list)):\n",
        "        a = 0\n",
        "        if str_list[i] != \"\":\n",
        "            for t in range(2,int(int(str_list[i])**0.5)+1):\n",
        "                if int(str_list[i]) % t == 0:\n",
        "                    a += 1\n",
        "            if a == 0:\n",
        "                answer += 1\n",
        "    answer = answer - str_list.count('1')\n",
        "    return answer\n",
        "solution(110011,10)"
      ],
      "metadata": {
        "colab": {
          "base_uri": "https://localhost:8080/"
        },
        "id": "ApjuKLcUYhlD",
        "outputId": "cf0ae0af-811a-48c4-bb69-8f08e0e27cc5"
      },
      "execution_count": 38,
      "outputs": [
        {
          "output_type": "execute_result",
          "data": {
            "text/plain": [
              "2"
            ]
          },
          "metadata": {},
          "execution_count": 38
        }
      ]
    }
  ]
}