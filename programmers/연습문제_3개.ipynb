{
  "nbformat": 4,
  "nbformat_minor": 0,
  "metadata": {
    "colab": {
      "name": "연습문제2.ipynb",
      "provenance": [],
      "authorship_tag": "ABX9TyM46Bpwoab1xs8wTrvp6Z5z",
      "include_colab_link": true
    },
    "kernelspec": {
      "name": "python3",
      "display_name": "Python 3"
    },
    "language_info": {
      "name": "python"
    }
  },
  "cells": [
    {
      "cell_type": "markdown",
      "metadata": {
        "id": "view-in-github",
        "colab_type": "text"
      },
      "source": [
        "<a href=\"https://colab.research.google.com/github/A-A27/Baekjoon_Python/blob/main/programmers/%EC%97%B0%EC%8A%B5%EB%AC%B8%EC%A0%9C_3%EA%B0%9C.ipynb\" target=\"_parent\"><img src=\"https://colab.research.google.com/assets/colab-badge.svg\" alt=\"Open In Colab\"/></a>"
      ]
    },
    {
      "cell_type": "code",
      "source": [
        "# 연습문제 _ 서울에서 김서방 찾기\n",
        "def solution(seoul):\n",
        "  i = seoul.index(\"Kim\")\n",
        "  answer = \"김서방은 \" + str(i) +\"에 있다\"\n",
        "  return answer\n",
        "solution([\"Jane\", \"Kim\"])\n",
        "\n",
        "# 다른 풀이...\n",
        "def findKim(seoul):\n",
        "  return \"김서방은 {}에 있다\".format(seoul.index('Kim'))"
      ],
      "metadata": {
        "colab": {
          "base_uri": "https://localhost:8080/",
          "height": 36
        },
        "id": "vbxTSxp7YKWk",
        "outputId": "78160016-d8a6-44a3-aaea-0b774bff63cb"
      },
      "execution_count": 20,
      "outputs": [
        {
          "output_type": "execute_result",
          "data": {
            "text/plain": [
              "'김서방은 1에 있다'"
            ],
            "application/vnd.google.colaboratory.intrinsic+json": {
              "type": "string"
            }
          },
          "metadata": {},
          "execution_count": 20
        }
      ]
    },
    {
      "cell_type": "code",
      "source": [
        "# 연습문제 _ 문자열 다루기 기본\n",
        "def solution(s):\n",
        "  list_num = str([0,1,2,3,4,5,6,7,8,9])\n",
        "  a = 0\n",
        "  s = str(s)\n",
        "  if len(s) == 4 or len(s) == 6:\n",
        "    for i in range(len(s)):\n",
        "      if s[i] in list_num:\n",
        "        a += 1\n",
        "    if a == len(s):\n",
        "      answer = True\n",
        "    else:\n",
        "      answer = False\n",
        "    return answer\n",
        "  else:\n",
        "    return False\n",
        "solution(\"21425\")\n",
        "\n",
        "# 다른 풀이...\n",
        "def alpha_string46(s):\n",
        "  return s.isdigit() and len(s) in (4,6)"
      ],
      "metadata": {
        "colab": {
          "base_uri": "https://localhost:8080/"
        },
        "id": "e4_vseMbxlz5",
        "outputId": "67a57c0e-a351-4d75-a853-bf532b910cf6"
      },
      "execution_count": 38,
      "outputs": [
        {
          "output_type": "execute_result",
          "data": {
            "text/plain": [
              "False"
            ]
          },
          "metadata": {},
          "execution_count": 38
        }
      ]
    },
    {
      "cell_type": "code",
      "source": [
        "# 연습문제 _ 문자열 내림차순으로 배치하기\n",
        "def solution(s):\n",
        "  s = sorted(s,reverse=True)\n",
        "  answer = ''.join(s)\n",
        "  return answer\n",
        "solution(\"ZzQAbcdefg\")\n",
        "\n",
        "# 다른 풀이...\n",
        "def solution(s):\n",
        "  return ''.join(sorted(s, reverse = True))"
      ],
      "metadata": {
        "colab": {
          "base_uri": "https://localhost:8080/",
          "height": 36
        },
        "id": "AMXzUbYW0XxK",
        "outputId": "17fee233-3ad6-4494-c7b1-6223df82d941"
      },
      "execution_count": 45,
      "outputs": [
        {
          "output_type": "execute_result",
          "data": {
            "text/plain": [
              "'zgfedcbZQA'"
            ],
            "application/vnd.google.colaboratory.intrinsic+json": {
              "type": "string"
            }
          },
          "metadata": {},
          "execution_count": 45
        }
      ]
    }
  ]
}