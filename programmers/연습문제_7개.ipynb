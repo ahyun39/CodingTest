{
  "nbformat": 4,
  "nbformat_minor": 0,
  "metadata": {
    "colab": {
      "name": "연습문제_6개.ipynb",
      "provenance": [],
      "collapsed_sections": [],
      "authorship_tag": "ABX9TyNUqvvPLCOY4gfsMsw1y3Mu",
      "include_colab_link": true
    },
    "kernelspec": {
      "name": "python3",
      "display_name": "Python 3"
    },
    "language_info": {
      "name": "python"
    }
  },
  "cells": [
    {
      "cell_type": "markdown",
      "metadata": {
        "id": "view-in-github",
        "colab_type": "text"
      },
      "source": [
        "<a href=\"https://colab.research.google.com/github/A-A27/Baekjoon_Python/blob/main/programmers/%EC%97%B0%EC%8A%B5%EB%AC%B8%EC%A0%9C_7%EA%B0%9C.ipynb\" target=\"_parent\"><img src=\"https://colab.research.google.com/assets/colab-badge.svg\" alt=\"Open In Colab\"/></a>"
      ]
    },
    {
      "cell_type": "code",
      "source": [
        "# 연습문제 _ 하샤드 수\n",
        "def solution(x):\n",
        "  list = [int((str(x))[i]) for i in range(len(str(x)))]\n",
        "  answer = sum(list)\n",
        "  return x%answer == 0\n",
        "solution(10)\n",
        "\n",
        "# 다른 풀이... (비슷)\n",
        "def Harshad(n):\n",
        "  return n % sum([int(c) for c in str(n)]) == 0"
      ],
      "metadata": {
        "colab": {
          "base_uri": "https://localhost:8080/"
        },
        "id": "wGaji8WgkbWB",
        "outputId": "b4d6306e-f604-4921-ae9f-a4ccd2fd627f"
      },
      "execution_count": null,
      "outputs": [
        {
          "output_type": "execute_result",
          "data": {
            "text/plain": [
              "True"
            ]
          },
          "metadata": {},
          "execution_count": 29
        }
      ]
    },
    {
      "cell_type": "code",
      "source": [
        "# 연습문제 _ 평균 구하기\n",
        "def solution(arr):\n",
        "  answer = sum(arr)/len(arr)\n",
        "  return answer\n",
        "solution([1,2,3,4])"
      ],
      "metadata": {
        "colab": {
          "base_uri": "https://localhost:8080/"
        },
        "id": "JIb0fBgPnocv",
        "outputId": "71e5ab4b-2b22-4a42-deb5-d35d4a41ffc2"
      },
      "execution_count": null,
      "outputs": [
        {
          "output_type": "execute_result",
          "data": {
            "text/plain": [
              "2.5"
            ]
          },
          "metadata": {},
          "execution_count": 31
        }
      ]
    },
    {
      "cell_type": "code",
      "source": [
        "# 연습문제 _ 콜라츠 추측\n",
        "def solution(num):\n",
        "  answer = 0\n",
        "  while num != 1:\n",
        "    try:\n",
        "      if num%2 == 0:\n",
        "        num = num / 2\n",
        "        answer += 1\n",
        "      elif num%2 != 0:\n",
        "        num = num*3 + 1\n",
        "        answer += 1\n",
        "    except:\n",
        "        break\n",
        "  if answer >= 500:\n",
        "    answer = -1\n",
        "  return answer\n",
        "solution(6)"
      ],
      "metadata": {
        "colab": {
          "base_uri": "https://localhost:8080/"
        },
        "id": "aA465L6qoXEe",
        "outputId": "d376071f-8e4d-43b6-f617-6f0f11335995"
      },
      "execution_count": null,
      "outputs": [
        {
          "output_type": "execute_result",
          "data": {
            "text/plain": [
              "8"
            ]
          },
          "metadata": {},
          "execution_count": 40
        }
      ]
    },
    {
      "cell_type": "code",
      "source": [
        "# 연습문제 _ 짝수와 홀수\n",
        "def solution(num):\n",
        "  answer = ''\n",
        "  if num%2 == 0:\n",
        "    answer = 'Even'\n",
        "  else:\n",
        "    answer = 'Odd'\n",
        "  return answer\n",
        "solution(3)"
      ],
      "metadata": {
        "colab": {
          "base_uri": "https://localhost:8080/",
          "height": 36
        },
        "id": "miQsQfa0tQCn",
        "outputId": "2963a613-24f5-4ced-feb2-68379c5fe3c9"
      },
      "execution_count": null,
      "outputs": [
        {
          "output_type": "execute_result",
          "data": {
            "text/plain": [
              "'Odd'"
            ],
            "application/vnd.google.colaboratory.intrinsic+json": {
              "type": "string"
            }
          },
          "metadata": {},
          "execution_count": 41
        }
      ]
    },
    {
      "cell_type": "code",
      "source": [
        "# 연습문제 _ 제일 작은 수 제거하기\n",
        "def solution(arr):\n",
        "  arr.remove(min(arr))\n",
        "  if len(arr) == 0:\n",
        "    arr.append(-1)\n",
        "  return arr\n",
        "solution([4,3,2,1])"
      ],
      "metadata": {
        "colab": {
          "base_uri": "https://localhost:8080/"
        },
        "id": "o_mEtinztzb2",
        "outputId": "a525c79d-4b4b-43eb-f939-b7b900b20567"
      },
      "execution_count": null,
      "outputs": [
        {
          "output_type": "execute_result",
          "data": {
            "text/plain": [
              "[4, 3, 2]"
            ]
          },
          "metadata": {},
          "execution_count": 48
        }
      ]
    },
    {
      "cell_type": "code",
      "source": [
        "# 연습문제 _ 정수 제곱근 판별\n",
        "import math\n",
        "def solution(n):\n",
        "  if str(math.sqrt(n))[len(str(math.sqrt(n)))-2: len(str(math.sqrt(n)))] == '.0':\n",
        "    answer = (int(math.sqrt(n))+1)**2\n",
        "  else:\n",
        "    answer = -1\n",
        "  return answer\n",
        "solution(121)"
      ],
      "metadata": {
        "id": "FDpZFbJcvsjS",
        "colab": {
          "base_uri": "https://localhost:8080/"
        },
        "outputId": "f51afcd0-359c-47d8-b121-5bc5e06c55a5"
      },
      "execution_count": null,
      "outputs": [
        {
          "output_type": "execute_result",
          "data": {
            "text/plain": [
              "144"
            ]
          },
          "metadata": {},
          "execution_count": 38
        }
      ]
    },
    {
      "cell_type": "code",
      "source": [
        "# 연습문제 _ 정수 내림차순으로 배치하기\n",
        "def solution(n):\n",
        "  list_n = list(str(int(n)))\n",
        "  list_n.sort(reverse=True)\n",
        "  answer = int(''.join(list_n))\n",
        "  return answer\n",
        "solution(5830359893)"
      ],
      "metadata": {
        "colab": {
          "base_uri": "https://localhost:8080/"
        },
        "id": "NPEqSdMNSLAw",
        "outputId": "9c24d852-ece7-410b-e04a-96efb4095007"
      },
      "execution_count": null,
      "outputs": [
        {
          "output_type": "execute_result",
          "data": {
            "text/plain": [
              "9988553330"
            ]
          },
          "metadata": {},
          "execution_count": 25
        }
      ]
    },
    {
      "cell_type": "code",
      "source": [
        "# 연습문제 _ 자연수 뒤집어 배열로 만들기\n",
        "def solution(n):\n",
        "  list_n = list(str(n))\n",
        "  list_r = list(str(n))\n",
        "  for i in range(len(list_n)):\n",
        "    list_r[i] = int(list_n[len(list_n)-i-1])\n",
        "  return list_r\n",
        "solution(12345)\n",
        "\n",
        "# 다른 풀이...\n",
        "def digit_reverse(n):\n",
        "  return list(map(int,reversed(str(n))))"
      ],
      "metadata": {
        "colab": {
          "base_uri": "https://localhost:8080/"
        },
        "id": "1FV46HHOSRH9",
        "outputId": "0cd34631-fd14-4af4-b803-eed5d3851675"
      },
      "execution_count": null,
      "outputs": [
        {
          "output_type": "execute_result",
          "data": {
            "text/plain": [
              "[5, 4, 3, 2, 1]"
            ]
          },
          "metadata": {},
          "execution_count": 37
        }
      ]
    },
    {
      "cell_type": "code",
      "source": [
        "# 연습문제 _ 자릿수 더하기\n",
        "def solution(n):\n",
        "  return sum(list(map(int,str(n))))\n",
        "solution(123)"
      ],
      "metadata": {
        "colab": {
          "base_uri": "https://localhost:8080/"
        },
        "id": "yl-8_6M91JD3",
        "outputId": "2ba668aa-b0cb-4d77-96ca-3c547337e3ac"
      },
      "execution_count": 1,
      "outputs": [
        {
          "output_type": "execute_result",
          "data": {
            "text/plain": [
              "6"
            ]
          },
          "metadata": {},
          "execution_count": 1
        }
      ]
    }
  ]
}