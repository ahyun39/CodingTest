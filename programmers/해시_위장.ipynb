{
  "nbformat": 4,
  "nbformat_minor": 0,
  "metadata": {
    "colab": {
      "name": "Solved problem.ipynb",
      "provenance": [],
      "collapsed_sections": [],
      "authorship_tag": "ABX9TyM4B5sQcyDjL0Jw2ADjVxzk",
      "include_colab_link": true
    },
    "kernelspec": {
      "name": "python3",
      "display_name": "Python 3"
    },
    "language_info": {
      "name": "python"
    }
  },
  "cells": [
    {
      "cell_type": "markdown",
      "metadata": {
        "id": "view-in-github",
        "colab_type": "text"
      },
      "source": [
        "<a href=\"https://colab.research.google.com/github/A-A27/Programmers/blob/main/programmers/%ED%95%B4%EC%8B%9C_%EC%9C%84%EC%9E%A5.ipynb\" target=\"_parent\"><img src=\"https://colab.research.google.com/assets/colab-badge.svg\" alt=\"Open In Colab\"/></a>"
      ]
    },
    {
      "cell_type": "code",
      "source": [
        "# 해시 _ 위장\n",
        "def solution(clothes):\n",
        "    c = [hash(clothes[x][1]) for x in range(len(clothes))] # 종류\n",
        "    cn = {}\n",
        "    for i in c:\n",
        "        cn[i] = c.count(i) + 1\n",
        "    if len(cn) > 1:\n",
        "        answer = 1\n",
        "        for i in list(cn.values()):\n",
        "            answer *= i\n",
        "        answer -= 1\n",
        "    else:\n",
        "        answer = len(clothes)\n",
        "    return answer\n",
        "solution([[\"yellowhat\", \"headgear\"], [\"bluesunglasses\", \"eyewear\"], [\"green_turban\", \"headgear\"]])\n"
      ],
      "metadata": {
        "id": "DANswSV-VAAv",
        "outputId": "66648dd4-2ffb-4ea2-8ef6-b5545a4fd6f4",
        "colab": {
          "base_uri": "https://localhost:8080/"
        }
      },
      "execution_count": 2,
      "outputs": [
        {
          "output_type": "execute_result",
          "data": {
            "text/plain": [
              "5"
            ]
          },
          "metadata": {},
          "execution_count": 2
        }
      ]
    }
  ]
}