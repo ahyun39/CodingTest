{
  "nbformat": 4,
  "nbformat_minor": 0,
  "metadata": {
    "colab": {
      "name": "프로그래머스0411.ipynb",
      "provenance": [],
      "authorship_tag": "ABX9TyP5JOiCb2JN9i1KSCALXWxG",
      "include_colab_link": true
    },
    "kernelspec": {
      "name": "python3",
      "display_name": "Python 3"
    },
    "language_info": {
      "name": "python"
    }
  },
  "cells": [
    {
      "cell_type": "markdown",
      "metadata": {
        "id": "view-in-github",
        "colab_type": "text"
      },
      "source": [
        "<a href=\"https://colab.research.google.com/github/A-A27/Baekjoon_Python/blob/main/programmers/%EC%8A%A4%ED%82%AC%20%EC%B2%B4%ED%81%AC%20%ED%85%8C%EC%8A%A4%ED%8A%B8%20Level.1.ipynb\" target=\"_parent\"><img src=\"https://colab.research.google.com/assets/colab-badge.svg\" alt=\"Open In Colab\"/></a>"
      ]
    },
    {
      "cell_type": "code",
      "execution_count": 16,
      "metadata": {
        "colab": {
          "base_uri": "https://localhost:8080/"
        },
        "id": "VEIH_AboiprN",
        "outputId": "15c812cb-497a-44fe-e07d-2ea2550a3818"
      },
      "outputs": [
        {
          "output_type": "execute_result",
          "data": {
            "text/plain": [
              "7"
            ]
          },
          "metadata": {},
          "execution_count": 16
        }
      ],
      "source": [
        "def solution(n):\n",
        "  str_n = ''\n",
        "  while n > 0:\n",
        "    n, b = divmod(n,3)\n",
        "    str_n += str(b)\n",
        "  return int(str_n,3)\n",
        "solution(45)"
      ]
    }
  ]
}