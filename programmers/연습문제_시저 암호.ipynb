{
  "nbformat": 4,
  "nbformat_minor": 0,
  "metadata": {
    "colab": {
      "name": "연습문제2.ipynb",
      "provenance": [],
      "authorship_tag": "ABX9TyNsIx7WfrHQzT5Lu3M4DOwH",
      "include_colab_link": true
    },
    "kernelspec": {
      "name": "python3",
      "display_name": "Python 3"
    },
    "language_info": {
      "name": "python"
    }
  },
  "cells": [
    {
      "cell_type": "markdown",
      "metadata": {
        "id": "view-in-github",
        "colab_type": "text"
      },
      "source": [
        "<a href=\"https://colab.research.google.com/github/A-A27/Baekjoon_Python/blob/main/programmers/%EC%97%B0%EC%8A%B5%EB%AC%B8%EC%A0%9C_%EC%8B%9C%EC%A0%80%20%EC%95%94%ED%98%B8.ipynb\" target=\"_parent\"><img src=\"https://colab.research.google.com/assets/colab-badge.svg\" alt=\"Open In Colab\"/></a>"
      ]
    },
    {
      "cell_type": "code",
      "execution_count": 33,
      "metadata": {
        "colab": {
          "base_uri": "https://localhost:8080/",
          "height": 36
        },
        "id": "CW1QDsNn5t_D",
        "outputId": "64382aed-cf4b-4c26-8040-a1b9b8d0f831"
      },
      "outputs": [
        {
          "output_type": "execute_result",
          "data": {
            "text/plain": [
              "'a'"
            ],
            "application/vnd.google.colaboratory.intrinsic+json": {
              "type": "string"
            }
          },
          "metadata": {},
          "execution_count": 33
        }
      ],
      "source": [
        "# 연습문제 _ 시저 암호\n",
        "def solution(s, n):\n",
        "  list_s = list(s)\n",
        "  a = list('abcdefghijklmnopqrstuvwxyz')\n",
        "  b = list('ABCDEFGHIJKLMNOPQRSTUVWXYZ')\n",
        "  for i in range(len(s)):\n",
        "    if s[i] in a:\n",
        "      if a.index(s[i])+n >= 26:\n",
        "        list_s[i] = a[a.index(s[i])+n-26]\n",
        "      else:\n",
        "        list_s[i] = a[a.index(s[i])+n]\n",
        "    elif s[i] in b:\n",
        "      if b.index(s[i])+n >= 26:\n",
        "        list_s[i] = b[b.index(s[i])+n-26]\n",
        "      else:\n",
        "        list_s[i] = b[b.index(s[i])+n]\n",
        "  answer = ''.join(list_s)\n",
        "  return answer\n",
        "solution(\"z\", 1)"
      ]
    }
  ]
}