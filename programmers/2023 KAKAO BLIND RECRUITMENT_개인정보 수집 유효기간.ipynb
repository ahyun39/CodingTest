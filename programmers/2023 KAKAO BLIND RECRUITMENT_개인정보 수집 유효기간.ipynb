{
  "nbformat": 4,
  "nbformat_minor": 0,
  "metadata": {
    "colab": {
      "provenance": [],
      "authorship_tag": "ABX9TyPWYA1YmiFiujXGCxipZYsN",
      "include_colab_link": true
    },
    "kernelspec": {
      "name": "python3",
      "display_name": "Python 3"
    },
    "language_info": {
      "name": "python"
    }
  },
  "cells": [
    {
      "cell_type": "markdown",
      "metadata": {
        "id": "view-in-github",
        "colab_type": "text"
      },
      "source": [
        "<a href=\"https://colab.research.google.com/github/A-A27/Programmers/blob/main/programmers/2023%20KAKAO%20BLIND%20RECRUITMENT_%EA%B0%9C%EC%9D%B8%EC%A0%95%EB%B3%B4%20%EC%88%98%EC%A7%91%20%EC%9C%A0%ED%9A%A8%EA%B8%B0%EA%B0%84.ipynb\" target=\"_parent\"><img src=\"https://colab.research.google.com/assets/colab-badge.svg\" alt=\"Open In Colab\"/></a>"
      ]
    },
    {
      "cell_type": "code",
      "source": [
        "def solution(today, terms, privacies):\n",
        "    answer = []\n",
        "    term = {}\n",
        "    \n",
        "    for i in terms:\n",
        "        a, b = map(str, i.split())\n",
        "        term[a] = b\n",
        "\n",
        "    for i in range(len(privacies)):\n",
        "        a, b = map(str, privacies[i].split())\n",
        "        month_ = (int(a[5:7]) + int(term[b]))\n",
        "        if month_ > 12:\n",
        "            year_up = int(a[0:4]) + (month_ // 12) \n",
        "            month_ = month_ % 12\n",
        "            if month_ == 0:\n",
        "                year_up -= 1\n",
        "                month_ = 12\n",
        "            if month_ < 10:\n",
        "                month_ = str(0) + str(month_)\n",
        "            a = str(year_up) + '.' + str(month_) + a[7:10]\n",
        "        elif month_ <= 12:\n",
        "            if month_ < 10:\n",
        "                month_ = str(0) + str(month_)\n",
        "            a = a[0:5] + str(month_) + a[7:10]\n",
        "\n",
        "        if int(a[0:4]) < int(today[0:4]):\n",
        "            answer.append(i+1)\n",
        "        if int(a[0:4]) == int(today[0:4]):\n",
        "            if int(a[5:7]) < int(today[5:7]):\n",
        "                answer.append(i+1)\n",
        "            elif int(a[5:7]) == int(today[5:7]):\n",
        "                if int(a[8:10]) <= int(today[8:10]):\n",
        "                    answer.append(i+1)\n",
        "    return answer\n",
        "solution(\"2022.02.28\", [\"A 23\"], [\"2020.01.28 A\"])"
      ],
      "metadata": {
        "colab": {
          "base_uri": "https://localhost:8080/"
        },
        "id": "C7B2YRO327P9",
        "outputId": "a4bea39e-8f98-498e-9d85-719ceca64441"
      },
      "execution_count": 39,
      "outputs": [
        {
          "output_type": "execute_result",
          "data": {
            "text/plain": [
              "[1]"
            ]
          },
          "metadata": {},
          "execution_count": 39
        }
      ]
    }
  ]
}