{
  "nbformat": 4,
  "nbformat_minor": 0,
  "metadata": {
    "colab": {
      "name": "Solved problem.ipynb",
      "provenance": [],
      "collapsed_sections": [],
      "authorship_tag": "ABX9TyPQxLVU6pi/K1FPbnwlvxmX",
      "include_colab_link": true
    },
    "kernelspec": {
      "name": "python3",
      "display_name": "Python 3"
    },
    "language_info": {
      "name": "python"
    }
  },
  "cells": [
    {
      "cell_type": "markdown",
      "metadata": {
        "id": "view-in-github",
        "colab_type": "text"
      },
      "source": [
        "<a href=\"https://colab.research.google.com/github/A-A27/Baekjoon_Python/blob/main/programmers/2018%20KAKAO%20BLIND%20RECRUITMENT.ipynb\" target=\"_parent\"><img src=\"https://colab.research.google.com/assets/colab-badge.svg\" alt=\"Open In Colab\"/></a>"
      ]
    },
    {
      "cell_type": "code",
      "source": [
        "# 2018 KAKAO BLIND RECRUITMENT _ [1차]캐시\n",
        "# LRU 개념 _ 알고리즘 포함\n",
        "class Node:\n",
        "  def __init__(self, data, prev=None, next=None):\n",
        "    self.data = data\n",
        "    self.prev = prev\n",
        "    self.next = next \n",
        "\n",
        "class DoublyLinkedList:\n",
        "  def __init__(self, cacheSize, cacheanswer):\n",
        "    self.cacheSize = cacheSize\n",
        "    self.head = Node(\"\")\n",
        "    self.tail = Node(\"\")\n",
        "    self.head.next = self.tail\n",
        "    self.tail.prev = self.head\n",
        "    self.cacheanswer = cacheanswer\n",
        "\n",
        "  def LRU(self, data):\n",
        "        node = self.head.next\n",
        "        while(node.data):\n",
        "            if node.data == data:\n",
        "                self.cacheHit(node, data)\n",
        "                return\n",
        "            node = node.next\n",
        "        self.cacheMiss(data)\n",
        "    \n",
        "  # 원소 맨앞으로 이동\n",
        "  def cacheHit(self, node, data):\n",
        "        newcacheanswer = self.cacheanswer\n",
        "        newcacheanswer += 1\n",
        "        self.cacheanswer = newcacheanswer\n",
        "        self.removeNode(node)\n",
        "        self.addFront(data)\n",
        "        \n",
        "\n",
        "  # node 삭제\n",
        "  def removeNode(self, node):\n",
        "        node.prev.next, node.next.prev = node.next, node.prev\n",
        "       \n",
        "  # head 의 바로 뒤에 원소 넣기\n",
        "  def addFront(self, data):\n",
        "        newNode = Node(data)\n",
        "        self.head.next.prev = newNode\n",
        "        newNode.next = self.head.next\n",
        "        self.head.next = newNode\n",
        "        newNode.prev = self.head\n",
        "        \n",
        "  # 원소의 맨앞에 추가 (cacheSize 보다 커지면 tail에 가까운 노드 삭제)\n",
        "  def cacheMiss(self, data):\n",
        "        newcacheanswer = self.cacheanswer\n",
        "        newcacheanswer += 5\n",
        "        self.cacheanswer = newcacheanswer\n",
        "        self.addFront(data)\n",
        "        if self.totalLen() > self.cacheSize:\n",
        "            self.removeTail()\n",
        "        \n",
        "        \n",
        "  # linked list 의 총 길이 반환\n",
        "  def totalLen(self):\n",
        "        answer = 0\n",
        "        node = self.head.next\n",
        "        while(node.data):\n",
        "            answer += 1\n",
        "            node = node.next\n",
        "        return answer\n",
        "\n",
        "        \n",
        "  # tail 에 가장 가까운 원소 삭제\n",
        "  def removeTail(self):\n",
        "        self.tail.prev.prev.next = self.tail\n",
        "        self.tail.prev = self.tail.prev.prev\n",
        "      \n",
        "  # For Debug  \n",
        "  # head 부터 tail 까지 순환하면서 date 전부 출력\n",
        "  def printAll(self):\n",
        "        return self.cacheanswer\n",
        "\n",
        "def solution(cacheSize, cities):\n",
        "  cacheanswer = 0\n",
        "  test = DoublyLinkedList(cacheSize, cacheanswer)\n",
        "  for i in cities:\n",
        "    test.LRU(i.upper()) \n",
        "  return test.printAll()\n",
        "\n",
        "solution(2, [\"Jeju\", \"Pangyo\", \"NewYork\", \"newyork\"])\n",
        "\n",
        "# 다른 풀이...\n",
        "def solution(cacheSize, cities):\n",
        "  import collections\n",
        "  cache = collections.deque(maxlen = cacheSize)\n",
        "  time = 0\n",
        "  for i in cities:\n",
        "    s = i.lower()\n",
        "    if s in cache:\n",
        "      cache.remove(s)\n",
        "      cache.append(s)\n",
        "      time += 1\n",
        "    else:\n",
        "      cache.append(s)\n",
        "      time += 5\n",
        "  return time"
      ],
      "metadata": {
        "colab": {
          "base_uri": "https://localhost:8080/"
        },
        "id": "nvSzqRppY-HB",
        "outputId": "1a9069ad-cb87-45ee-b522-8c2b3bc6ed2c"
      },
      "execution_count": 1,
      "outputs": [
        {
          "output_type": "execute_result",
          "data": {
            "text/plain": [
              "16"
            ]
          },
          "metadata": {},
          "execution_count": 1
        }
      ]
    }
  ]
}