{
  "nbformat": 4,
  "nbformat_minor": 0,
  "metadata": {
    "colab": {
      "name": "Untitled2.ipynb",
      "provenance": [],
      "authorship_tag": "ABX9TyPytsKY5RnjZLLG5cmIy9Md",
      "include_colab_link": true
    },
    "kernelspec": {
      "name": "python3",
      "display_name": "Python 3"
    },
    "language_info": {
      "name": "python"
    }
  },
  "cells": [
    {
      "cell_type": "markdown",
      "metadata": {
        "id": "view-in-github",
        "colab_type": "text"
      },
      "source": [
        "<a href=\"https://colab.research.google.com/github/A-A27/Baekjoon_Python/blob/main/programmers/2021%20%EC%B9%B4%EC%B9%B4%EC%98%A4%20%EC%B1%84%EC%9A%A9%EC%97%B0%EA%B3%84%ED%98%95%20%EC%9D%B8%ED%84%B4%EC%8B%AD_%EA%B1%B0%EB%A6%AC%EB%91%90%EA%B8%B0%20%ED%99%95%EC%9D%B8%ED%95%98%EA%B8%B0.ipynb\" target=\"_parent\"><img src=\"https://colab.research.google.com/assets/colab-badge.svg\" alt=\"Open In Colab\"/></a>"
      ]
    },
    {
      "cell_type": "code",
      "source": [
        "# 2021 카카오 채용연계형 인턴십_거리두기 확인하기\n",
        "def solution(places):\n",
        "  answer = []\n",
        "  answerDict = {'0':1,'1':1, '2':1, '3':1, '4':1}\n",
        "  #1) O를 기준으로 상하좌우 P가 있는지 체크하자.(2개이상)\n",
        "  for i in range(5):\n",
        "      for k in range(5): # 열 (세로)\n",
        "        for t in range(5): # 행 (가로)\n",
        "          isthereP = 0\n",
        "          if places[i][k][t] == 'O':\n",
        "            if t-1 > 0 and places[i][k][t-1] == 'P':\n",
        "              isthereP += 1\n",
        "            if t+1 < 5 and places[i][k][t+1] == 'P':\n",
        "              isthereP += 1\n",
        "            if k-1 > 0 and places[i][k-1][t] == 'P':\n",
        "              isthereP += 1\n",
        "            if k+1 < 5 and places[i][k+1][t] == 'P':\n",
        "              isthereP += 1\n",
        "            if isthereP >= 2:\n",
        "              answerDict[str(i)] = 0\n",
        "              break\n",
        "  #2) P를 기준으로 상하좌우 P가 있는지 체크하자.(1개이상)\n",
        "  for i in range(5):\n",
        "    if i not in list(answerDict.keys()):\n",
        "      for k in range(5): # 열 (세로)\n",
        "        for t in range(5): # 행 (가로)\n",
        "          isthereP = 0 \n",
        "          if places[i][k][t] == 'P':\n",
        "            if k-1 > 0 and places[i][k-1][t] == 'P':\n",
        "              isthereP += 1\n",
        "            if k+1 < 5 and places[i][k+1][t] == 'P':\n",
        "              isthereP += 1\n",
        "            if t-1 > 0 and places[i][k][t-1] == 'P':\n",
        "              isthereP += 1\n",
        "            if t+1 < 5 and places[i][k][t+1] == 'P':\n",
        "              isthereP += 1\n",
        "            if isthereP >= 1:\n",
        "              answerDict[str(i)] = 0\n",
        "  answer = list(answerDict.values())\n",
        "  return answer \n",
        "solution([[\"OOPOO\", \"OPOOO\", \"OOOOO\", \"OOOOO\", \"OOOOO\"], [\"POOPX\", \"OXPXP\", \"PXXXO\", \"OXXXO\", \"OOOPP\"], [\"PXOPX\", \"OXOXP\", \"OXPOX\", \"OXXOP\", \"PXPOX\"], [\"OOOXX\", \"XOOOX\", \"OOOXX\", \"OXOOX\", \"OOOOO\"], [\"PXPXP\", \"XPXPX\", \"PXPXP\", \"XPXPX\", \"PXPXP\"]])"
      ],
      "metadata": {
        "colab": {
          "base_uri": "https://localhost:8080/"
        },
        "id": "8zzP4Qt53nr1",
        "outputId": "d732d89b-7655-4a60-e018-55cb5d5a7455"
      },
      "execution_count": 44,
      "outputs": [
        {
          "output_type": "execute_result",
          "data": {
            "text/plain": [
              "[0, 0, 1, 1, 1]"
            ]
          },
          "metadata": {},
          "execution_count": 44
        }
      ]
    }
  ]
}