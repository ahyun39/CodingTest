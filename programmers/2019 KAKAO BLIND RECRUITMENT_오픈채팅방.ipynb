{
  "nbformat": 4,
  "nbformat_minor": 0,
  "metadata": {
    "colab": {
      "name": "프로그래머스0411.ipynb",
      "provenance": [],
      "authorship_tag": "ABX9TyN5XxHisH/TOZJ5QOJf7djO",
      "include_colab_link": true
    },
    "kernelspec": {
      "name": "python3",
      "display_name": "Python 3"
    },
    "language_info": {
      "name": "python"
    }
  },
  "cells": [
    {
      "cell_type": "markdown",
      "metadata": {
        "id": "view-in-github",
        "colab_type": "text"
      },
      "source": [
        "<a href=\"https://colab.research.google.com/github/A-A27/Baekjoon_Python/blob/main/programmers/2019%20KAKAO%20BLIND%20RECRUITMENT_%EC%98%A4%ED%94%88%EC%B1%84%ED%8C%85%EB%B0%A9.ipynb\" target=\"_parent\"><img src=\"https://colab.research.google.com/assets/colab-badge.svg\" alt=\"Open In Colab\"/></a>"
      ]
    },
    {
      "cell_type": "code",
      "source": [
        "def solution(record):\n",
        "  user_dict = {}\n",
        "  result_list = []\n",
        "  answer = []\n",
        "  for i in range(len(record)):\n",
        "    try:\n",
        "      a, b, c = record[i].split()\n",
        "      user_dict[b] = c\n",
        "      result_list.append((a,b,c))\n",
        "    except:\n",
        "      a, b = record[i].split()\n",
        "      result_list.append((a,b))\n",
        "  for k in range(len(result_list)):\n",
        "    if result_list[k][0] == \"Enter\":\n",
        "      answer.append(user_dict[result_list[k][1]]+\"님이 들어왔습니다.\")\n",
        "    elif result_list[k][0] == \"Leave\":\n",
        "      answer.append(user_dict[result_list[k][1]]+\"님이 나갔습니다.\")\n",
        "  return answer\n",
        "solution([\"Enter uid1234 Muzi\", \"Enter uid4567 Prodo\",\"Leave uid1234\",\"Enter uid1234 Prodo\",\"Change uid4567 Ryan\"])\n",
        "\n",
        "# 다른 풀이...\n",
        "def solution(record):\n",
        "    user_id = {EC.split()[1]:EC.split()[-1] for EC in record if EC.startswith('Enter') or EC.startswith('Change')}\n",
        "    return [f'{user_id[E_L.split()[1]]}님이 들어왔습니다.' if E_L.startswith('Enter') else f'{user_id[E_L.split()[1]]}님이 나갔습니다.' for E_L in record if not E_L.startswith('Change')]"
      ],
      "metadata": {
        "colab": {
          "base_uri": "https://localhost:8080/"
        },
        "id": "94cov4-ezen0",
        "outputId": "cd48bd27-14fc-4c8f-cf30-7b4938719fc6"
      },
      "execution_count": 61,
      "outputs": [
        {
          "output_type": "execute_result",
          "data": {
            "text/plain": [
              "['Prodo님이 들어왔습니다.', 'Ryan님이 들어왔습니다.', 'Prodo님이 나갔습니다.', 'Prodo님이 들어왔습니다.']"
            ]
          },
          "metadata": {},
          "execution_count": 61
        }
      ]
    }
  ]
}