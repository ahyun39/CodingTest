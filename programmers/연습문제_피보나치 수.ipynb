{
  "nbformat": 4,
  "nbformat_minor": 0,
  "metadata": {
    "colab": {
      "name": "Solved problem.ipynb",
      "provenance": [],
      "collapsed_sections": [],
      "authorship_tag": "ABX9TyO9/2dJe3VBAmSMiajdDlYA",
      "include_colab_link": true
    },
    "kernelspec": {
      "name": "python3",
      "display_name": "Python 3"
    },
    "language_info": {
      "name": "python"
    }
  },
  "cells": [
    {
      "cell_type": "markdown",
      "metadata": {
        "id": "view-in-github",
        "colab_type": "text"
      },
      "source": [
        "<a href=\"https://colab.research.google.com/github/A-A27/Baekjoon_Python/blob/main/%EC%97%B0%EC%8A%B5%EB%AC%B8%EC%A0%9C/%EC%97%B0%EC%8A%B5%EB%AC%B8%EC%A0%9C_%ED%94%BC%EB%B3%B4%EB%82%98%EC%B9%98%20%EC%88%98.ipynb\" target=\"_parent\"><img src=\"https://colab.research.google.com/assets/colab-badge.svg\" alt=\"Open In Colab\"/></a>"
      ]
    },
    {
      "cell_type": "code",
      "source": [
        "#연습문제 _ 피보나치 수\n",
        "def solution(n):\n",
        "    if n >= 2:\n",
        "        d = [0] * 100001\n",
        "        d[1] = 1\n",
        "        d[2] = 1\n",
        "        if n >= 3:\n",
        "            for i in range(3,n+1):\n",
        "                d[i] = ((d[i-1]%1234567) + (d[i-2]%1234567))%1234567\n",
        "        return d[n]\n",
        "solution(5)"
      ],
      "metadata": {
        "colab": {
          "base_uri": "https://localhost:8080/"
        },
        "id": "FH3JwWviqAQm",
        "outputId": "266d02f4-d0a9-4ce6-dc7a-df16fcd9280b"
      },
      "execution_count": 1,
      "outputs": [
        {
          "output_type": "execute_result",
          "data": {
            "text/plain": [
              "5"
            ]
          },
          "metadata": {},
          "execution_count": 1
        }
      ]
    }
  ]
}
