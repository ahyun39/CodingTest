{
  "nbformat": 4,
  "nbformat_minor": 0,
  "metadata": {
    "colab": {
      "provenance": [],
      "collapsed_sections": [],
      "authorship_tag": "ABX9TyPx1SAPhIaejaTgR3IJ26a9",
      "include_colab_link": true
    },
    "kernelspec": {
      "name": "python3",
      "display_name": "Python 3"
    },
    "language_info": {
      "name": "python"
    }
  },
  "cells": [
    {
      "cell_type": "markdown",
      "metadata": {
        "id": "view-in-github",
        "colab_type": "text"
      },
      "source": [
        "<a href=\"https://colab.research.google.com/github/A-A27/Programmers/blob/main/programmers/%EC%9C%84%ED%81%B4%EB%A6%AC%20%EC%B1%8C%EB%A6%B0%EC%A7%80_%EC%B5%9C%EC%86%8C%EC%A7%81%EC%82%AC%EA%B0%81%ED%98%95.ipynb\" target=\"_parent\"><img src=\"https://colab.research.google.com/assets/colab-badge.svg\" alt=\"Open In Colab\"/></a>"
      ]
    },
    {
      "cell_type": "code",
      "source": [
        "# 위클리 챌린지 _ 최소직사각형\n",
        "def solution(sizes):\n",
        "    for i in range(len(sizes)):\n",
        "        if(sizes[i][0] > sizes[i][1]):\n",
        "            temp = sizes[i][0]\n",
        "            sizes[i][0] = sizes[i][1]\n",
        "            sizes[i][1] = temp\n",
        "    w = []\n",
        "    h = []\n",
        "    for a, b in sizes:\n",
        "      w.append(a)\n",
        "      h.append(b)\n",
        "    wmax = max(w)\n",
        "    hmax = max(h)\n",
        "    print(wmax, hmax)\n",
        "    if sizes[w.index(wmax)][1] <= sizes[h.index(hmax)][0] and sizes[w.index(wmax)][0] <= sizes[h.index(hmax)][1]:\n",
        "      wmax = sizes[h.index(hmax)][0]\n",
        "    elif sizes[h.index(hmax)][1] <= sizes[w.index(wmax)][0] and sizes[h.index(hmax)][0] <= sizes[w.index(wmax)][1]:\n",
        "      hmax = sizes[w.index(wmax)][1]\n",
        "    print(wmax, hmax)\n",
        "    answer = wmax*hmax\n",
        "    return answer\n",
        "solution([[10, 7], [12, 3], [8, 15], [14, 7], [5, 15]])"
      ],
      "metadata": {
        "id": "yHA4W34mdcge",
        "colab": {
          "base_uri": "https://localhost:8080/"
        },
        "outputId": "13fe1bf0-9cbf-443e-ebed-39ea3c5fcded"
      },
      "execution_count": 2,
      "outputs": [
        {
          "output_type": "stream",
          "name": "stdout",
          "text": [
            "8 15\n",
            "8 15\n"
          ]
        },
        {
          "output_type": "execute_result",
          "data": {
            "text/plain": [
              "120"
            ]
          },
          "metadata": {},
          "execution_count": 2
        }
      ]
    }
  ]
}