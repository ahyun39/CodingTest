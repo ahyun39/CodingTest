{
  "nbformat": 4,
  "nbformat_minor": 0,
  "metadata": {
    "colab": {
      "name": "연습문제.ipynb",
      "provenance": [],
      "collapsed_sections": [],
      "authorship_tag": "ABX9TyNEzM4FkHIdmbOxuM4370Qu",
      "include_colab_link": true
    },
    "kernelspec": {
      "name": "python3",
      "display_name": "Python 3"
    },
    "language_info": {
      "name": "python"
    }
  },
  "cells": [
    {
      "cell_type": "markdown",
      "metadata": {
        "id": "view-in-github",
        "colab_type": "text"
      },
      "source": [
        "<a href=\"https://colab.research.google.com/github/A-A27/Baekjoon_Python/blob/main/programmers/%EC%97%B0%EC%8A%B5%EB%AC%B8%EC%A0%9C_%EC%9D%B4%EC%83%81%ED%95%9C%20%EB%AC%B8%EC%9E%90%20%EB%A7%8C%EB%93%A4%EA%B8%B0.ipynb\" target=\"_parent\"><img src=\"https://colab.research.google.com/assets/colab-badge.svg\" alt=\"Open In Colab\"/></a>"
      ]
    },
    {
      "cell_type": "code",
      "source": [
        "# 연습문제 _ 이상한 문자 만들기\n",
        "def solution(s):\n",
        "  list_s = list(s.split(' '))\n",
        "  answer = ''\n",
        "  for i in list_s:\n",
        "    for k in range(len(i)):\n",
        "      if i == ' ':\n",
        "        answer += ' '\n",
        "      elif k % 2 == 0:\n",
        "        answer += (i[k].upper())\n",
        "      elif k % 2 != 0:\n",
        "        answer += (i[k].lower())\n",
        "    answer += ' '\n",
        "  return answer[0:-1]\n",
        "solution(\"hello world        \")\n",
        "\n",
        "# 다른 풀이...\n",
        "def toWeirdCase(s):\n",
        "  return \" \".join(map(lambda x: \"\". join([a.lower() if i % 2 else a.upper() for i, a in enumerate(x)]), s.split(\" \")))"
      ],
      "metadata": {
        "id": "jxYpTIradxN4",
        "colab": {
          "base_uri": "https://localhost:8080/",
          "height": 36
        },
        "outputId": "02bcbad8-af0d-49f3-8aa1-d1a4a00e0234"
      },
      "execution_count": 13,
      "outputs": [
        {
          "output_type": "execute_result",
          "data": {
            "text/plain": [
              "'HeLlO WoRlD        '"
            ],
            "application/vnd.google.colaboratory.intrinsic+json": {
              "type": "string"
            }
          },
          "metadata": {},
          "execution_count": 13
        }
      ]
    }
  ]
}