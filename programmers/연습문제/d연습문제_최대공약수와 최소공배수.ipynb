{
  "nbformat": 4,
  "nbformat_minor": 0,
  "metadata": {
    "colab": {
      "name": "연습문제2.ipynb",
      "provenance": [],
      "authorship_tag": "ABX9TyP28fa8DR1gyJzbJH4s4nUj",
      "include_colab_link": true
    },
    "kernelspec": {
      "name": "python3",
      "display_name": "Python 3"
    },
    "language_info": {
      "name": "python"
    }
  },
  "cells": [
    {
      "cell_type": "markdown",
      "metadata": {
        "id": "view-in-github",
        "colab_type": "text"
      },
      "source": [
        "<a href=\"https://colab.research.google.com/github/A-A27/Baekjoon_Python/blob/main/programmers/%EC%97%B0%EC%8A%B5%EB%AC%B8%EC%A0%9C_%EC%B5%9C%EB%8C%80%EA%B3%B5%EC%95%BD%EC%88%98%EC%99%80%20%EC%B5%9C%EC%86%8C%EA%B3%B5%EB%B0%B0%EC%88%98.ipynb\" target=\"_parent\"><img src=\"https://colab.research.google.com/assets/colab-badge.svg\" alt=\"Open In Colab\"/></a>"
      ]
    },
    {
      "cell_type": "code",
      "source": [
        "def solution(n, m):\n",
        "    answer = []\n",
        "    a = min(n,m)\n",
        "    b = max(n,m)\n",
        "    k = 0\n",
        "    for i in range(a,-1,-1):\n",
        "      if (b%i) == 0 and (a%i) == 0:\n",
        "        answer.append(i)\n",
        "        break\n",
        "    answer.append(a*b//answer[0])\n",
        "    return answer\n",
        "solution(2,5)"
      ],
      "metadata": {
        "colab": {
          "base_uri": "https://localhost:8080/"
        },
        "id": "FY0OgK-h9MRZ",
        "outputId": "64a4df57-02ec-4d75-c594-4536f71b8cb0"
      },
      "execution_count": 11,
      "outputs": [
        {
          "output_type": "execute_result",
          "data": {
            "text/plain": [
              "[1, 10]"
            ]
          },
          "metadata": {},
          "execution_count": 11
        }
      ]
    }
  ]
}
