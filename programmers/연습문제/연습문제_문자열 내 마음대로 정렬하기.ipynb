{
  "nbformat": 4,
  "nbformat_minor": 0,
  "metadata": {
    "colab": {
      "name": "연습문제3.ipynb",
      "provenance": [],
      "authorship_tag": "ABX9TyNTyimas9UN7LsiKI4/p6d/",
      "include_colab_link": true
    },
    "kernelspec": {
      "name": "python3",
      "display_name": "Python 3"
    },
    "language_info": {
      "name": "python"
    }
  },
  "cells": [
    {
      "cell_type": "markdown",
      "metadata": {
        "id": "view-in-github",
        "colab_type": "text"
      },
      "source": [
        "<a href=\"https://colab.research.google.com/github/A-A27/Baekjoon_Python/blob/main/programmers/%EC%97%B0%EC%8A%B5%EB%AC%B8%EC%A0%9C_%EB%AC%B8%EC%9E%90%EC%97%B4%20%EB%82%B4%20%EB%A7%88%EC%9D%8C%EB%8C%80%EB%A1%9C%20%EC%A0%95%EB%A0%AC%ED%95%98%EA%B8%B0.ipynb\" target=\"_parent\"><img src=\"https://colab.research.google.com/assets/colab-badge.svg\" alt=\"Open In Colab\"/></a>"
      ]
    },
    {
      "cell_type": "code",
      "execution_count": 1,
      "metadata": {
        "colab": {
          "base_uri": "https://localhost:8080/"
        },
        "id": "njCO2GT6Q74Y",
        "outputId": "49695cca-4014-460f-c275-ac1da1a79f99"
      },
      "outputs": [
        {
          "output_type": "execute_result",
          "data": {
            "text/plain": [
              "['car', 'bed', 'sun']"
            ]
          },
          "metadata": {},
          "execution_count": 1
        }
      ],
      "source": [
        "# 연습문제 _ 문자열 내 마음대로 정렬하기\n",
        "import operator\n",
        "def solution(strings, n):\n",
        "  list_strings = {}\n",
        "  strings.sort()\n",
        "  for i in range(len(strings)):\n",
        "    list_strings[strings[i]] = strings[i][n]\n",
        "  list_strings = sorted(list_strings.items(), key = operator.itemgetter(1))\n",
        "  answer = [list_strings[i][0] for i in range(len(list_strings))]\n",
        "  return answer\n",
        "solution([\"sun\", \"bed\", \"car\"], 1)\n",
        "\n",
        "# 다른 풀이...\n",
        "from operator import itemgetter, attrgetter, methodcaller\n",
        "def solution(strings, n):\n",
        "  return sorted(sorted(strings), key = itemgetter(n))"
      ]
    }
  ]
}
