{
  "nbformat": 4,
  "nbformat_minor": 0,
  "metadata": {
    "colab": {
      "name": "Solved problem.ipynb",
      "provenance": [],
      "collapsed_sections": [],
      "authorship_tag": "ABX9TyPlAJeT/pJ1yHUMJbRki9hC",
      "include_colab_link": true
    },
    "kernelspec": {
      "name": "python3",
      "display_name": "Python 3"
    },
    "language_info": {
      "name": "python"
    }
  },
  "cells": [
    {
      "cell_type": "markdown",
      "metadata": {
        "id": "view-in-github",
        "colab_type": "text"
      },
      "source": [
        "<a href=\"https://colab.research.google.com/github/A-A27/Programmers/blob/main/programmers/%EC%97%B0%EC%8A%B5%EB%AC%B8%EC%A0%9C_%ED%96%89%EB%A0%AC%EC%9D%98%20%EA%B3%B1%EC%85%88.ipynb\" target=\"_parent\"><img src=\"https://colab.research.google.com/assets/colab-badge.svg\" alt=\"Open In Colab\"/></a>"
      ]
    },
    {
      "cell_type": "code",
      "source": [
        "# 연습문제 _ 행렬의 곱셈\n",
        "def solution(arr1, arr2):\n",
        "    answer = []\n",
        "    for i in range(len(arr1)):\n",
        "        al = []\n",
        "        for k in range(len(arr2[0])):\n",
        "            a = 0\n",
        "            for j in range(len(arr2)):\n",
        "                a += arr1[i][j]*arr2[j][k]\n",
        "            al.append(a)\n",
        "        answer.append(al)\n",
        "    return answer\n",
        "solution([[2, 3, 2], [4, 2, 4], [3, 1, 4]],[[5, 4], [2, 4], [3, 1]])\n",
        "\n",
        "# 다른 풀이...\n",
        "def productMatrix(A, B):\n",
        "    return [[sum(a*b for a, b in zip(A_row,B_col)) for B_col in zip(*B)] for A_row in A]"
      ],
      "metadata": {
        "colab": {
          "base_uri": "https://localhost:8080/"
        },
        "id": "mA6Fc-c5lxAf",
        "outputId": "cc1f3c6c-07c1-4cfa-d40b-0dce66ad248c"
      },
      "execution_count": 4,
      "outputs": [
        {
          "output_type": "stream",
          "name": "stdout",
          "text": [
            "(5, 2, 3)\n",
            "(4, 4, 1)\n"
          ]
        },
        {
          "output_type": "execute_result",
          "data": {
            "text/plain": [
              "[[22, 22], [36, 28], [29, 20]]"
            ]
          },
          "metadata": {},
          "execution_count": 4
        }
      ]
    }
  ]
}