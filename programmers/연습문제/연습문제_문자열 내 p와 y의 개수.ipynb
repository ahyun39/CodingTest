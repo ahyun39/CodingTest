{
  "nbformat": 4,
  "nbformat_minor": 0,
  "metadata": {
    "colab": {
      "name": "연습문제3.ipynb",
      "provenance": [],
      "authorship_tag": "ABX9TyN7sQc3vBnrelea4pq8SzTZ",
      "include_colab_link": true
    },
    "kernelspec": {
      "name": "python3",
      "display_name": "Python 3"
    },
    "language_info": {
      "name": "python"
    }
  },
  "cells": [
    {
      "cell_type": "markdown",
      "metadata": {
        "id": "view-in-github",
        "colab_type": "text"
      },
      "source": [
        "<a href=\"https://colab.research.google.com/github/A-A27/Baekjoon_Python/blob/main/programmers/%EC%97%B0%EC%8A%B5%EB%AC%B8%EC%A0%9C_%EB%AC%B8%EC%9E%90%EC%97%B4%20%EB%82%B4%20p%EC%99%80%20y%EC%9D%98%20%EA%B0%9C%EC%88%98.ipynb\" target=\"_parent\"><img src=\"https://colab.research.google.com/assets/colab-badge.svg\" alt=\"Open In Colab\"/></a>"
      ]
    },
    {
      "cell_type": "code",
      "execution_count": 2,
      "metadata": {
        "colab": {
          "base_uri": "https://localhost:8080/"
        },
        "id": "njCO2GT6Q74Y",
        "outputId": "6edf00a7-0837-47b5-f07d-72dd4b86d079"
      },
      "outputs": [
        {
          "output_type": "execute_result",
          "data": {
            "text/plain": [
              "True"
            ]
          },
          "metadata": {},
          "execution_count": 2
        }
      ],
      "source": [
        "# 연습문제 _ 문자열 내 p와 y의 개수\n",
        "def solution(s):\n",
        "  if len(s) <= 50 and s.isalpha():\n",
        "    list_s = list(s)\n",
        "    P = list_s.count('p') + list_s.count('P')\n",
        "    Y = list_s.count('y') + list_s.count('Y')\n",
        "    if P <= 0 and Y <= 0:\n",
        "        answer = True\n",
        "    elif P == Y:\n",
        "        answer = True\n",
        "    else:\n",
        "        answer = False\n",
        "  return answer\n",
        "solution(\"pPoooyY\")\n",
        "\n",
        "# 다른 풀이...\n",
        "def numPY(s):\n",
        "  return s.lower().count('p') == s.lower().count('y')"
      ]
    }
  ]
}
