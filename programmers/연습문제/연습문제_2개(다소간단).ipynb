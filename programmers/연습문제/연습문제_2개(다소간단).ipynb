{
  "nbformat": 4,
  "nbformat_minor": 0,
  "metadata": {
    "colab": {
      "name": "연습문제2.ipynb",
      "provenance": [],
      "authorship_tag": "ABX9TyPLay/OlGhbgthNcwPFBjZb",
      "include_colab_link": true
    },
    "kernelspec": {
      "name": "python3",
      "display_name": "Python 3"
    },
    "language_info": {
      "name": "python"
    }
  },
  "cells": [
    {
      "cell_type": "markdown",
      "metadata": {
        "id": "view-in-github",
        "colab_type": "text"
      },
      "source": [
        "<a href=\"https://colab.research.google.com/github/A-A27/Baekjoon_Python/blob/main/programmers/%EC%97%B0%EC%8A%B5%EB%AC%B8%EC%A0%9C_2%EA%B0%9C(%EB%8B%A4%EC%86%8C%EA%B0%84%EB%8B%A8).ipynb\" target=\"_parent\"><img src=\"https://colab.research.google.com/assets/colab-badge.svg\" alt=\"Open In Colab\"/></a>"
      ]
    },
    {
      "cell_type": "code",
      "execution_count": 34,
      "metadata": {
        "colab": {
          "base_uri": "https://localhost:8080/"
        },
        "id": "CW1QDsNn5t_D",
        "outputId": "c195413f-7f4f-44e6-b7de-3e0b2193b2c4"
      },
      "outputs": [
        {
          "output_type": "execute_result",
          "data": {
            "text/plain": [
              "-1234"
            ]
          },
          "metadata": {},
          "execution_count": 34
        }
      ],
      "source": [
        "# 연습문제 _ 문자열을 정수로 바꾸기\n",
        "def solution(s):\n",
        "  answer = int(str(s))\n",
        "  return answer\n",
        "solution('-1234')"
      ]
    },
    {
      "cell_type": "code",
      "source": [
        "# 연습문제 _ 수박수박수박수박수박수?\n",
        "def solution(n):\n",
        "  list_n = list('*'*n)\n",
        "  for i in range(n):\n",
        "    if i%2 == 0:\n",
        "      list_n[i] = '수'\n",
        "    elif i%2 != 0:\n",
        "      list_n[i] = '박'\n",
        "  answer = ''.join(list_n)\n",
        "  return answer\n",
        "solution(4)\n",
        "\n",
        "# 다른 풀이...\n",
        "def water_melon(n):\n",
        "  s = \"수박\" * n\n",
        "  return s[:n]"
      ],
      "metadata": {
        "colab": {
          "base_uri": "https://localhost:8080/",
          "height": 36
        },
        "id": "PEs_VbRzCuI4",
        "outputId": "6bb76748-d139-4759-bbf0-ab86995ed15c"
      },
      "execution_count": 39,
      "outputs": [
        {
          "output_type": "execute_result",
          "data": {
            "text/plain": [
              "'수박수박'"
            ],
            "application/vnd.google.colaboratory.intrinsic+json": {
              "type": "string"
            }
          },
          "metadata": {},
          "execution_count": 39
        }
      ]
    }
  ]
}
