{
  "nbformat": 4,
  "nbformat_minor": 0,
  "metadata": {
    "colab": {
      "name": "Solved problem.ipynb",
      "provenance": [],
      "collapsed_sections": [],
      "authorship_tag": "ABX9TyOlpdPspE4hJnluIdCmFwNK",
      "include_colab_link": true
    },
    "kernelspec": {
      "name": "python3",
      "display_name": "Python 3"
    },
    "language_info": {
      "name": "python"
    }
  },
  "cells": [
    {
      "cell_type": "markdown",
      "metadata": {
        "id": "view-in-github",
        "colab_type": "text"
      },
      "source": [
        "<a href=\"https://colab.research.google.com/github/A-A27/Baekjoon_Python/blob/main/programmers/%EC%97%B0%EC%8A%B5%EB%AC%B8%EC%A0%9C_%EB%8B%A4%EC%9D%8C%20%ED%81%B0%20%EC%88%AB%EC%9E%90.ipynb\" target=\"_parent\"><img src=\"https://colab.research.google.com/assets/colab-badge.svg\" alt=\"Open In Colab\"/></a>"
      ]
    },
    {
      "cell_type": "code",
      "source": [
        "# 연습문제 _ 다음 큰 숫자\n",
        "def solution(n):\n",
        "  answer = 0;\n",
        "  T = list(bin(n)[2:])\n",
        "  t = T.count('1')\n",
        "  k = n+1\n",
        "  while True:\n",
        "    kT = list(bin(k)[2:])\n",
        "    if kT.count('1') == t:\n",
        "      answer = k\n",
        "      break\n",
        "    k += 1\n",
        "  return answer\n",
        "solution(78)\n",
        "\n",
        "# 다른 풀이...\n",
        "def nextBigNumber(n):\n",
        "  num1 = bin(n).count('1')\n",
        "  while True:\n",
        "    n += 1\n",
        "    if num1 == bin(n).count('1'):\n",
        "      break\n",
        "  return n"
      ],
      "metadata": {
        "colab": {
          "base_uri": "https://localhost:8080/"
        },
        "id": "vRUQaGrxT01L",
        "outputId": "fe840bfa-ae7e-4d9c-e927-cdef11df7757"
      },
      "execution_count": 2,
      "outputs": [
        {
          "output_type": "execute_result",
          "data": {
            "text/plain": [
              "83"
            ]
          },
          "metadata": {},
          "execution_count": 2
        }
      ]
    }
  ]
}
