{
  "nbformat": 4,
  "nbformat_minor": 0,
  "metadata": {
    "colab": {
      "name": "Solved problem.ipynb",
      "provenance": [],
      "collapsed_sections": [],
      "authorship_tag": "ABX9TyOJ3TC/sL0TxPIfa2spOgtp",
      "include_colab_link": true
    },
    "kernelspec": {
      "name": "python3",
      "display_name": "Python 3"
    },
    "language_info": {
      "name": "python"
    }
  },
  "cells": [
    {
      "cell_type": "markdown",
      "metadata": {
        "id": "view-in-github",
        "colab_type": "text"
      },
      "source": [
        "<a href=\"https://colab.research.google.com/github/A-A27/Baekjoon_Python/blob/main/%EC%97%B0%EC%8A%B5%EB%AC%B8%EC%A0%9C_%EC%B5%9C%EB%8C%93%EA%B0%92%EA%B3%BC%20%EC%B5%9C%EC%86%9F%EA%B0%92.ipynb\" target=\"_parent\"><img src=\"https://colab.research.google.com/assets/colab-badge.svg\" alt=\"Open In Colab\"/></a>"
      ]
    },
    {
      "cell_type": "code",
      "source": [
        "# 연습문제 _ 최댓값과 최솟값\n",
        "def solution(s):\n",
        "    answer = ''\n",
        "    minus = []\n",
        "    plus = []\n",
        "    slist = s.split()\n",
        "    for i in slist:\n",
        "        if i[0] == '-':\n",
        "            minus.append(int(i[1:]))\n",
        "        else:\n",
        "            plus.append(int(i))\n",
        "    if minus != [] and plus != []:\n",
        "        answer = '-' + str(max(minus)) + ' '\n",
        "        answer += str(max(plus))\n",
        "    elif minus == [] and plus != []:\n",
        "        answer = str(min(plus)) + ' ' + str(max(plus))\n",
        "    elif minus != [] and plus == []:\n",
        "        answer = '-' + str(max(minus)) + ' '\n",
        "        answer += '-' + str(min(minus))\n",
        "    return answer\n",
        "solution(\"1 2 3 4\")\n",
        "\n",
        "# 다른 풀이...\n",
        "def solution(s):\n",
        "  s = list(map(int, s.split()))\n",
        "  return str(min(s)) + \" \" + str(max(s))"
      ],
      "metadata": {
        "colab": {
          "base_uri": "https://localhost:8080/",
          "height": 36
        },
        "id": "rVrPvrMbtd-U",
        "outputId": "8624933b-6da8-49d7-9f4d-ba0f4216f1c9"
      },
      "execution_count": 1,
      "outputs": [
        {
          "output_type": "execute_result",
          "data": {
            "text/plain": [
              "'1 4'"
            ],
            "application/vnd.google.colaboratory.intrinsic+json": {
              "type": "string"
            }
          },
          "metadata": {},
          "execution_count": 1
        }
      ]
    }
  ]
}
