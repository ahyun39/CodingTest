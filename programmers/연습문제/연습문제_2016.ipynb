{
  "nbformat": 4,
  "nbformat_minor": 0,
  "metadata": {
    "colab": {
      "name": "연습문제2.ipynb",
      "provenance": [],
      "authorship_tag": "ABX9TyOPrF7+H4eKDY8BX4gVRvAj",
      "include_colab_link": true
    },
    "kernelspec": {
      "name": "python3",
      "display_name": "Python 3"
    },
    "language_info": {
      "name": "python"
    }
  },
  "cells": [
    {
      "cell_type": "markdown",
      "metadata": {
        "id": "view-in-github",
        "colab_type": "text"
      },
      "source": [
        "<a href=\"https://colab.research.google.com/github/A-A27/Baekjoon_Python/blob/main/programmers/%EC%97%B0%EC%8A%B5%EB%AC%B8%EC%A0%9C_2016.ipynb\" target=\"_parent\"><img src=\"https://colab.research.google.com/assets/colab-badge.svg\" alt=\"Open In Colab\"/></a>"
      ]
    },
    {
      "cell_type": "code",
      "source": [
        "# 연습문제 _ 2016년\n",
        "# 1월 1일 금 31일\n",
        "# 2월 1일 월 29일\n",
        "# 3월 1일 화 31일\n",
        "# 4월 1일 금 30일\n",
        "# 5월 1일 일 31일\n",
        "# 6월 1일 수 30일\n",
        "# 7월 1일 금 31일\n",
        "# 8월 1일 월 31일\n",
        "# 9월 1일 목 30일\n",
        "#10월 1일 토 31일\n",
        "#11월 1일 화 30일\n",
        "#12월 1일 목 31일\n",
        "def solution(a, b):\n",
        "  dayseven = {'0':'SUN','1':'MON','2':'TUE','3':'WED','4':'THU','5':'FRI','6':'SAT'}\n",
        "  answer = ''\n",
        "  day_MON = [2,8]   #1일이 월요일\n",
        "  day_TUE = [3,11]  #1일이 화요일\n",
        "  day_WED = [6]     #1일이 수요일\n",
        "  day_THU = [9,12]  #1일이 목요일\n",
        "  day_FRI = [1,4,7] #1일이 금요일\n",
        "  day_SAT = [10]    #1일이 토요일\n",
        "  day_SUN = [5]     #1일이 일요일\n",
        "  if a in day_MON:\n",
        "    answer=dayseven[str(b%7)]\n",
        "  elif a in day_TUE:\n",
        "    answer=dayseven[str((b+1)%7)]\n",
        "  elif a in day_WED:\n",
        "    answer=dayseven[str((b+2)%7)]\n",
        "  elif a in day_THU:\n",
        "    answer=dayseven[str((b+3)%7)]\n",
        "  elif a in day_FRI:\n",
        "    answer=dayseven[str((b+4)%7)]\n",
        "  elif a in day_SAT:\n",
        "    answer=dayseven[str((b+5)%7)]\n",
        "  elif a in day_SUN:\n",
        "    answer=dayseven[str((b+6)%7)]\n",
        "  return answer \n",
        "solution(4,7)\n",
        "\n",
        "# 다른 풀이...\n",
        "def getDayName(a,b):\n",
        "  months = [31, 29, 31, 30, 31, 30, 31, 31, 30, 31, 30, 31]\n",
        "  days = ['FRI', 'SAT', 'SUN', 'MON', 'TUE', 'WED', 'THU']\n",
        "  return days[(sum(months[:a-1])+b-1)%7]"
      ],
      "metadata": {
        "id": "WYJQYq6cyGzZ",
        "colab": {
          "base_uri": "https://localhost:8080/",
          "height": 36
        },
        "outputId": "9445115b-459a-4220-f494-c086fe7bc213"
      },
      "execution_count": 6,
      "outputs": [
        {
          "output_type": "execute_result",
          "data": {
            "text/plain": [
              "'THU'"
            ],
            "application/vnd.google.colaboratory.intrinsic+json": {
              "type": "string"
            }
          },
          "metadata": {},
          "execution_count": 6
        }
      ]
    }
  ]
}
