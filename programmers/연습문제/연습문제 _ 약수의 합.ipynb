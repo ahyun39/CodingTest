{
  "nbformat": 4,
  "nbformat_minor": 0,
  "metadata": {
    "colab": {
      "name": "연습문제2.ipynb",
      "provenance": [],
      "authorship_tag": "ABX9TyNVKp3moB7HZfji6UBBQ7x2",
      "include_colab_link": true
    },
    "kernelspec": {
      "name": "python3",
      "display_name": "Python 3"
    },
    "language_info": {
      "name": "python"
    }
  },
  "cells": [
    {
      "cell_type": "markdown",
      "metadata": {
        "id": "view-in-github",
        "colab_type": "text"
      },
      "source": [
        "<a href=\"https://colab.research.google.com/github/A-A27/Baekjoon_Python/blob/main/programmers/%EC%97%B0%EC%8A%B5%EB%AC%B8%EC%A0%9C%20_%20%EC%95%BD%EC%88%98%EC%9D%98%20%ED%95%A9.ipynb\" target=\"_parent\"><img src=\"https://colab.research.google.com/assets/colab-badge.svg\" alt=\"Open In Colab\"/></a>"
      ]
    },
    {
      "cell_type": "code",
      "execution_count": 4,
      "metadata": {
        "colab": {
          "base_uri": "https://localhost:8080/"
        },
        "id": "CW1QDsNn5t_D",
        "outputId": "c238d019-9a0d-484c-967a-c33f5bf38827"
      },
      "outputs": [
        {
          "output_type": "stream",
          "name": "stdout",
          "text": [
            "[1, 2, 3, 4, 6, 12]\n"
          ]
        },
        {
          "output_type": "execute_result",
          "data": {
            "text/plain": [
              "28"
            ]
          },
          "metadata": {},
          "execution_count": 4
        }
      ],
      "source": [
        "# 연습문제 _ 약수의 합\n",
        "def solution(n):\n",
        "  list_n = []\n",
        "  for i in range(1,n+1):\n",
        "    if n%i == 0:\n",
        "      list_n.append(i)\n",
        "  answer = sum(list_n)\n",
        "  return answer\n",
        "solution(12)\n",
        "\n",
        "# 다른 풀이...\n",
        "def sumDivisor(num):\n",
        "  return num + sum([i for i in range(1, (num // 2) + 1) if num % i == 0])"
      ]
    }
  ]
}
