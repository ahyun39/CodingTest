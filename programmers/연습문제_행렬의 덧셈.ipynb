{
  "nbformat": 4,
  "nbformat_minor": 0,
  "metadata": {
    "colab": {
      "name": "연습문제_x만큼 간격이 있는 n개의 숫자.ipynb",
      "provenance": [],
      "authorship_tag": "ABX9TyMRIdclZx5k6SHFt0gleqHr",
      "include_colab_link": true
    },
    "kernelspec": {
      "name": "python3",
      "display_name": "Python 3"
    },
    "language_info": {
      "name": "python"
    }
  },
  "cells": [
    {
      "cell_type": "markdown",
      "metadata": {
        "id": "view-in-github",
        "colab_type": "text"
      },
      "source": [
        "<a href=\"https://colab.research.google.com/github/A-A27/Baekjoon_Python/blob/main/programmers/%EC%97%B0%EC%8A%B5%EB%AC%B8%EC%A0%9C_%ED%96%89%EB%A0%AC%EC%9D%98%20%EB%8D%A7%EC%85%88.ipynb\" target=\"_parent\"><img src=\"https://colab.research.google.com/assets/colab-badge.svg\" alt=\"Open In Colab\"/></a>"
      ]
    },
    {
      "cell_type": "code",
      "execution_count": 8,
      "metadata": {
        "colab": {
          "base_uri": "https://localhost:8080/"
        },
        "id": "8RNXtGi0Xil3",
        "outputId": "bf414058-4bad-4098-ea69-1b88ee0a5fc7"
      },
      "outputs": [
        {
          "output_type": "execute_result",
          "data": {
            "text/plain": [
              "[[4, 6], [7, 9]]"
            ]
          },
          "metadata": {},
          "execution_count": 8
        }
      ],
      "source": [
        "def solution(arr1, arr2):\n",
        "  answer = [[arr1[i][j] + arr2[i][j] for j in range(len(arr1[i]))]for i in range(len(arr1))]\n",
        "  return answer\n",
        "solution([[1,2],[2,3]],[[3,4],[5,6]])\n",
        "\n",
        "# 다른 풀이...\n",
        "def sumMatrix(A, B):\n",
        "  answer = [[c + d for c, d in zip(a,b)]for a, b in zip(A, B)]\n",
        "  return answer"
      ]
    }
  ]
}