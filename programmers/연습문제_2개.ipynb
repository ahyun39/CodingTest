{
  "nbformat": 4,
  "nbformat_minor": 0,
  "metadata": {
    "colab": {
      "name": "연습문제2.ipynb",
      "provenance": [],
      "authorship_tag": "ABX9TyPpsr8AjN+7ZVtgBd+nkjPW",
      "include_colab_link": true
    },
    "kernelspec": {
      "name": "python3",
      "display_name": "Python 3"
    },
    "language_info": {
      "name": "python"
    }
  },
  "cells": [
    {
      "cell_type": "markdown",
      "metadata": {
        "id": "view-in-github",
        "colab_type": "text"
      },
      "source": [
        "<a href=\"https://colab.research.google.com/github/A-A27/Baekjoon_Python/blob/main/programmers/%EC%97%B0%EC%8A%B5%EB%AC%B8%EC%A0%9C_2%EA%B0%9C.ipynb\" target=\"_parent\"><img src=\"https://colab.research.google.com/assets/colab-badge.svg\" alt=\"Open In Colab\"/></a>"
      ]
    },
    {
      "cell_type": "code",
      "source": [
        "# 연습문제 _ 두 정수 사이의 합\n",
        "def solution(a, b):\n",
        "  answer = 0\n",
        "  if a == b:\n",
        "    answer = a\n",
        "  elif a > b:\n",
        "    for i in range(b,a+1):\n",
        "      answer += i\n",
        "  elif a < b:\n",
        "    for i in range(a, b+1):\n",
        "      answer += i\n",
        "  return answer\n",
        "solution(5,3)\n",
        "\n",
        "# 다른 풀이...\n",
        "def adder(a, b):\n",
        "  if a > b: a, b = b, a\n",
        "  return sum(range(a,b+1))"
      ],
      "metadata": {
        "colab": {
          "base_uri": "https://localhost:8080/"
        },
        "id": "QqP4QYH6BX4n",
        "outputId": "ae861463-21fa-4b83-b471-3aedfb60f9ed"
      },
      "execution_count": 32,
      "outputs": [
        {
          "output_type": "execute_result",
          "data": {
            "text/plain": [
              "12"
            ]
          },
          "metadata": {},
          "execution_count": 32
        }
      ]
    },
    {
      "cell_type": "code",
      "source": [
        "# 연습문제 _ 나누어 떨어지는 숫자 배열\n",
        "def solution(arr, divisor):\n",
        "  answer = []\n",
        "  for i in range(len(arr)):\n",
        "    if arr[i]%divisor == 0:\n",
        "      answer.append(arr[i])\n",
        "  if len(answer) == 0:\n",
        "    answer = [-1]\n",
        "  return sorted(answer)\n",
        "solution([3,2,6],10)\n",
        "\n",
        "# 다른 풀이...\n",
        "def solution(arr, divisor):\n",
        "  return sorted([n for n in arr if n%divisor == 0]) or [-1]"
      ],
      "metadata": {
        "colab": {
          "base_uri": "https://localhost:8080/"
        },
        "id": "GLH_22ZXCeEP",
        "outputId": "d65279cf-37ee-463d-ecf6-4d80b7e22996"
      },
      "execution_count": 37,
      "outputs": [
        {
          "output_type": "execute_result",
          "data": {
            "text/plain": [
              "[-1]"
            ]
          },
          "metadata": {},
          "execution_count": 37
        }
      ]
    }
  ]
}