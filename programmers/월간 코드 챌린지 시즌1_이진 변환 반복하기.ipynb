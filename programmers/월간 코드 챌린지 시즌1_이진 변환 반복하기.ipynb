{
  "nbformat": 4,
  "nbformat_minor": 0,
  "metadata": {
    "colab": {
      "name": "Solved problem.ipynb",
      "provenance": [],
      "collapsed_sections": [],
      "authorship_tag": "ABX9TyNz/ut/NZIyzjXznIhlVGTR",
      "include_colab_link": true
    },
    "kernelspec": {
      "name": "python3",
      "display_name": "Python 3"
    },
    "language_info": {
      "name": "python"
    }
  },
  "cells": [
    {
      "cell_type": "markdown",
      "metadata": {
        "id": "view-in-github",
        "colab_type": "text"
      },
      "source": [
        "<a href=\"https://colab.research.google.com/github/A-A27/Programmers/blob/main/programmers/%EC%9B%94%EA%B0%84%20%EC%BD%94%EB%93%9C%20%EC%B1%8C%EB%A6%B0%EC%A7%80%20%EC%8B%9C%EC%A6%8C1_%EC%9D%B4%EC%A7%84%20%EB%B3%80%ED%99%98%20%EB%B0%98%EB%B3%B5%ED%95%98%EA%B8%B0.ipynb\" target=\"_parent\"><img src=\"https://colab.research.google.com/assets/colab-badge.svg\" alt=\"Open In Colab\"/></a>"
      ]
    },
    {
      "cell_type": "code",
      "source": [
        "# 월간 코드 챌린지 시즌1 _ 이진 변환 반복하기\n",
        "def solution(s):\n",
        "    time = 0\n",
        "    zero = s.count('0')\n",
        "    while s != '1':\n",
        "      if '0' in s:\n",
        "        s = s.replace('0','')\n",
        "        s = bin(len(s))[2:]\n",
        "        zero += s.count('0')\n",
        "        time += 1\n",
        "      else:\n",
        "        s = bin(len(s))[2:]\n",
        "        zero += s.count('0')\n",
        "        time += 1\n",
        "    answer = [time, zero]\n",
        "    return answer\n",
        "solution(\"01110\")"
      ],
      "metadata": {
        "id": "xOKPNAzBrnxp",
        "outputId": "22af6f67-c862-49a4-a8fb-4000673384ca",
        "colab": {
          "base_uri": "https://localhost:8080/"
        }
      },
      "execution_count": 3,
      "outputs": [
        {
          "output_type": "execute_result",
          "data": {
            "text/plain": [
              "[3, 3]"
            ]
          },
          "metadata": {},
          "execution_count": 3
        }
      ]
    }
  ]
}