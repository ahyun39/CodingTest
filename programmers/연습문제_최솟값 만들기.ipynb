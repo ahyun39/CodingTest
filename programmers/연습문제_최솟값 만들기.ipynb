{
  "nbformat": 4,
  "nbformat_minor": 0,
  "metadata": {
    "colab": {
      "name": "Solved problem.ipynb",
      "provenance": [],
      "collapsed_sections": [],
      "authorship_tag": "ABX9TyOAn/meNCPqymr5THK6BqNI",
      "include_colab_link": true
    },
    "kernelspec": {
      "name": "python3",
      "display_name": "Python 3"
    },
    "language_info": {
      "name": "python"
    }
  },
  "cells": [
    {
      "cell_type": "markdown",
      "metadata": {
        "id": "view-in-github",
        "colab_type": "text"
      },
      "source": [
        "<a href=\"https://colab.research.google.com/github/A-A27/Programmers/blob/main/programmers/%EC%97%B0%EC%8A%B5%EB%AC%B8%EC%A0%9C_%EC%B5%9C%EC%86%9F%EA%B0%92%20%EB%A7%8C%EB%93%A4%EA%B8%B0.ipynb\" target=\"_parent\"><img src=\"https://colab.research.google.com/assets/colab-badge.svg\" alt=\"Open In Colab\"/></a>"
      ]
    },
    {
      "cell_type": "code",
      "source": [
        "# 연습문제 _ 최솟값 만들기\n",
        "from collections import deque\n",
        "def solution(A,B):\n",
        "    answer = 0\n",
        "    A = deque(sorted(A))\n",
        "    B = deque(sorted(B))\n",
        "    while len(A) != 0:\n",
        "        answer += A.popleft()*B.pop()\n",
        "    return answer\n",
        "solution([1, 4, 2],[5, 4, 4])\n",
        "\n",
        "# 다른 풀이...\n",
        "def getMinSum(A,B):\n",
        "    return sum(a*b for a, b in zip(sorted(A), sorted(B, reverse = True)))"
      ],
      "metadata": {
        "colab": {
          "base_uri": "https://localhost:8080/"
        },
        "id": "iN5lU069YRzH",
        "outputId": "d241c995-aa89-47bd-9a71-ce4b3047d935"
      },
      "execution_count": 2,
      "outputs": [
        {
          "output_type": "execute_result",
          "data": {
            "text/plain": [
              "29"
            ]
          },
          "metadata": {},
          "execution_count": 2
        }
      ]
    }
  ]
}