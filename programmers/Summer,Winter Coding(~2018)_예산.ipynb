{
  "nbformat": 4,
  "nbformat_minor": 0,
  "metadata": {
    "colab": {
      "name": "Untitled3.ipynb",
      "provenance": [],
      "authorship_tag": "ABX9TyP5vrBtDHbTKrw5PpAY+gfU",
      "include_colab_link": true
    },
    "kernelspec": {
      "name": "python3",
      "display_name": "Python 3"
    },
    "language_info": {
      "name": "python"
    }
  },
  "cells": [
    {
      "cell_type": "markdown",
      "metadata": {
        "id": "view-in-github",
        "colab_type": "text"
      },
      "source": [
        "<a href=\"https://colab.research.google.com/github/A-A27/Baekjoon_Python/blob/main/programmer/Summer%2CWinter%20Coding(~2018)_%EC%98%88%EC%82%B0.ipynb\" target=\"_parent\"><img src=\"https://colab.research.google.com/assets/colab-badge.svg\" alt=\"Open In Colab\"/></a>"
      ]
    },
    {
      "cell_type": "code",
      "source": [
        "# Summer/Winter Coding(~2018) _ 예산 \n",
        "def solution(d, budget):\n",
        "    answer = 0\n",
        "    d = sorted(d)\n",
        "    for i in d:\n",
        "      budget -= i\n",
        "      if budget >= 0:\n",
        "        answer += 1\n",
        "      else:\n",
        "        break\n",
        "    return answer\n",
        "\n",
        "solution([1,3,2,5,4], 9)"
      ],
      "metadata": {
        "colab": {
          "base_uri": "https://localhost:8080/"
        },
        "id": "tGI_KxxUVo-Z",
        "outputId": "d6dcbcac-b248-4588-f878-286d2331ee35"
      },
      "execution_count": 1,
      "outputs": [
        {
          "output_type": "execute_result",
          "data": {
            "text/plain": [
              "3"
            ]
          },
          "metadata": {},
          "execution_count": 1
        }
      ]
    }
  ]
}
