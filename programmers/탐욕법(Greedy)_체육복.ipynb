{
  "nbformat": 4,
  "nbformat_minor": 0,
  "metadata": {
    "colab": {
      "name": "Greedy.ipynb",
      "provenance": [],
      "collapsed_sections": [],
      "authorship_tag": "ABX9TyOXc2guTX3O6jRlWKDrpg0g",
      "include_colab_link": true
    },
    "kernelspec": {
      "name": "python3",
      "display_name": "Python 3"
    },
    "language_info": {
      "name": "python"
    }
  },
  "cells": [
    {
      "cell_type": "markdown",
      "metadata": {
        "id": "view-in-github",
        "colab_type": "text"
      },
      "source": [
        "<a href=\"https://colab.research.google.com/github/A-A27/Baekjoon_Python/blob/main/Greedy.ipynb\" target=\"_parent\"><img src=\"https://colab.research.google.com/assets/colab-badge.svg\" alt=\"Open In Colab\"/></a>"
      ]
    },
    {
      "cell_type": "code",
      "source": [
        "def solution(n, lost, reserve):\n",
        "    list = []\n",
        "    lost.sort()\n",
        "    reserve.sort()\n",
        "    for i in range(len(lost)):\n",
        "        for k in range(len(reserve)):\n",
        "            if lost[i] == reserve[k]:\n",
        "                lost[i] = -5\n",
        "                reserve[k] = -5\n",
        "    for i in range(1,n+1):\n",
        "        if i not in lost:\n",
        "            list.append(i)\n",
        "    for k in range(len(reserve)):\n",
        "        for i in range(len(lost)):\n",
        "            if lost[i] not in list and ((reserve[k]-1 == lost[i]) or (reserve[k]+1 == lost[i])):\n",
        "                list.append(lost[i])\n",
        "                reserve[k] = -5\n",
        "    answer = len(list)\n",
        "    return answer"
      ],
      "metadata": {
        "colab": {
          "base_uri": "https://localhost:8080/"
        },
        "id": "vwZEL4ppSEtc",
        "outputId": "72abc3b7-0036-48b9-ddce-0f9a54dedcd2"
      },
      "execution_count": 5,
      "outputs": [
        {
          "output_type": "stream",
          "name": "stdout",
          "text": [
            "[1, 3, 5, 2]\n"
          ]
        },
        {
          "output_type": "execute_result",
          "data": {
            "text/plain": [
              "4"
            ]
          },
          "metadata": {},
          "execution_count": 5
        }
      ]
    }
  ]
}
