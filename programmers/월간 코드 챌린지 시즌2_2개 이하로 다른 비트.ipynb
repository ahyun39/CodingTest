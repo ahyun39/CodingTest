{
  "nbformat": 4,
  "nbformat_minor": 0,
  "metadata": {
    "colab": {
      "name": "Solved problem.ipynb",
      "provenance": [],
      "collapsed_sections": [],
      "authorship_tag": "ABX9TyO3gz8q1oG6CL3mTnma2A6K",
      "include_colab_link": true
    },
    "kernelspec": {
      "name": "python3",
      "display_name": "Python 3"
    },
    "language_info": {
      "name": "python"
    }
  },
  "cells": [
    {
      "cell_type": "markdown",
      "metadata": {
        "id": "view-in-github",
        "colab_type": "text"
      },
      "source": [
        "<a href=\"https://colab.research.google.com/github/A-A27/Programmers/blob/main/programmers/%EC%9B%94%EA%B0%84%20%EC%BD%94%EB%93%9C%20%EC%B1%8C%EB%A6%B0%EC%A7%80%20%EC%8B%9C%EC%A6%8C2_2%EA%B0%9C%20%EC%9D%B4%ED%95%98%EB%A1%9C%20%EB%8B%A4%EB%A5%B8%20%EB%B9%84%ED%8A%B8.ipynb\" target=\"_parent\"><img src=\"https://colab.research.google.com/assets/colab-badge.svg\" alt=\"Open In Colab\"/></a>"
      ]
    },
    {
      "cell_type": "code",
      "source": [
        "# 월간 코드 챌린지 시즌2 _ 2개 이하로 다른 비트\n",
        "def solution(numbers):\n",
        "    answer = []\n",
        "    for i in range(len(numbers)):\n",
        "        if numbers[i] % 2 == 0:\n",
        "            answer.append(numbers[i] + 1)\n",
        "        elif numbers[i] % 2 != 0:\n",
        "            k = bin(numbers[i])[2:]\n",
        "            if k[len(k)-2:] == '01':\n",
        "                answer.append(numbers[i] + 1)\n",
        "            else:\n",
        "                bn = list(bin(numbers[i])[2:])\n",
        "                ze = 0\n",
        "                for j in range(len(bn)-1,-1,-1):\n",
        "                    if bn[j] == '1':\n",
        "                        ze += 1\n",
        "                    else:\n",
        "                        break\n",
        "                answer.append(numbers[i] + (2**((ze)-1)))\n",
        "    return answer\n",
        "solution([2,7])"
      ],
      "metadata": {
        "colab": {
          "base_uri": "https://localhost:8080/"
        },
        "id": "jcCP5jIlfjaW",
        "outputId": "a8226235-5f20-4f2f-ceb8-dc8bc48e1329"
      },
      "execution_count": 1,
      "outputs": [
        {
          "output_type": "execute_result",
          "data": {
            "text/plain": [
              "[3, 11]"
            ]
          },
          "metadata": {},
          "execution_count": 1
        }
      ]
    }
  ]
}

규칙 찾기
