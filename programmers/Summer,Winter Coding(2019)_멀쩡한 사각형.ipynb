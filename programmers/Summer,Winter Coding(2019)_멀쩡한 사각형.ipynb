{
  "nbformat": 4,
  "nbformat_minor": 0,
  "metadata": {
    "colab": {
      "name": "Solved problem.ipynb",
      "provenance": [],
      "collapsed_sections": [],
      "authorship_tag": "ABX9TyPa2S+tQNDr9Rv3pDlURgI3",
      "include_colab_link": true
    },
    "kernelspec": {
      "name": "python3",
      "display_name": "Python 3"
    },
    "language_info": {
      "name": "python"
    }
  },
  "cells": [
    {
      "cell_type": "markdown",
      "metadata": {
        "id": "view-in-github",
        "colab_type": "text"
      },
      "source": [
        "<a href=\"https://colab.research.google.com/github/A-A27/Programmers/blob/main/programmers/Summer%2CWinter%20Coding(2019)_%EB%A9%80%EC%A9%A1%ED%95%9C%20%EC%82%AC%EA%B0%81%ED%98%95.ipynb\" target=\"_parent\"><img src=\"https://colab.research.google.com/assets/colab-badge.svg\" alt=\"Open In Colab\"/></a>"
      ]
    },
    {
      "cell_type": "code",
      "source": [
        "# Summer/Winter Coding(2019) _ 멀쩡한 사각형\n",
        "import math\n",
        "def solution(w,h):\n",
        "    answer = 0\n",
        "    if w == h:\n",
        "        answer = w**2-w\n",
        "    elif w == 1 or h == 1:\n",
        "        answer = 0\n",
        "    else:\n",
        "        a = 0\n",
        "        for i in range(0,w):\n",
        "            a += (math.ceil((h*(i+1))/w))-(math.floor((h*i)/w))\n",
        "        answer = w*h-a\n",
        "    return answer\n",
        "solution(8,12)\n",
        "\n",
        "# 다른 풀이...\n",
        "from math import gcd\n",
        "def solution(w,h):\n",
        "    return w * h - (w/gcd(w, h) + h/gcd(w, h) - 1) * gcd(w, h)"
      ],
      "metadata": {
        "colab": {
          "base_uri": "https://localhost:8080/"
        },
        "id": "SgVvbR-YZLa2",
        "outputId": "fcbf116a-c38c-490c-a60e-a4dae5e2fe21"
      },
      "execution_count": 1,
      "outputs": [
        {
          "output_type": "execute_result",
          "data": {
            "text/plain": [
              "80"
            ]
          },
          "metadata": {},
          "execution_count": 1
        }
      ]
    }
  ]
}