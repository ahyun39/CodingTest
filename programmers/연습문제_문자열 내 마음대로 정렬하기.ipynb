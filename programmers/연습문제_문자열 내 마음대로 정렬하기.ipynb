{
  "nbformat": 4,
  "nbformat_minor": 0,
  "metadata": {
    "colab": {
      "name": "연습문제2.ipynb",
      "provenance": [],
      "authorship_tag": "ABX9TyMcuo271dXZzfJqRzK8TzUU",
      "include_colab_link": true
    },
    "kernelspec": {
      "name": "python3",
      "display_name": "Python 3"
    },
    "language_info": {
      "name": "python"
    }
  },
  "cells": [
    {
      "cell_type": "markdown",
      "metadata": {
        "id": "view-in-github",
        "colab_type": "text"
      },
      "source": [
        "<a href=\"https://colab.research.google.com/github/A-A27/Baekjoon_Python/blob/main/programmers/%EC%97%B0%EC%8A%B5%EB%AC%B8%EC%A0%9C_%EB%AC%B8%EC%9E%90%EC%97%B4%20%EB%82%B4%20%EB%A7%88%EC%9D%8C%EB%8C%80%EB%A1%9C%20%EC%A0%95%EB%A0%AC%ED%95%98%EA%B8%B0.ipynb\" target=\"_parent\"><img src=\"https://colab.research.google.com/assets/colab-badge.svg\" alt=\"Open In Colab\"/></a>"
      ]
    },
    {
      "cell_type": "code",
      "source": [
        "# 연습문제 _ 문자열 내 p와 y의 개수\n",
        "def solution(s):\n",
        "  if len(s) <= 50 and s.isalpha():\n",
        "    list_s = list(s)\n",
        "    P = list_s.count('p') + list_s.count('P')\n",
        "    Y = list_s.count('y') + list_s.count('Y')\n",
        "    if P <= 0 and Y <= 0:\n",
        "      answer = True\n",
        "    elif P == Y:\n",
        "      answer = True\n",
        "    else:\n",
        "      answer = False\n",
        "  return answer\n",
        "solution(\"Pyy\")\n",
        "\n",
        "# 다른 풀이...\n",
        "def numPY(s):\n",
        "  return s.lower().count('p') == s.lower().count('y')"
      ],
      "metadata": {
        "colab": {
          "base_uri": "https://localhost:8080/"
        },
        "id": "vbxTSxp7YKWk",
        "outputId": "56388e27-996e-48c3-a970-3c22747b60d1"
      },
      "execution_count": null,
      "outputs": [
        {
          "output_type": "execute_result",
          "data": {
            "text/plain": [
              "False"
            ]
          },
          "metadata": {},
          "execution_count": 47
        }
      ]
    },
    {
      "cell_type": "code",
      "source": [
        "# 연습문제 _ 문자열 내 마음대로 정렬하기\n",
        "import operator\n",
        "def solution(strings, n):\n",
        "    list_strings = {}\n",
        "    strings.sort()\n",
        "    for i in range(len(strings)):\n",
        "      list_strings[strings[i]] = strings[i][n]\n",
        "    list_strings = sorted(list_strings.items(), key = operator.itemgetter(1))\n",
        "    answer = [list_strings[i][0] for i in range(len(list_strings))]\n",
        "    return answer\n",
        "solution([\"abzcd\",\"cdzab\",\"abzfg\",\"abzaa\",\"abzbb\",\"bbzaa\"], 2)\n",
        "\n",
        "# 다른 풀이...\n",
        "from operator import itemgetter, attrgetter, methodcaller\n",
        "def solution(strings, n):\n",
        "  return sorted(sorted(strings), key = itemgetter(n))"
      ],
      "metadata": {
        "id": "N8FDIu9rLi0I",
        "colab": {
          "base_uri": "https://localhost:8080/"
        },
        "outputId": "61371229-5280-47bb-cc95-82c1bcd3855d"
      },
      "execution_count": 29,
      "outputs": [
        {
          "output_type": "execute_result",
          "data": {
            "text/plain": [
              "['abzaa', 'abzbb', 'abzcd', 'abzfg', 'bbzaa', 'cdzab']"
            ]
          },
          "metadata": {},
          "execution_count": 29
        }
      ]
    }
  ]
}