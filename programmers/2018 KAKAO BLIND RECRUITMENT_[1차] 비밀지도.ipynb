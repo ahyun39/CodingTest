{
  "nbformat": 4,
  "nbformat_minor": 0,
  "metadata": {
    "colab": {
      "name": "Untitled3.ipynb",
      "provenance": [],
      "authorship_tag": "ABX9TyN2ZEFokUlxptJkxhu2fPn1",
      "include_colab_link": true
    },
    "kernelspec": {
      "name": "python3",
      "display_name": "Python 3"
    },
    "language_info": {
      "name": "python"
    }
  },
  "cells": [
    {
      "cell_type": "markdown",
      "metadata": {
        "id": "view-in-github",
        "colab_type": "text"
      },
      "source": [
        "<a href=\"https://colab.research.google.com/github/A-A27/Baekjoon_Python/blob/main/programmers/2018%20KAKAO%20BLIND%20RECRUITMENT_%5B1%EC%B0%A8%5D%20%EB%B9%84%EB%B0%80%EC%A7%80%EB%8F%84.ipynb\" target=\"_parent\"><img src=\"https://colab.research.google.com/assets/colab-badge.svg\" alt=\"Open In Colab\"/></a>"
      ]
    },
    {
      "cell_type": "code",
      "execution_count": 20,
      "metadata": {
        "colab": {
          "base_uri": "https://localhost:8080/"
        },
        "id": "BW6uXFV45ASR",
        "outputId": "15659989-0762-4919-b385-785446b2b81d"
      },
      "outputs": [
        {
          "output_type": "stream",
          "name": "stdout",
          "text": [
            "['101110', '100001', '100001', '010110', '011111', '110010']\n",
            "['011011', '111000', '010011', '001110', '001110', '001010']\n"
          ]
        },
        {
          "output_type": "execute_result",
          "data": {
            "text/plain": [
              "['######', '###  #', '##  ##', ' #### ', ' #####', '### # ']"
            ]
          },
          "metadata": {},
          "execution_count": 20
        }
      ],
      "source": [
        "# 2018 KAKAO BLIND RECRUITMENT_[1차] 비밀지도\n",
        "def solution(n, arr1, arr2):\n",
        "    answer = []\n",
        "    arr1 = [bin(i) for i in arr1]\n",
        "    arr2 = [bin(i) for i in arr2]\n",
        "    for i in range(len(arr1)):\n",
        "      if len(arr1[i]) == n+1:\n",
        "        arr1[i] = arr1[i].replace('b',\"\")\n",
        "      elif len(arr1[i]) > n+1:\n",
        "        arr1[i] = arr1[i][2:]\n",
        "      else:\n",
        "        arr1[i] = arr1[i].replace('b',\"\")\n",
        "        arr1[i] = '0'*(n-len(arr1[i])) + arr1[i]\n",
        "    for i in range(len(arr2)):\n",
        "      if len(arr2[i]) == n+1:\n",
        "        arr2[i] = arr2[i].replace('b',\"\")\n",
        "      elif len(arr2[i]) > n+1:\n",
        "        arr2[i] = arr2[i][2:]\n",
        "      else:\n",
        "        arr2[i] = arr2[i].replace('b',\"\")\n",
        "        arr2[i] = '0'*(n-len(arr2[i])) + arr2[i]\n",
        "    for i in range(n):\n",
        "      a = ''\n",
        "      for k in range(n):\n",
        "        if arr1[i][k] == '1' or arr2[i][k] == '1':\n",
        "          a += '#'\n",
        "        elif arr1[i][k] == '0' and arr2[i][k] == '0':\n",
        "          a += ' '\n",
        "      answer.append(a)\n",
        "    return answer\n",
        "\n",
        "solution(6,[46, 33, 33 ,22, 31, 50], [27 ,56, 19, 14, 14, 10])\n",
        "\n",
        "# 다른 풀이...\n",
        "def solution(n, arr1, arr2):\n",
        "  answer = []\n",
        "  for i,j in zip(arr1, arr2):\n",
        "    a12 = str(bin(i|j)[2:])\n",
        "    a12 = a12.rjust(n,'0')\n",
        "    a12 = a12.replace('1','#')\n",
        "    a12 = a12.replace('0',' ')\n",
        "    answer.append(a12)\n",
        "  return answer\n"
      ]
    }
  ]
}