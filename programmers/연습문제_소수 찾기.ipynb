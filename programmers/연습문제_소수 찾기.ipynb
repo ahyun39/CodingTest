{
  "nbformat": 4,
  "nbformat_minor": 0,
  "metadata": {
    "colab": {
      "name": "연습문제2.ipynb",
      "provenance": [],
      "authorship_tag": "ABX9TyMWpnBqV9J9Zx7OshsQ8xHO",
      "include_colab_link": true
    },
    "kernelspec": {
      "name": "python3",
      "display_name": "Python 3"
    },
    "language_info": {
      "name": "python"
    }
  },
  "cells": [
    {
      "cell_type": "markdown",
      "metadata": {
        "id": "view-in-github",
        "colab_type": "text"
      },
      "source": [
        "<a href=\"https://colab.research.google.com/github/A-A27/Baekjoon_Python/blob/main/programmers/%EC%97%B0%EC%8A%B5%EB%AC%B8%EC%A0%9C_%EC%86%8C%EC%88%98%20%EC%B0%BE%EA%B8%B0.ipynb\" target=\"_parent\"><img src=\"https://colab.research.google.com/assets/colab-badge.svg\" alt=\"Open In Colab\"/></a>"
      ]
    },
    {
      "cell_type": "code",
      "source": [
        "# 연습문제 _ 소수 찾기\n",
        "import math\n",
        "def solution(n):\n",
        "  answer = 0\n",
        "  for i in range(1,n+1):\n",
        "    if i == 1:\n",
        "      continue\n",
        "    k = math.sqrt(i)\n",
        "    for j in range(2, int(k)+1):\n",
        "      if i%j == 0:\n",
        "        break\n",
        "    else:\n",
        "      answer += 1\n",
        "  return answer\n",
        "solution(10)\n",
        "\n",
        "# 다른 풀이...\n",
        "def solution(n):\n",
        "  num = set(range(2,n+1))\n",
        "\n",
        "  for i in range(2,n+1):\n",
        "    if i in num:\n",
        "      num -= set(range(2*i, n+1, i))\n",
        "  return len(num)"
      ],
      "metadata": {
        "colab": {
          "base_uri": "https://localhost:8080/"
        },
        "id": "vbxTSxp7YKWk",
        "outputId": "e446c61d-6583-4737-fe75-594439ed95ab"
      },
      "execution_count": 18,
      "outputs": [
        {
          "output_type": "execute_result",
          "data": {
            "text/plain": [
              "4"
            ]
          },
          "metadata": {},
          "execution_count": 18
        }
      ]
    }
  ]
}