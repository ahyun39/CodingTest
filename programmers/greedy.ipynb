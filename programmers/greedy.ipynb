{
  "nbformat": 4,
  "nbformat_minor": 0,
  "metadata": {
    "colab": {
      "name": "Greedy.ipynb",
      "provenance": [],
      "collapsed_sections": [],
      "authorship_tag": "ABX9TyMFNpvnOAwbulPgAeW9xW+W",
      "include_colab_link": true
    },
    "kernelspec": {
      "name": "python3",
      "display_name": "Python 3"
    },
    "language_info": {
      "name": "python"
    }
  },
  "cells": [
    {
      "cell_type": "markdown",
      "metadata": {
        "id": "view-in-github",
        "colab_type": "text"
      },
      "source": [
        "<a href=\"https://colab.research.google.com/github/A-A27/Baekjoon_Python/blob/main/programmers/greedy.ipynb\" target=\"_parent\"><img src=\"https://colab.research.google.com/assets/colab-badge.svg\" alt=\"Open In Colab\"/></a>"
      ]
    },
    {
      "cell_type": "code",
      "execution_count": null,
      "metadata": {
        "colab": {
          "base_uri": "https://localhost:8080/"
        },
        "id": "mcAXhIESkNFC",
        "outputId": "9dcac0bc-5200-4dcc-cc8e-bdbe160ebaef"
      },
      "outputs": [
        {
          "output_type": "stream",
          "name": "stdout",
          "text": [
            "[1, 5, 6, 7]\n",
            "[1, 5, 6, 7, 2, 2] [2, 3, 4] [1, -1, 3, 6]\n",
            "[1, 5, 6, 7, 2, 2, 3] [2, 3, 4] [1, -1, -1, 6]\n",
            "[1, 5, 6, 7, 2, 2, 3]\n"
          ]
        },
        {
          "output_type": "execute_result",
          "data": {
            "text/plain": [
              "7"
            ]
          },
          "metadata": {},
          "execution_count": 47
        }
      ],
      "source": [
        "def solution(n, lost, reserve):\n",
        "    list = []\n",
        "    lost.sort()\n",
        "    reserve.sort()\n",
        "    for i in range(1,n+1):\n",
        "        if i not in lost:\n",
        "            list.append(i)\n",
        "    print(list)\n",
        "    for k in range(len(reserve)):\n",
        "        if reserve[k] in lost:\n",
        "            list.append(reserve[k])\n",
        "            reserve[k] = -1\n",
        "            print(list, lost, reserve)\n",
        "        for i in range(len(lost)):\n",
        "            if lost[i] not in list and ((reserve[k]-1 == lost[i]) or (reserve[k]+1 == lost[i])):\n",
        "                list.append(lost[i]) \n",
        "    answer = len(list)\n",
        "    print(list)\n",
        "    return answer\n",
        "solution(7, [2, 3, 4],[1, 2, 3, 6])"
      ]
    }
  ]
}