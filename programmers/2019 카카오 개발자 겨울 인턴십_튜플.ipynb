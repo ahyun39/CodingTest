{
  "nbformat": 4,
  "nbformat_minor": 0,
  "metadata": {
    "colab": {
      "name": "Untitled3.ipynb",
      "provenance": [],
      "authorship_tag": "ABX9TyMd526SywhsPIEkjilVN8bz",
      "include_colab_link": true
    },
    "kernelspec": {
      "name": "python3",
      "display_name": "Python 3"
    },
    "language_info": {
      "name": "python"
    }
  },
  "cells": [
    {
      "cell_type": "markdown",
      "metadata": {
        "id": "view-in-github",
        "colab_type": "text"
      },
      "source": [
        "<a href=\"https://colab.research.google.com/github/A-A27/Baekjoon_Python/blob/main/programmers/2019%20%EC%B9%B4%EC%B9%B4%EC%98%A4%20%EA%B0%9C%EB%B0%9C%EC%9E%90%20%EA%B2%A8%EC%9A%B8%20%EC%9D%B8%ED%84%B4%EC%8B%AD_%ED%8A%9C%ED%94%8C.ipynb\" target=\"_parent\"><img src=\"https://colab.research.google.com/assets/colab-badge.svg\" alt=\"Open In Colab\"/></a>"
      ]
    },
    {
      "cell_type": "code",
      "source": [
        "# 2019 카카오 개발자 겨울 인턴십 _ 튜플\n",
        "def solution(s):\n",
        "  answer = set()\n",
        "  result = []\n",
        "  sList = s[2:-2].split('},{')\n",
        "  sList.sort(key = lambda x : len(x))\n",
        "  for sMem in sList:\n",
        "    maxL = set(list(map(int, sMem.split(','))))\n",
        "    result = result + list(set.difference(maxL, answer))\n",
        "    answer = maxL\n",
        "  return result\n",
        "solution(\"{{4,2,3},{3},{2,3,4,1},{2,3}}\")\n",
        "\n",
        "# 다른풀이...\n",
        "import re\n",
        "from collections import Counter\n",
        "def solution(s):\n",
        "  s = Counter(re.findall('\\d+', s))\n",
        "  return list(map(int, [k for k, v in sorted(s.items(), key=lambda x: x[1], reverse=True)]))"
      ],
      "metadata": {
        "id": "YTW9p1y3u33L"
      },
      "execution_count": null,
      "outputs": []
    }
  ]
}