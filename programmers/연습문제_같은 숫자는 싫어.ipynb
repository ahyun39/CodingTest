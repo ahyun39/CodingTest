{
  "nbformat": 4,
  "nbformat_minor": 0,
  "metadata": {
    "colab": {
      "name": "연습문제2.ipynb",
      "provenance": [],
      "authorship_tag": "ABX9TyOGhEpSUayVtyzFufoKasr/",
      "include_colab_link": true
    },
    "kernelspec": {
      "name": "python3",
      "display_name": "Python 3"
    },
    "language_info": {
      "name": "python"
    }
  },
  "cells": [
    {
      "cell_type": "markdown",
      "metadata": {
        "id": "view-in-github",
        "colab_type": "text"
      },
      "source": [
        "<a href=\"https://colab.research.google.com/github/A-A27/Baekjoon_Python/blob/main/programmers/%EC%97%B0%EC%8A%B5%EB%AC%B8%EC%A0%9C_%EA%B0%99%EC%9D%80%20%EC%88%AB%EC%9E%90%EB%8A%94%20%EC%8B%AB%EC%96%B4.ipynb\" target=\"_parent\"><img src=\"https://colab.research.google.com/assets/colab-badge.svg\" alt=\"Open In Colab\"/></a>"
      ]
    },
    {
      "cell_type": "code",
      "source": [
        "# 연습문제 _ 같은 숫자는 싫어\n",
        "def solution(arr):\n",
        "  answer = []\n",
        "  for i in arr:\n",
        "    if i not in answer:\n",
        "      answer.append(i)\n",
        "    if i in answer:\n",
        "      if i != answer[len(answer)-1]:\n",
        "        answer.append(i)\n",
        "  return answer\n",
        "solution([1,1,3,3,0,1,1])\n",
        "\n",
        "# 다른 풀이...\n",
        "def no_continuous(s):\n",
        "  a = []\n",
        "  for i in s:\n",
        "    if a[-1:] == [i]: continue\n",
        "    a.append(i)\n",
        "  return a"
      ],
      "metadata": {
        "id": "cR9y0wbDQURC",
        "colab": {
          "base_uri": "https://localhost:8080/"
        },
        "outputId": "c113d189-0bd2-44ff-a24d-0a4accda81ba"
      },
      "execution_count": 6,
      "outputs": [
        {
          "output_type": "execute_result",
          "data": {
            "text/plain": [
              "[1, 3, 0, 1]"
            ]
          },
          "metadata": {},
          "execution_count": 6
        }
      ]
    }
  ]
}