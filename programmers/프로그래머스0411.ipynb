{
  "nbformat": 4,
  "nbformat_minor": 0,
  "metadata": {
    "colab": {
      "name": "프로그래머스0411.ipynb",
      "provenance": [],
      "authorship_tag": "ABX9TyPt+Zllnv+LVCtOm6Sqg2TU",
      "include_colab_link": true
    },
    "kernelspec": {
      "name": "python3",
      "display_name": "Python 3"
    },
    "language_info": {
      "name": "python"
    }
  },
  "cells": [
    {
      "cell_type": "markdown",
      "metadata": {
        "id": "view-in-github",
        "colab_type": "text"
      },
      "source": [
        "<a href=\"https://colab.research.google.com/github/A-A27/Baekjoon_Python/blob/main/programmers/%ED%94%84%EB%A1%9C%EA%B7%B8%EB%9E%98%EB%A8%B8%EC%8A%A40411.ipynb\" target=\"_parent\"><img src=\"https://colab.research.google.com/assets/colab-badge.svg\" alt=\"Open In Colab\"/></a>"
      ]
    },
    {
      "cell_type": "code",
      "source": [
        "def solution(dirs):\n",
        "  answer = 0\n",
        "  list_dirs = [(0,0)]\n",
        "  list_first = []\n",
        "  a, b = (0, 0)\n",
        "  for i in range(len(dirs)):\n",
        "      if dirs[i] == \"U\":\n",
        "        if b > -5 and b < 5:\n",
        "          b += 1\n",
        "      elif dirs[i] == \"D\":\n",
        "        if b > -5 and b < 5:\n",
        "          b -= 1\n",
        "      elif dirs[i] == \"R\":\n",
        "        if a > -5 and a < 5:\n",
        "          a += 1\n",
        "      elif dirs[i] == \"L\":\n",
        "        if a > -5 and a < 5:\n",
        "          a -= 1\n",
        "      if list_dirs[len(list_dirs)-1] != (a,b):\n",
        "        list_dirs.append((a,b))\n",
        "  for k in range(len(list_dirs)):\n",
        "    if k+1 < len(list_dirs):\n",
        "      if list_dirs[k:k+2] not in list_first and list_dirs[k+1:k-1:-1] not in list_first:\n",
        "        list_first.append(list_dirs[k:k+2])\n",
        "  answer = len(list_first)\n",
        "  return answer\n",
        "solution(\"RULDRULD\")"
      ],
      "metadata": {
        "id": "UEbdZ9Sg86gm"
      },
      "execution_count": null,
      "outputs": []
    },
    {
      "cell_type": "code",
      "source": [
        "def solution(N, stages):\n",
        "    list_stage = {}\n",
        "    answer = []\n",
        "    for i in range(1, N+1):\n",
        "        stage_c = 0\n",
        "        stage_f = 0\n",
        "        for k in range(len(stages)):\n",
        "            if stages[k] > i:\n",
        "                stage_c += 1\n",
        "            elif stages[k] == i:\n",
        "                stage_f += 1\n",
        "        if stage_f == 0 or stage_c + stage_f == 0:\n",
        "            list_stage[i] = 0\n",
        "        else:\n",
        "            list_stage[i] = stage_f / (stage_c+stage_f)\n",
        "    list_sort = list((v,k) for k, v in list_stage.items())\n",
        "    list_sort = sorted(list_sort, reverse = True)\n",
        "    print(list_sort)\n",
        "    same_sort = []\n",
        "    for i in range(len(list_sort)):\n",
        "        if len(same_sort) == 0 and list_sort[i][0] not in same_sort:\n",
        "          same_sort.append(list_sort[i])\n",
        "          same_sort = sorted(same_sort)\n",
        "        elif len(same_sort) > 0 and list_sort[i][0] not in same_sort:\n",
        "          same_sort = []\n",
        "          same_sort.append(list_sort[i])\n",
        "        elif list_sort[i][0] in same_sort:\n",
        "          same_sort.append(list_sort)\n",
        "        answer.append(list_sort[i][1])\n",
        "    print(list_sort)\n",
        "    return answer\n",
        "\n",
        "solution(4,[4,4,4,4,4])"
      ],
      "metadata": {
        "colab": {
          "base_uri": "https://localhost:8080/"
        },
        "id": "Ut6KW2dUNOGg",
        "outputId": "24b516b8-26ca-44e2-b990-9d703c823f85"
      },
      "execution_count": 8,
      "outputs": [
        {
          "output_type": "stream",
          "name": "stdout",
          "text": [
            "[(1.0, 4), (0, 3), (0, 2), (0, 1)]\n",
            "[(1.0, 4), (0, 2), (0, 1), (0, 3)]\n"
          ]
        },
        {
          "output_type": "execute_result",
          "data": {
            "text/plain": [
              "[4, 2, 1, 3]"
            ]
          },
          "metadata": {},
          "execution_count": 8
        }
      ]
    }
  ]
}