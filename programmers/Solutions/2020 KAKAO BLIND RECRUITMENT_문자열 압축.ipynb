{
  "nbformat": 4,
  "nbformat_minor": 0,
  "metadata": {
    "colab": {
      "name": "Untitled3.ipynb",
      "provenance": [],
      "authorship_tag": "ABX9TyNoamd6u3B7ZeSETWMwN7dK",
      "include_colab_link": true
    },
    "kernelspec": {
      "name": "python3",
      "display_name": "Python 3"
    },
    "language_info": {
      "name": "python"
    }
  },
  "cells": [
    {
      "cell_type": "markdown",
      "metadata": {
        "id": "view-in-github",
        "colab_type": "text"
      },
      "source": [
        "<a href=\"https://colab.research.google.com/github/A-A27/Baekjoon_Python/blob/main/programmers/2020%20KAKAO%20BLIND%20RECRUITMENT_%EB%AC%B8%EC%9E%90%EC%97%B4%20%EC%95%95%EC%B6%95.ipynb\" target=\"_parent\"><img src=\"https://colab.research.google.com/assets/colab-badge.svg\" alt=\"Open In Colab\"/></a>"
      ]
    },
    {
      "cell_type": "code",
      "source": [
        "# 2020 KAKAO BLIND RECRUITMENT_문자열 압축 \n",
        "def solution(s):\n",
        "    answer = 0\n",
        "    sList = [] # 압축한 문자열 리스트\n",
        "    lenList = [] # 다르게 자른 문자열들의 길이 리스트\n",
        "    for i in range(1,len(s)//2+1): # 문자열 절반길이까지 확인하기\n",
        "      cutList = []\n",
        "      sameList = []\n",
        "      for k in range(0,len(s),i): # 1개씩 자르기 ~ s길이 절반씩 자르기\n",
        "        if s[k:k+i] not in sameList:\n",
        "          sameList = []\n",
        "          sameList.append(s[k:k+i])\n",
        "          if s[k:k+i] != s[k+i:k+i+i]: # 연속해서 같은 요소가 없는 경우에는 그대로 추가\n",
        "            cutList.append(s[k:k+i])\n",
        "        elif (s[k:k+i] in sameList) and (s[k:k+i] != s[k+i:k+i+i]): # 연속한 중복 요소 합치기\n",
        "          sameList.append(s[k:k+i])\n",
        "          cutList.append(str(sameList.count(s[k:k+i]))+s[k:k+i])\n",
        "        elif (s[k:k+i] in sameList) and (s[k:k+i] == s[k+i:k+i+i]): # 연속한 중복 요소 모으기\n",
        "          sameList.append(s[k:k+i])\n",
        "      sList.append(''.join(cutList))\n",
        "    for i in sList:\n",
        "      lenList.append(len(i))\n",
        "    if len(s) == 1:\n",
        "      answer = 1\n",
        "    else:\n",
        "      answer = min(lenList)\n",
        "    return answer\n",
        "\n",
        "solution(\"abcabcabcabcdededededede\")\n",
        "\n",
        "# 다른 풀이...\n",
        "def compress(text, tok_len):\n",
        "  words = [text[i:i+tok_len] for i in range(0, len(text), tok_len)]\n",
        "  res = []\n",
        "  cur_word = words[0]\n",
        "  cur_cnt = 1\n",
        "  for a, b in zip(words, words[1:] + [' ']):\n",
        "    if a == b:\n",
        "      cur_cnt += 1\n",
        "    else:\n",
        "      res.append([cur_word, cur_cnt])\n",
        "      cur_word = b\n",
        "      cur_cnt = 1\n",
        "  return sum(len(word) + (len(str(cnt)) if cnt > 1 else 0) for word, cnt in res)\n",
        "\n",
        "def solution(text):\n",
        "  return min(compress(text,tok_len) for tok_len in list(range(1, int(len(text)/2)+1)) + [len(text)])\n"
      ],
      "metadata": {
        "colab": {
          "base_uri": "https://localhost:8080/"
        },
        "id": "LBZMIOQNj038",
        "outputId": "74c1596b-5b62-4c09-8435-484037e7028c"
      },
      "execution_count": 2,
      "outputs": [
        {
          "output_type": "execute_result",
          "data": {
            "text/plain": [
              "14"
            ]
          },
          "metadata": {},
          "execution_count": 2
        }
      ]
    }
  ]
}