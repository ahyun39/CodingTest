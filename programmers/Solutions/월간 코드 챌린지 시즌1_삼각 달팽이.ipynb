{
  "nbformat": 4,
  "nbformat_minor": 0,
  "metadata": {
    "colab": {
      "name": "Solved problem.ipynb",
      "provenance": [],
      "collapsed_sections": [],
      "authorship_tag": "ABX9TyMc/qYhtlQ3QRLjAUXUT5B2",
      "include_colab_link": true
    },
    "kernelspec": {
      "name": "python3",
      "display_name": "Python 3"
    },
    "language_info": {
      "name": "python"
    }
  },
  "cells": [
    {
      "cell_type": "markdown",
      "metadata": {
        "id": "view-in-github",
        "colab_type": "text"
      },
      "source": [
        "<a href=\"https://colab.research.google.com/github/A-A27/Programmers/blob/main/programmers/%EC%9B%94%EA%B0%84%20%EC%BD%94%EB%93%9C%20%EC%B1%8C%EB%A6%B0%EC%A7%80%20%EC%8B%9C%EC%A6%8C1_%EC%82%BC%EA%B0%81%20%EB%8B%AC%ED%8C%BD%EC%9D%B4.ipynb\" target=\"_parent\"><img src=\"https://colab.research.google.com/assets/colab-badge.svg\" alt=\"Open In Colab\"/></a>"
      ]
    },
    {
      "cell_type": "code",
      "source": [
        "# 월간 코드 챌린지 시즌1_삼각 달팽이\n",
        "def solution(n):\n",
        "    answer = []\n",
        "    for _ in range(1,n+1):\n",
        "        answer.append([_])\n",
        "    t = n-1\n",
        "    l = n-2\n",
        "    h = 2*n\n",
        "    m = 0\n",
        "    for _ in range(n+1,2*n):\n",
        "        answer[n-1].append(_)\n",
        "    for i in range(3,n+1):\n",
        "        if i%3 == 0:\n",
        "            for j in range(l):\n",
        "                t -= 1\n",
        "                answer[t].insert(len(answer[t])-m,h+j)\n",
        "            h = h+l\n",
        "            l -= 1 \n",
        "        elif i%3 == 1:\n",
        "            m += 1\n",
        "            for j in range(l):\n",
        "                t+= 1\n",
        "                answer[t].insert(m,h+j)\n",
        "            h = h+l\n",
        "            l -= 1  \n",
        "        elif i%3 == 2:\n",
        "            z = m+1\n",
        "            for j in range(l):\n",
        "                answer[t].insert(z,h+j)\n",
        "                z += 1\n",
        "            h = h+l\n",
        "            l -= 1\n",
        "    answer = sum(answer, [])\n",
        "    return answer\n",
        "solution(4)\n",
        "\n",
        "# 다른 풀이...\n",
        "def solution(n):\n",
        "  dx = [0,1,-1]\n",
        "  dy = [1,0,-1]\n",
        "  b = [[0]*i for i in range(1, n+1)]\n",
        "  x, y = 0, 0\n",
        "  num = 1\n",
        "  d = 0\n",
        "  while num <= (n+1) * n//2:\n",
        "    b[y][x] = num\n",
        "    ny = y + dy[d]\n",
        "    nx = x + dx[d]\n",
        "    num += 1\n",
        "    if 0 <= ny < n and 0 <= nx <= ny and b[ny][nx] == 0:\n",
        "      y, x = ny, nx\n",
        "    else:\n",
        "      d = (d+1) % 3\n",
        "      y += dy[d]\n",
        "      x += dx[d]\n",
        "  return sum(b, [])"
      ],
      "metadata": {
        "colab": {
          "base_uri": "https://localhost:8080/"
        },
        "id": "TPC-lZBGi5N6",
        "outputId": "d8e05f09-677c-4400-e7c4-5060af02f076"
      },
      "execution_count": 1,
      "outputs": [
        {
          "output_type": "execute_result",
          "data": {
            "text/plain": [
              "[1, 2, 9, 3, 10, 8, 4, 5, 6, 7]"
            ]
          },
          "metadata": {},
          "execution_count": 1
        }
      ]
    }
  ]
}