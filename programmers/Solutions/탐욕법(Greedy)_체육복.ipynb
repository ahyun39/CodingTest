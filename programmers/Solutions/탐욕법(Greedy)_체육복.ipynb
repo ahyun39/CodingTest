{
  "nbformat": 4,
  "nbformat_minor": 0,
  "metadata": {
    "colab": {
      "name": "Greedy.ipynb",
      "provenance": [],
      "collapsed_sections": [],
      "authorship_tag": "ABX9TyNJxOtP9ffl4K0jxwT2TdAe",
      "include_colab_link": true
    },
    "kernelspec": {
      "name": "python3",
      "display_name": "Python 3"
    },
    "language_info": {
      "name": "python"
    }
  },
  "cells": [
    {
      "cell_type": "markdown",
      "metadata": {
        "id": "view-in-github",
        "colab_type": "text"
      },
      "source": [
        "<a href=\"https://colab.research.google.com/github/A-A27/Baekjoon_Python/blob/main/programmers/%ED%83%90%EC%9A%95%EB%B2%95(Greedy)_%EC%B2%B4%EC%9C%A1%EB%B3%B5.ipynb\" target=\"_parent\"><img src=\"https://colab.research.google.com/assets/colab-badge.svg\" alt=\"Open In Colab\"/></a>"
      ]
    },
    {
      "cell_type": "code",
      "source": [
        "def solution(n, lost, reserve):\n",
        "    list = []\n",
        "    lost.sort()\n",
        "    reserve.sort()\n",
        "    for i in range(len(lost)):\n",
        "        for k in range(len(reserve)):\n",
        "            if lost[i] == reserve[k]:\n",
        "                lost[i] = -5\n",
        "                reserve[k] = -5\n",
        "    for i in range(1,n+1):\n",
        "        if i not in lost:\n",
        "            list.append(i)\n",
        "    for k in range(len(reserve)):\n",
        "        for i in range(len(lost)):\n",
        "            if lost[i] not in list and ((reserve[k]-1 == lost[i]) or (reserve[k]+1 == lost[i])):\n",
        "                list.append(lost[i])\n",
        "                reserve[k] = -5\n",
        "    answer = len(list)\n",
        "    return answer\n",
        "\n",
        "#다른 풀이..\n",
        "def solution(n, lost, reserve):\n",
        "  _reserve = [r for r in reserve if r not in lost]\n",
        "  _lost = [l for l in lost if l not in reserve]\n",
        "  for r in _reserve:\n",
        "    f = r - 1\n",
        "    b = r + 1\n",
        "    if f in _lost:\n",
        "      _lost.remove(f)\n",
        "    elif b in _lost:\n",
        "      _lost.remove(b)\n",
        "  return n - len(_lost)"
      ],
      "metadata": {
        "colab": {
          "base_uri": "https://localhost:8080/"
        },
        "id": "vwZEL4ppSEtc",
        "outputId": "72abc3b7-0036-48b9-ddce-0f9a54dedcd2"
      },
      "execution_count": null,
      "outputs": [
        {
          "output_type": "stream",
          "name": "stdout",
          "text": [
            "[1, 3, 5, 2]\n"
          ]
        },
        {
          "output_type": "execute_result",
          "data": {
            "text/plain": [
              "4"
            ]
          },
          "metadata": {},
          "execution_count": 5
        }
      ]
    }
  ]
}