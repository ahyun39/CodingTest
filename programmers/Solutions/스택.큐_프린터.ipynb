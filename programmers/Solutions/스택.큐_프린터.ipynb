{
  "nbformat": 4,
  "nbformat_minor": 0,
  "metadata": {
    "colab": {
      "name": "Solved problem.ipynb",
      "provenance": [],
      "collapsed_sections": [],
      "authorship_tag": "ABX9TyMUkE3lBpITOei3NSIc1TCL",
      "include_colab_link": true
    },
    "kernelspec": {
      "name": "python3",
      "display_name": "Python 3"
    },
    "language_info": {
      "name": "python"
    }
  },
  "cells": [
    {
      "cell_type": "markdown",
      "metadata": {
        "id": "view-in-github",
        "colab_type": "text"
      },
      "source": [
        "<a href=\"https://colab.research.google.com/github/A-A27/Baekjoon_Python/blob/main/programmers/%EC%8A%A4%ED%83%9D.%ED%81%90_%ED%94%84%EB%A6%B0%ED%84%B0.ipynb\" target=\"_parent\"><img src=\"https://colab.research.google.com/assets/colab-badge.svg\" alt=\"Open In Colab\"/></a>"
      ]
    },
    {
      "cell_type": "markdown",
      "source": [
        "Solved Problem"
      ],
      "metadata": {
        "id": "r6v6x4aYshb-"
      }
    },
    {
      "cell_type": "code",
      "source": [
        "# 스택/큐 _ 프린터\n",
        "def solution(priorities, location):\n",
        "    answer = 0\n",
        "    priorL = []\n",
        "    indexL = [x for x in range(len(priorities))]\n",
        "    while len(priorities) > 0:\n",
        "      maxP = max(priorities)\n",
        "      if priorities[0] < maxP:\n",
        "        priorities.append(priorities.pop(0))\n",
        "        indexL.append(indexL.pop(0))\n",
        "      else:\n",
        "        priorL.append(indexL[0])\n",
        "        priorities.remove(priorities[0])\n",
        "        indexL.remove(indexL[0])\n",
        "    for i in priorL:\n",
        "      if i == location:\n",
        "        answer = priorL.index(i)+1\n",
        "    return answer\n",
        "solution([2, 1, 2, 1, 2, 1, 2, 1, 2],1)\n",
        "\n",
        "# 다른 풀이...\n",
        "def solution(priorities, location):\n",
        "  queue = [(i, p) for i, p in enumerate(priorities)]\n",
        "  answer = 0\n",
        "  while True:\n",
        "    cur = queue.pop(0)\n",
        "    if any(cur[1] < q[1] for q in queue):\n",
        "      queue.append(cur)\n",
        "    else:\n",
        "      answer += 1\n",
        "      if cur[0] == location:\n",
        "        return answer "
      ],
      "metadata": {
        "colab": {
          "base_uri": "https://localhost:8080/"
        },
        "id": "2pYYx_oJtVsv",
        "outputId": "291b8443-ad25-4198-a8db-13a16c96992f"
      },
      "execution_count": 1,
      "outputs": [
        {
          "output_type": "execute_result",
          "data": {
            "text/plain": [
              "6"
            ]
          },
          "metadata": {},
          "execution_count": 1
        }
      ]
    }
  ]
}