{
  "nbformat": 4,
  "nbformat_minor": 0,
  "metadata": {
    "colab": {
      "name": "Solved problem.ipynb",
      "provenance": [],
      "collapsed_sections": [],
      "authorship_tag": "ABX9TyNeHfiQPNc3NjYF3OFPXeDj",
      "include_colab_link": true
    },
    "kernelspec": {
      "name": "python3",
      "display_name": "Python 3"
    },
    "language_info": {
      "name": "python"
    }
  },
  "cells": [
    {
      "cell_type": "markdown",
      "metadata": {
        "id": "view-in-github",
        "colab_type": "text"
      },
      "source": [
        "<a href=\"https://colab.research.google.com/github/A-A27/Programmers/blob/main/programmers/%EC%97%B0%EC%8A%B5%EB%AC%B8%EC%A0%9C_%EC%88%AB%EC%9E%90%20%EB%B8%94%EB%A1%9D.ipynb\" target=\"_parent\"><img src=\"https://colab.research.google.com/assets/colab-badge.svg\" alt=\"Open In Colab\"/></a>"
      ]
    },
    {
      "cell_type": "code",
      "source": [
        "# 연습문제 _ 숫자 블록\n",
        "import math\n",
        "def solution(begin, end):\n",
        "    answer = []\n",
        "    for i in range(begin, end + 1):\n",
        "        if i == 1:\n",
        "            answer.append(0)\n",
        "        else:\n",
        "            s = int(math.sqrt(i))\n",
        "            for j in range(2, s+1):\n",
        "                t = i // j\n",
        "                if t > 10**7:\n",
        "                    continue\n",
        "                if i%j == 0:\n",
        "                    answer.append(t)\n",
        "                    break\n",
        "            else:\n",
        "                answer.append(1)\n",
        "    return answer\n",
        "solution(1,10)"
      ],
      "metadata": {
        "colab": {
          "base_uri": "https://localhost:8080/"
        },
        "id": "8dZJOGu5rbEx",
        "outputId": "efd79fa4-f188-4782-db6d-84466ba8c3ae"
      },
      "execution_count": 1,
      "outputs": [
        {
          "output_type": "execute_result",
          "data": {
            "text/plain": [
              "[0, 1, 1, 2, 1, 3, 1, 4, 3, 5]"
            ]
          },
          "metadata": {},
          "execution_count": 1
        }
      ]
    }
  ]
}