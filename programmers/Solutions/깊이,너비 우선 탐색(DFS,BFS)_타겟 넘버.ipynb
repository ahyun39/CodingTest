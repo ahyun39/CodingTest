{
  "nbformat": 4,
  "nbformat_minor": 0,
  "metadata": {
    "colab": {
      "name": "Solved problem.ipynb",
      "provenance": [],
      "collapsed_sections": [],
      "authorship_tag": "ABX9TyM5Vi/1fTmTNxY/mRgJmzgd",
      "include_colab_link": true
    },
    "kernelspec": {
      "name": "python3",
      "display_name": "Python 3"
    },
    "language_info": {
      "name": "python"
    }
  },
  "cells": [
    {
      "cell_type": "markdown",
      "metadata": {
        "id": "view-in-github",
        "colab_type": "text"
      },
      "source": [
        "<a href=\"https://colab.research.google.com/github/A-A27/Programmers/blob/main/programmers/%EA%B9%8A%EC%9D%B4%2C%EB%84%88%EB%B9%84%20%EC%9A%B0%EC%84%A0%20%ED%83%90%EC%83%89(DFS%2CBFS)_%ED%83%80%EA%B2%9F%20%EB%84%98%EB%B2%84.ipynb\" target=\"_parent\"><img src=\"https://colab.research.google.com/assets/colab-badge.svg\" alt=\"Open In Colab\"/></a>"
      ]
    },
    {
      "cell_type": "code",
      "source": [
        "# 깊이/너비 우선 탐색(DFS/BFS) _ 타켓 넘버\n",
        "def solution(numbers, target):\n",
        "    answer = 0\n",
        "    overVal = (sum(numbers) - target)//2  # 잉여 값 구하기. 이 값을 만들 경우의 수를 구해야함\n",
        "    length = len(numbers)\n",
        "\n",
        "    def recursive(target, idx, cnt):  # 목표 숫자, 리스트에서 현재 위치, 경우 갯수\n",
        "        for i in range(idx, length):\n",
        "            temp = target\n",
        "            temp -= numbers[i]\n",
        "            if temp == 0:\n",
        "                cnt += 1\n",
        "            elif temp > 0:\n",
        "                cnt += recursive(temp, i+1, 0)\n",
        "            elif temp < 0:\n",
        "                continue\n",
        "        return cnt\n",
        "\n",
        "    return recursive(overVal, 0, 0)\n",
        "solution([1, 1, 1, 1, 1], 3)\n",
        "\n",
        "# 다른 풀이...\n",
        "def solution(numbers, target):\n",
        "    if not numbers and target == 0 :\n",
        "        return 1\n",
        "    elif not numbers:\n",
        "        return 0\n",
        "    else:\n",
        "        return solution(numbers[1:], target-numbers[0]) + solution(numbers[1:], target+numbers[0])"
      ],
      "metadata": {
        "colab": {
          "base_uri": "https://localhost:8080/"
        },
        "id": "SgVvbR-YZLa2",
        "outputId": "de276bbb-f302-4cf2-bcc9-764a475b3753"
      },
      "execution_count": null,
      "outputs": [
        {
          "output_type": "execute_result",
          "data": {
            "text/plain": [
              "5"
            ]
          },
          "metadata": {},
          "execution_count": 1
        }
      ]
    }
  ]
}