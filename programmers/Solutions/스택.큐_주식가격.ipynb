{
  "nbformat": 4,
  "nbformat_minor": 0,
  "metadata": {
    "colab": {
      "name": "Solved problem.ipynb",
      "provenance": [],
      "collapsed_sections": [],
      "authorship_tag": "ABX9TyNhMMOiWyZ6FQOKLCRW81ho",
      "include_colab_link": true
    },
    "kernelspec": {
      "name": "python3",
      "display_name": "Python 3"
    },
    "language_info": {
      "name": "python"
    }
  },
  "cells": [
    {
      "cell_type": "markdown",
      "metadata": {
        "id": "view-in-github",
        "colab_type": "text"
      },
      "source": [
        "<a href=\"https://colab.research.google.com/github/A-A27/Baekjoon_Python/blob/main/programmers/%EC%8A%A4%ED%83%9D.%ED%81%90_%EC%A3%BC%EC%8B%9D%EA%B0%80%EA%B2%A9.ipynb\" target=\"_parent\"><img src=\"https://colab.research.google.com/assets/colab-badge.svg\" alt=\"Open In Colab\"/></a>"
      ]
    },
    {
      "cell_type": "code",
      "source": [
        "# 스택/큐 _ 주식가격\n",
        "def solution(prices):\n",
        "  answer = []\n",
        "  for i in range(len(prices)):\n",
        "    t = 0\n",
        "    for k in range(i+1,len(prices)):\n",
        "      t += 1\n",
        "      if prices[i] > prices[k]:\n",
        "        break\n",
        "    answer.append(t)\n",
        "  return answer\n",
        "solution([1,2,3,2,3])"
      ],
      "metadata": {
        "colab": {
          "base_uri": "https://localhost:8080/"
        },
        "id": "9kETRcsoNAuc",
        "outputId": "e977a332-4a81-414c-f7a8-4ddfc819418c"
      },
      "execution_count": 1,
      "outputs": [
        {
          "output_type": "execute_result",
          "data": {
            "text/plain": [
              "[4, 3, 1, 1, 0]"
            ]
          },
          "metadata": {},
          "execution_count": 1
        }
      ]
    }
  ]
}