{
 "cells": [
  {
   "cell_type": "markdown",
   "metadata": {},
   "source": [
    "## 동적계획법(Dynamic Programming)_등굣길 Lv.3\n",
    "[문제 링크](https://school.programmers.co.kr/learn/courses/30/lessons/42898)"
   ]
  },
  {
   "cell_type": "code",
   "execution_count": 1,
   "metadata": {},
   "outputs": [
    {
     "data": {
      "text/plain": [
       "4"
      ]
     },
     "execution_count": 1,
     "metadata": {},
     "output_type": "execute_result"
    }
   ],
   "source": [
    "def solution(m, n, puddles):\n",
    "    board = [[0 for i in range(m)] for i in range(n)]\n",
    "    board[0][0] = 1\n",
    "    \n",
    "    for r in range(0, n):\n",
    "        for c in range(0, m):\n",
    "            if board[r][c] == 1: continue\n",
    "            if [c+1, r+1] in puddles: board[r][c] = 0\n",
    "            else:\n",
    "                board[r][c] = board[r][c-1] + board[r-1][c]\n",
    "    cnt = board[-1][-1]\n",
    "    return cnt%1000000007\n",
    "\n",
    "solution(4,3,[[2,2]])"
   ]
  }
 ],
 "metadata": {
  "kernelspec": {
   "display_name": "Python 3",
   "language": "python",
   "name": "python3"
  },
  "language_info": {
   "codemirror_mode": {
    "name": "ipython",
    "version": 3
   },
   "file_extension": ".py",
   "mimetype": "text/x-python",
   "name": "python",
   "nbconvert_exporter": "python",
   "pygments_lexer": "ipython3",
   "version": "3.10.11"
  }
 },
 "nbformat": 4,
 "nbformat_minor": 2
}
