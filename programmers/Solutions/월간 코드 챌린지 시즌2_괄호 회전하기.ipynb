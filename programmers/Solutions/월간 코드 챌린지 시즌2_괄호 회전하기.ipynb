{
  "nbformat": 4,
  "nbformat_minor": 0,
  "metadata": {
    "colab": {
      "name": "Solved problem.ipynb",
      "provenance": [],
      "collapsed_sections": [],
      "authorship_tag": "ABX9TyPLHmvL+kq6IknnqWUycvKO",
      "include_colab_link": true
    },
    "kernelspec": {
      "name": "python3",
      "display_name": "Python 3"
    },
    "language_info": {
      "name": "python"
    }
  },
  "cells": [
    {
      "cell_type": "markdown",
      "metadata": {
        "id": "view-in-github",
        "colab_type": "text"
      },
      "source": [
        "<a href=\"https://colab.research.google.com/github/A-A27/Programmers/blob/main/programmers/%EC%9B%94%EA%B0%84%20%EC%BD%94%EB%93%9C%20%EC%B1%8C%EB%A6%B0%EC%A7%80%20%EC%8B%9C%EC%A6%8C2_%EA%B4%84%ED%98%B8%20%ED%9A%8C%EC%A0%84%ED%95%98%EA%B8%B0.ipynb\" target=\"_parent\"><img src=\"https://colab.research.google.com/assets/colab-badge.svg\" alt=\"Open In Colab\"/></a>"
      ]
    },
    {
      "cell_type": "code",
      "source": [
        "# 월간 코드 챌린지 시즌2 _ 괄호 회전하기\n",
        "def solution(s):\n",
        "    answer = 0\n",
        "    i = 0\n",
        "    while i < len(s):\n",
        "      t = 0\n",
        "      s = s[1:]+s[0]\n",
        "      ss = s\n",
        "      while True:\n",
        "        if '[]' in ss or '{}' in ss or '()' in ss:\n",
        "          ss = ss.replace('[]','')\n",
        "          ss = ss.replace('{}','')\n",
        "          ss = ss.replace('()','')\n",
        "        else:\n",
        "          break\n",
        "      if ss == '':\n",
        "          answer += 1\n",
        "      i += 1\n",
        "    return answer\n",
        "solution(\"}]()[{\")"
      ],
      "metadata": {
        "colab": {
          "base_uri": "https://localhost:8080/"
        },
        "id": "xOKPNAzBrnxp",
        "outputId": "8a0ff359-b1a1-4e7f-e0b8-d450edab12f9"
      },
      "execution_count": 2,
      "outputs": [
        {
          "output_type": "execute_result",
          "data": {
            "text/plain": [
              "2"
            ]
          },
          "metadata": {},
          "execution_count": 2
        }
      ]
    }
  ]
}