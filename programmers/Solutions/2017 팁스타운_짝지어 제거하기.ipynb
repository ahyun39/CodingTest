{
  "nbformat": 4,
  "nbformat_minor": 0,
  "metadata": {
    "colab": {
      "name": "Solved problem.ipynb",
      "provenance": [],
      "collapsed_sections": [],
      "authorship_tag": "ABX9TyOQPMbQi6cF6xAOGZgjKFLf",
      "include_colab_link": true
    },
    "kernelspec": {
      "name": "python3",
      "display_name": "Python 3"
    },
    "language_info": {
      "name": "python"
    }
  },
  "cells": [
    {
      "cell_type": "markdown",
      "metadata": {
        "id": "view-in-github",
        "colab_type": "text"
      },
      "source": [
        "<a href=\"https://colab.research.google.com/github/A-A27/Baekjoon_Python/blob/main/programmers/2017%20%ED%8C%81%EC%8A%A4%ED%83%80%EC%9A%B4_%EC%A7%9D%EC%A7%80%EC%96%B4%20%EC%A0%9C%EA%B1%B0%ED%95%98%EA%B8%B0.ipynb\" target=\"_parent\"><img src=\"https://colab.research.google.com/assets/colab-badge.svg\" alt=\"Open In Colab\"/></a>"
      ]
    },
    {
      "cell_type": "markdown",
      "source": [
        "Solved Problem"
      ],
      "metadata": {
        "id": "r6v6x4aYshb-"
      }
    },
    {
      "cell_type": "code",
      "source": [
        "# 2017 팁스타운 _ 짝지어 제거하기\n",
        "def solution(s):\n",
        "    answer = 0\n",
        "    sameL = []\n",
        "    for i in s:\n",
        "      if len(sameL) == 0:\n",
        "        sameL.append(i)\n",
        "      elif len(sameL) > 0 and i == sameL[len(sameL)-1]:\n",
        "        sameL.pop()\n",
        "      elif len(sameL) > 0 and i != sameL[len(sameL)-1]:\n",
        "        sameL.append(i)\n",
        "    if len(sameL) == 0:\n",
        "      answer = 1\n",
        "    return answer\n",
        "solution(\"baabaa\")"
      ],
      "metadata": {
        "colab": {
          "base_uri": "https://localhost:8080/"
        },
        "id": "2_c4-kcBsgel",
        "outputId": "9d5fb9aa-9a56-456e-c8ce-7347ea1538ab"
      },
      "execution_count": 2,
      "outputs": [
        {
          "output_type": "execute_result",
          "data": {
            "text/plain": [
              "1"
            ]
          },
          "metadata": {},
          "execution_count": 2
        }
      ]
    }
  ]
}