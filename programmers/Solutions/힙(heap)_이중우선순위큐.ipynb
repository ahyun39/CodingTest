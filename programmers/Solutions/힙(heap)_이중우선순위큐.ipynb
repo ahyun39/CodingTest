{
 "cells": [
  {
   "cell_type": "markdown",
   "metadata": {},
   "source": [
    "## 힙(heap)_이중우선순위큐 Lv.3\n",
    "[문제 링크](https://school.programmers.co.kr/learn/courses/30/lessons/42628#)"
   ]
  },
  {
   "cell_type": "code",
   "execution_count": 4,
   "metadata": {},
   "outputs": [
    {
     "data": {
      "text/plain": [
       "[333, -45]"
      ]
     },
     "execution_count": 4,
     "metadata": {},
     "output_type": "execute_result"
    }
   ],
   "source": [
    "import heapq\n",
    "\n",
    "def solution(operations):\n",
    "    answer = []\n",
    "    heap_op = []\n",
    "    for op in operations:\n",
    "        operation = op.split()\n",
    "        if operation[0] == 'I':\n",
    "            heapq.heappush(heap_op, int(operation[1]))\n",
    "        elif operation[0] == 'D':\n",
    "            if operation[1] == '-1':\n",
    "                if heap_op != []:\n",
    "                    heapq.heappop(heap_op)\n",
    "                else: continue\n",
    "            elif operation[1] == '1':\n",
    "                if heap_op != []:\n",
    "                    del heap_op[heap_op.index(max(heap_op))]\n",
    "                else: continue\n",
    "    if heap_op == []:\n",
    "        answer = [0,0]\n",
    "    else:\n",
    "        answer = [max(heap_op),min(heap_op)]\n",
    "    return answer\n",
    "solution([\"I -45\", \"I 653\", \"D 1\", \"I -642\", \"I 45\", \"I 97\", \"D 1\", \"D -1\", \"I 333\"])"
   ]
  }
 ],
 "metadata": {
  "kernelspec": {
   "display_name": "Python 3",
   "language": "python",
   "name": "python3"
  },
  "language_info": {
   "codemirror_mode": {
    "name": "ipython",
    "version": 3
   },
   "file_extension": ".py",
   "mimetype": "text/x-python",
   "name": "python",
   "nbconvert_exporter": "python",
   "pygments_lexer": "ipython3",
   "version": "3.10.11"
  }
 },
 "nbformat": 4,
 "nbformat_minor": 2
}
