{
 "cells": [
  {
   "cell_type": "markdown",
   "metadata": {},
   "source": [
    "## 2022 KAKAO TECH INTERNSHIP 성격 유형 검사하기\n",
    "[문제 링크](https://school.programmers.co.kr/learn/courses/30/lessons/118666)"
   ]
  },
  {
   "cell_type": "code",
   "execution_count": 3,
   "metadata": {},
   "outputs": [],
   "source": [
    "def solution(survey, choices):\n",
    "    answer = ''\n",
    "    # 점수표\n",
    "    MBTI = [['R','T'], ['C','F'],['J','M'],['A','N']]\n",
    "    MBTI_score = {\"R\":0,\"T\":0,\"C\":0,\"F\":0,\"J\":0,\"M\":0,\"A\":0,\"N\":0}\n",
    "    score = [3,2,1,0,1,2,3]\n",
    "    for i in range(len(choices)):\n",
    "        if choices[i] > 4:\n",
    "            MBTI_score[survey[i][1]] += score[choices[i]-1]\n",
    "        elif choices[i] < 4:\n",
    "            MBTI_score[survey[i][0]] += score[choices[i]-1]\n",
    "    for a, b in MBTI:\n",
    "        if MBTI_score[a] > MBTI_score[b]:\n",
    "            answer += a\n",
    "        elif MBTI_score[a] < MBTI_score[b]:\n",
    "            answer += b\n",
    "        elif MBTI_score[a] == MBTI_score[b]:\n",
    "            t = []\n",
    "            t.append(a)\n",
    "            t.append(b)\n",
    "            t = sorted(t)\n",
    "            answer += t[0]\n",
    "\n",
    "    return answer"
   ]
  },
  {
   "cell_type": "code",
   "execution_count": 4,
   "metadata": {},
   "outputs": [
    {
     "data": {
      "text/plain": [
       "'TCMA'"
      ]
     },
     "execution_count": 4,
     "metadata": {},
     "output_type": "execute_result"
    }
   ],
   "source": [
    "solution([\"AN\", \"CF\", \"MJ\", \"RT\", \"NA\"],[5, 3, 2, 7, 5])"
   ]
  },
  {
   "cell_type": "code",
   "execution_count": 5,
   "metadata": {},
   "outputs": [
    {
     "data": {
      "text/plain": [
       "'RCJA'"
      ]
     },
     "execution_count": 5,
     "metadata": {},
     "output_type": "execute_result"
    }
   ],
   "source": [
    "solution([\"TR\", \"RT\", \"TR\"],[7, 1, 3])"
   ]
  },
  {
   "cell_type": "code",
   "execution_count": null,
   "metadata": {},
   "outputs": [],
   "source": []
  }
 ],
 "metadata": {
  "kernelspec": {
   "display_name": "Python 3",
   "language": "python",
   "name": "python3"
  },
  "language_info": {
   "codemirror_mode": {
    "name": "ipython",
    "version": 3
   },
   "file_extension": ".py",
   "mimetype": "text/x-python",
   "name": "python",
   "nbconvert_exporter": "python",
   "pygments_lexer": "ipython3",
   "version": "3.10.11"
  }
 },
 "nbformat": 4,
 "nbformat_minor": 2
}
