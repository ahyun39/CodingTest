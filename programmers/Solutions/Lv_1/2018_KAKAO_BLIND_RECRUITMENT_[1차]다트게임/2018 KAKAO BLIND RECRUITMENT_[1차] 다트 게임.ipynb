{
  "nbformat": 4,
  "nbformat_minor": 0,
  "metadata": {
    "colab": {
      "name": "연습문제2.ipynb",
      "provenance": [],
      "authorship_tag": "ABX9TyM7xyYoTLG4oBwuCcv6gnh9",
      "include_colab_link": true
    },
    "kernelspec": {
      "name": "python3",
      "display_name": "Python 3"
    },
    "language_info": {
      "name": "python"
    }
  },
  "cells": [
    {
      "cell_type": "markdown",
      "metadata": {
        "id": "view-in-github",
        "colab_type": "text"
      },
      "source": [
        "<a href=\"https://colab.research.google.com/github/A-A27/Baekjoon_Python/blob/main/programmers/2018%20KAKAO%20BLIND%20RECRUITMENT_%5B1%EC%B0%A8%5D%20%EB%8B%A4%ED%8A%B8%20%EA%B2%8C%EC%9E%84.ipynb\" target=\"_parent\"><img src=\"https://colab.research.google.com/assets/colab-badge.svg\" alt=\"Open In Colab\"/></a>"
      ]
    },
    {
      "cell_type": "code",
      "source": [
        "def solution(dartResult):\n",
        "  num_list = ['0','1','2','3','4','5','6','7','8','9','10']\n",
        "  bonus_dict = {'S':1,'D':2,'T':3}\n",
        "  option_dict = {'*':2, '#':-1}\n",
        "  answer = []\n",
        "  result = []\n",
        "  for i in range(len(dartResult)):\n",
        "    if i-1>=0:\n",
        "      if (dartResult[i] in bonus_dict.keys()) and (dartResult[i-1] == str(0)):\n",
        "        if dartResult[i-2] == str(1):\n",
        "          answer.append(int(dartResult[i-2:i])**bonus_dict[dartResult[i]])\n",
        "        else:\n",
        "          answer.append(int(dartResult[i-1])**bonus_dict[dartResult[i]])\n",
        "      elif dartResult[i] in bonus_dict.keys():\n",
        "        answer.append(int(dartResult[i-1])**bonus_dict[dartResult[i]])\n",
        "      elif dartResult[i] in option_dict:\n",
        "        answer.append(dartResult[i])\n",
        "  for k in range(len(answer)):\n",
        "    if answer[k] not in option_dict.keys():\n",
        "      result.append(answer[k])\n",
        "    elif answer[k] in option_dict.keys() and k == 1:\n",
        "      result[0] = result[0]*option_dict[answer[1]]\n",
        "    elif answer[k] == '*' and k > 1:\n",
        "      for i in range(len(result)-2,len(result)):\n",
        "        result[i] = result[i]*option_dict[answer[k]]\n",
        "    elif answer[k] == '#' and k > 1:\n",
        "        result[len(result)-1] = result[len(result)-1]*option_dict[answer[k]]\n",
        "  return sum(result)\n",
        "solution('1D2S3T*')\n",
        "\n",
        "# 다른 풀이...\n",
        "def solution(dartResult):\n",
        "  point = []\n",
        "  answer = []\n",
        "  dartResult = dartResult.replace('10','k')\n",
        "  point = ['10' if i == 'k' else i for i in dartResult]\n",
        "\n",
        "  i = -1\n",
        "  sdt = ['S', 'D', 'T']\n",
        "  for j in point:\n",
        "    if j in sdt:\n",
        "      answer[i] = answer[i] ** (sdt.index(j)+)\n",
        "    elif j == '*':\n",
        "      answer[i] = answer[i] * 2\n",
        "      if i != 0:\n",
        "        answer[i-1] = answer[i-1] * 2\n",
        "    elif j == '#':\n",
        "      answer[i] = answer[i] * (-1)\n",
        "    else:\n",
        "      answer.append(int(j))\n",
        "      i += 1\n",
        "  return sum(answer)"
      ],
      "metadata": {
        "id": "cR9y0wbDQURC",
        "colab": {
          "base_uri": "https://localhost:8080/"
        },
        "outputId": "5f53b347-4fc7-4310-cd89-445ecb681079"
      },
      "execution_count": 78,
      "outputs": [
        {
          "output_type": "execute_result",
          "data": {
            "text/plain": [
              "59"
            ]
          },
          "metadata": {},
          "execution_count": 78
        }
      ]
    }
  ]
}