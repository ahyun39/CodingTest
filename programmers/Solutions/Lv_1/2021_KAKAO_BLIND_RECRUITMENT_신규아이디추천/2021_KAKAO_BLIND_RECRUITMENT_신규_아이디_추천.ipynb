{
 "cells": [
  {
   "cell_type": "code",
   "execution_count": null,
   "metadata": {},
   "outputs": [],
   "source": [
    "def solution(new_id):\n",
    "    new_id = new_id.lower() # 모든 문자를 소문자 치환\n",
    "    list=['-', '_', '.']\n",
    "    a = ['a','b','c','d','e','f','g','h','i','j','k','l','m','n','o','p','q','r','s','t','u','v','w','x','y','z']\n",
    "    b = ['0','1','2','3','4','5','6','7','8','9']\n",
    "    id_list=[]\n",
    "    newid_list=[] # 연속한 . 을 하나로 변경한 리스트\n",
    "    iddot_list=[] # .이 연속해서 나오는 리스트 자리\n",
    "    newnew_id = new_id # 아이디가 list, a, b에 해당하는 문자\n",
    "    for i in range(len(new_id)):\n",
    "        if new_id[i] not in list and new_id[i] not in a and new_id[i] not in b:\n",
    "            newnew_id = newnew_id.replace(new_id[i],\"\") # list, a, b에 해당하지 않을 경우 공백으로 처리\n",
    "    for i in range(len(newnew_id)):\n",
    "        id_list.append(newnew_id[i]) # 문자열을 리스트로 변경\n",
    "    for i in range(len(id_list)):\n",
    "        if i-1>=0 and id_list[i-1] == '.' and id_list[i] == '.': # .이 연속으로 나오는 경우\n",
    "            iddot_list.append(i) # 해당 문자열의 자리수를 리스트에 추가\n",
    "    for i in range(len(id_list)):\n",
    "        if i not in iddot_list:\n",
    "            newid_list.append(id_list[i]) # 연속한 .을 제외한 나머지 원소를 리스트에 추가\n",
    "    new_id = \"\".join(newid_list) # 리스트를 문자열로 변경\n",
    "    new_id = new_id.strip('.') # 문자열의 양쪽 . 삭제\n",
    "    for i in range(len(new_id)):\n",
    "        if new_id[i] == \"\":\n",
    "            new_id = new_id.replace(new_id[i],\"a\") # 문자열에 공백이 있는 경우 'a'로 치환\n",
    "    if len(new_id) == 0: # 문자열의 길이가 0인 경우\n",
    "        new_id = 'a' # 해당 문자열을 'a'로 변경\n",
    "    if len(new_id) >= 16:\n",
    "        new_id = new_id[0:15] # 문자열을 15자리로 변경\n",
    "        new_id = new_id.strip('.') # 문자열의 양쪽 . 삭제\n",
    "    elif len(new_id) <= 2: # 문자열의 길이가 2 이하인 경우\n",
    "        while True:\n",
    "            if len(new_id) == 3: # 문자열이 3이 될 때까지\n",
    "                break\n",
    "            new_id = new_id + new_id[len(new_id)-1] # 문자열의 마지막 문자를 반복해서 붙여넣는다\n",
    "    answer = new_id # 신규 아이디\n",
    "    return answer\n"
   ]
  }
 ],
 "metadata": {
  "language_info": {
   "name": "python"
  }
 },
 "nbformat": 4,
 "nbformat_minor": 2
}
