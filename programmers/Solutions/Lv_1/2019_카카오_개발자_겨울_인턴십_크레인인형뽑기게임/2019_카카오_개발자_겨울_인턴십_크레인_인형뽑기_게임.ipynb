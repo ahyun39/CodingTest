{
 "cells": [
  {
   "cell_type": "markdown",
   "metadata": {},
   "source": [
    "## 2019 카카오 개발자 겨울 인턴십 크레인 인형뽑기 게임"
   ]
  },
  {
   "cell_type": "code",
   "execution_count": null,
   "metadata": {},
   "outputs": [],
   "source": [
    "def solution(board, moves):\n",
    "    answer = 0\n",
    "    list=[] # 뽑은 인형 리스트\n",
    "    a = 0\n",
    "    for i in range(len(moves)):\n",
    "        num_empty = 0 # 비어있는 칸 찾기\n",
    "        for k in range(len(board)):\n",
    "            t = moves[i]-1\n",
    "            if board[k][t] != 0 and a == i:\n",
    "                list.append(board[k][t]) # 인형 넣기\n",
    "                a += 1\n",
    "                if len(list) > 1 and board[k][t] == list[len(list)-2]: # 들어가 있는 인형이 들어간 인형과 같은지\n",
    "                    del list[len(list)-2:len(list)] # 같은 인형끼리 만나면 둘다 꺼내기\n",
    "                    answer += 2 # 꺼낸 인형 개수\n",
    "                board[k][t] = 0 # 칸에서 꺼내고 나서 인형이 없으니 0으로\n",
    "            elif board[k][t] == 0:\n",
    "                num_empty += 1 # 그 칸이 비어있는지\n",
    "            if num_empty == len(board):\n",
    "                a += 1\n",
    "    return answer\n"
   ]
  }
 ],
 "metadata": {
  "language_info": {
   "name": "python"
  }
 },
 "nbformat": 4,
 "nbformat_minor": 2
}
