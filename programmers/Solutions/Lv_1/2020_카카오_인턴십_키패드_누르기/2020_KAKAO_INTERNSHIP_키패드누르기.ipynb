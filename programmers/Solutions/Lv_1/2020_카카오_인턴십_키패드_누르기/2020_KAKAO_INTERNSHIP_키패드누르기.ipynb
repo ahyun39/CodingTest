{
 "cells": [
  {
   "cell_type": "markdown",
   "metadata": {},
   "source": [
    "## 2020 카카오 인턴십 _ 키패드 누르기\n",
    "[문제 링크](https://school.programmers.co.kr/learn/courses/30/lessons/67256#)"
   ]
  },
  {
   "cell_type": "code",
   "execution_count": 1,
   "metadata": {},
   "outputs": [],
   "source": [
    "def get_index(puzzle, n): # number의 index\n",
    "    for idx1, i in enumerate(puzzle):\n",
    "        for idx2, j in enumerate(i):\n",
    "            if j == n:\n",
    "                return idx1, idx2\n",
    "            \n",
    "def solution(numbers, hand):\n",
    "    answer = ''\n",
    "    phone = [[1,2,3],[4,5,6],[7,8,9],['*',0,'#']]\n",
    "    left = [3,0] # 왼손 위치\n",
    "    right = [3,2] # 오른손 위치\n",
    "    \n",
    "    for num in numbers:\n",
    "        # 1, 4, 7을 누르는 경우에는 왼손으로\n",
    "        if num in [1,4,7]:\n",
    "            left[0], left[1] = get_index(phone,num)\n",
    "            answer += 'L'\n",
    "        # 3, 6, 9를 누르는 경우에는 오른손으로\n",
    "        elif num in [3,6,9]:\n",
    "            right[0], right[1] = get_index(phone,num)\n",
    "            answer += 'R'\n",
    "        # 2, 5, 8, 0을 누르는 경우\n",
    "        else:\n",
    "            x, y = get_index(phone, num) # 2, 5, 8, 0의 인덱스\n",
    "            # 왼손과 누를 번호의 거리\n",
    "            left_distance = abs(x-left[0]) + abs(y-left[1])\n",
    "            # 오른손과 누를 번호의 거리\n",
    "            right_distance = abs(x-right[0]) + abs(y-right[1])\n",
    "            # 손과 누를 번호의 거리가 같은 경우\n",
    "            if left_distance == right_distance:\n",
    "                if hand == 'right': # 오른손잡이인 경우 오른손으로 누름\n",
    "                    right[0], right[1] = x, y\n",
    "                    answer += 'R'\n",
    "                else: # 왼손잡이인 경우 왼손으로 누름\n",
    "                    left[0], left[1] = x, y\n",
    "                    answer += 'L'\n",
    "            # 오른손과 누를 번호의 거리가 더 가까운 경우\n",
    "            # 오른손으로 누름\n",
    "            elif left_distance > right_distance:\n",
    "                right[0], right[1] = x, y\n",
    "                answer += 'R'\n",
    "            # 왼손과 누를 번호의 거리가 더 가까운 경우\n",
    "            # 왼손으로 누름\n",
    "            elif left_distance < right_distance:\n",
    "                left[0], left[1] = x, y\n",
    "                answer += 'L'\n",
    "    \n",
    "    return answer"
   ]
  },
  {
   "cell_type": "code",
   "execution_count": 3,
   "metadata": {},
   "outputs": [
    {
     "data": {
      "text/plain": [
       "'LRLLLRLLRRL'"
      ]
     },
     "execution_count": 3,
     "metadata": {},
     "output_type": "execute_result"
    }
   ],
   "source": [
    "solution([1, 3, 4, 5, 8, 2, 1, 4, 5, 9, 5],\"right\")"
   ]
  },
  {
   "cell_type": "code",
   "execution_count": 4,
   "metadata": {},
   "outputs": [
    {
     "data": {
      "text/plain": [
       "'LRLLRRLLLRR'"
      ]
     },
     "execution_count": 4,
     "metadata": {},
     "output_type": "execute_result"
    }
   ],
   "source": [
    "solution([7, 0, 8, 2, 8, 3, 1, 5, 7, 6, 2],\"left\")"
   ]
  },
  {
   "cell_type": "code",
   "execution_count": 5,
   "metadata": {},
   "outputs": [
    {
     "data": {
      "text/plain": [
       "'LLRLLRLLRL'"
      ]
     },
     "execution_count": 5,
     "metadata": {},
     "output_type": "execute_result"
    }
   ],
   "source": [
    "solution([1, 2, 3, 4, 5, 6, 7, 8, 9, 0],\"right\")"
   ]
  },
  {
   "cell_type": "code",
   "execution_count": null,
   "metadata": {},
   "outputs": [],
   "source": []
  }
 ],
 "metadata": {
  "kernelspec": {
   "display_name": "Python 3",
   "language": "python",
   "name": "python3"
  },
  "language_info": {
   "codemirror_mode": {
    "name": "ipython",
    "version": 3
   },
   "file_extension": ".py",
   "mimetype": "text/x-python",
   "name": "python",
   "nbconvert_exporter": "python",
   "pygments_lexer": "ipython3",
   "version": "3.10.11"
  }
 },
 "nbformat": 4,
 "nbformat_minor": 2
}
