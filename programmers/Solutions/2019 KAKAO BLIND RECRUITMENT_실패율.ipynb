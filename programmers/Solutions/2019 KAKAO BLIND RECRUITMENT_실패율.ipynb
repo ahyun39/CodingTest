{
  "nbformat": 4,
  "nbformat_minor": 0,
  "metadata": {
    "colab": {
      "name": "프로그래머스0411.ipynb",
      "provenance": [],
      "authorship_tag": "ABX9TyMpAxvSnrLUcgj1IWR81DCN",
      "include_colab_link": true
    },
    "kernelspec": {
      "name": "python3",
      "display_name": "Python 3"
    },
    "language_info": {
      "name": "python"
    }
  },
  "cells": [
    {
      "cell_type": "markdown",
      "metadata": {
        "id": "view-in-github",
        "colab_type": "text"
      },
      "source": [
        "<a href=\"https://colab.research.google.com/github/A-A27/Baekjoon_Python/blob/main/programmers/2019%20KAKAO%20BLIND%20RECRUITMENT_%EC%8B%A4%ED%8C%A8%EC%9C%A8.ipynb\" target=\"_parent\"><img src=\"https://colab.research.google.com/assets/colab-badge.svg\" alt=\"Open In Colab\"/></a>"
      ]
    },
    {
      "cell_type": "code",
      "source": [
        "def solution(N, stages):\n",
        "    list_stage = {}\n",
        "    answer = []\n",
        "    for i in range(1, N+1):\n",
        "        stage_c = 0\n",
        "        stage_f = 0\n",
        "        for k in range(len(stages)):\n",
        "            if stages[k] > i:\n",
        "                stage_c += 1\n",
        "            elif stages[k] == i:\n",
        "                stage_f += 1\n",
        "        if stage_f == 0 or stage_c + stage_f == 0:\n",
        "            list_stage[i] = 0\n",
        "        else:\n",
        "            list_stage[i] = stage_f / (stage_c+stage_f)\n",
        "    list_sort = list((v,k) for k, v in list_stage.items())\n",
        "    list_sort = sorted(list_sort, reverse = True)\n",
        "    same_sort = []\n",
        "    for i in range(len(list_sort)):\n",
        "          if len(same_sort) == 0:\n",
        "            same_sort.append(list_sort[i])\n",
        "          elif len(same_sort) > 0 and same_sort[0][0] == list_sort[i][0]:\n",
        "            same_sort.append(list_sort[i])\n",
        "            same_sort = sorted(same_sort)\n",
        "          elif len(same_sort) > 0 and same_sort[0][0] != list_sort[i][0]:\n",
        "            for k in range(len(same_sort)):\n",
        "              answer.append(same_sort[k][1])\n",
        "            same_sort = []\n",
        "            same_sort.append(list_sort[i])\n",
        "          if i == len(list_sort) - 1:\n",
        "            for k in range(len(same_sort)):\n",
        "              answer.append(same_sort[k][1])\n",
        "    return answer\n",
        "\n",
        "solution(4,[4,4,4,4,4])\n",
        "\n",
        "# 다른 풀이...\n",
        "def solution(N, stages):\n",
        "  result = {}\n",
        "  denominator = len(stages)\n",
        "  for stage in range(1, N+1):\n",
        "    if denominator != 0:\n",
        "      count = stages.count(stage)\n",
        "      result[stage] = count / denominator\n",
        "      denominator -= count\n",
        "    else:\n",
        "      result[stage] = 0\n",
        "  return sorted(result, key = lambda x : result[x], reverse = True)"
      ],
      "metadata": {
        "colab": {
          "base_uri": "https://localhost:8080/"
        },
        "id": "Ut6KW2dUNOGg",
        "outputId": "808fc884-a852-48ff-8b33-f3ca29b1cf2c"
      },
      "execution_count": 19,
      "outputs": [
        {
          "output_type": "execute_result",
          "data": {
            "text/plain": [
              "[4, 1, 2, 3]"
            ]
          },
          "metadata": {},
          "execution_count": 19
        }
      ]
    }
  ]
}