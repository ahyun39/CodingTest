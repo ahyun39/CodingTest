{
 "cells": [
  {
   "cell_type": "markdown",
   "metadata": {},
   "source": [
    "## 2022 KAKAO TECH INTERNSHIP 두 큐 합 같게 만들기\n",
    "[문제 링크](https://school.programmers.co.kr/learn/courses/30/lessons/118667)"
   ]
  },
  {
   "cell_type": "code",
   "execution_count": 1,
   "metadata": {},
   "outputs": [],
   "source": [
    "from collections import deque\n",
    "\n",
    "def solution(queue1, queue2):\n",
    "    answer = -1\n",
    "    q1sum = sum(queue1) # 초기 queue1의 합\n",
    "    q2sum = sum(queue2) # 초기 queue2의 합\n",
    "    \n",
    "    # queue1과 queue2가 같거나 두 리스트의 합이 같으면 연산 과정이 필요없다.\n",
    "    # 따라서 0을 리턴한다.\n",
    "    if queue1 == queue2 or q1sum == q2sum:\n",
    "        return 0\n",
    "\n",
    "    # queue1과 queue2의 합이 홀수인 경우 두 리스트의 합은 같아질 수 없다.\n",
    "    # 따라서 -1을 리턴한다.\n",
    "    if (q1sum + q2sum) % 2 != 0:\n",
    "        return -1\n",
    "    \n",
    "    # 리스트를 데크로\n",
    "    queue1 = deque(queue1)\n",
    "    queue2 = deque(queue2)\n",
    "    \n",
    "    # 연산 과정 횟수 카운트 값\n",
    "    cnt = 0\n",
    "    \n",
    "    # for문은 queue1 길이의 3배의 횟수까지로 진행을 한다.\n",
    "    # 2배까지는 두 리스트가 서로 바뀌는 경우이며,\n",
    "    # 3배가 되면 두 리스트는 초기 리스트로 다시 돌아오게 된다.\n",
    "    for i in range(len(queue1)*3):\n",
    "        if q1sum == q2sum:\n",
    "            return cnt\n",
    "        elif q1sum > q2sum:\n",
    "            queue2.append(queue1.popleft())\n",
    "            q1sum -= queue2[-1]\n",
    "            q2sum += queue2[-1]\n",
    "            cnt += 1\n",
    "        elif q1sum < q2sum:\n",
    "            queue1.append(queue2.popleft())\n",
    "            q1sum += queue1[-1]\n",
    "            q2sum -= queue1[-1]\n",
    "            cnt += 1\n",
    "        \n",
    "    return answer"
   ]
  },
  {
   "cell_type": "code",
   "execution_count": 2,
   "metadata": {},
   "outputs": [
    {
     "data": {
      "text/plain": [
       "2"
      ]
     },
     "execution_count": 2,
     "metadata": {},
     "output_type": "execute_result"
    }
   ],
   "source": [
    "solution([3,2,7,2],[4,6,5,1])"
   ]
  },
  {
   "cell_type": "code",
   "execution_count": 3,
   "metadata": {},
   "outputs": [
    {
     "data": {
      "text/plain": [
       "7"
      ]
     },
     "execution_count": 3,
     "metadata": {},
     "output_type": "execute_result"
    }
   ],
   "source": [
    "solution([1,2,1,2],[1,10,1,2])"
   ]
  },
  {
   "cell_type": "code",
   "execution_count": 4,
   "metadata": {},
   "outputs": [
    {
     "data": {
      "text/plain": [
       "-1"
      ]
     },
     "execution_count": 4,
     "metadata": {},
     "output_type": "execute_result"
    }
   ],
   "source": [
    "solution([1,1],[1,5])"
   ]
  }
 ],
 "metadata": {
  "kernelspec": {
   "display_name": "Python 3",
   "language": "python",
   "name": "python3"
  },
  "language_info": {
   "codemirror_mode": {
    "name": "ipython",
    "version": 3
   },
   "file_extension": ".py",
   "mimetype": "text/x-python",
   "name": "python",
   "nbconvert_exporter": "python",
   "pygments_lexer": "ipython3",
   "version": "3.10.11"
  }
 },
 "nbformat": 4,
 "nbformat_minor": 2
}
