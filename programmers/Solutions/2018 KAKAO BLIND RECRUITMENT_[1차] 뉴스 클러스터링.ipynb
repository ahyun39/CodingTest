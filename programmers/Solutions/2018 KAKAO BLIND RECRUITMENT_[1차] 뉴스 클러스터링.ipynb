{
  "nbformat": 4,
  "nbformat_minor": 0,
  "metadata": {
    "colab": {
      "name": "Untitled3.ipynb",
      "provenance": [],
      "authorship_tag": "ABX9TyM9UDT0SzUQeY84LOyx3SPG",
      "include_colab_link": true
    },
    "kernelspec": {
      "name": "python3",
      "display_name": "Python 3"
    },
    "language_info": {
      "name": "python"
    }
  },
  "cells": [
    {
      "cell_type": "markdown",
      "metadata": {
        "id": "view-in-github",
        "colab_type": "text"
      },
      "source": [
        "<a href=\"https://colab.research.google.com/github/A-A27/Baekjoon_Python/blob/main/programmers/2018%20KAKAO%20BLIND%20RECRUITMENT_%5B1%EC%B0%A8%5D%20%EB%89%B4%EC%8A%A4%20%ED%81%B4%EB%9F%AC%EC%8A%A4%ED%84%B0%EB%A7%81.ipynb\" target=\"_parent\"><img src=\"https://colab.research.google.com/assets/colab-badge.svg\" alt=\"Open In Colab\"/></a>"
      ]
    },
    {
      "cell_type": "code",
      "source": [
        "# 2018 KAKAO BLIND RECRUITMENT_[1차] 뉴스 클러스터링\n",
        "def solution(str1, str2):\n",
        "    answer = 0\n",
        "    str1 = str1.upper() # str 모든 문자 대문자로\n",
        "    str2 = str2.upper()\n",
        "    str1List=[]\n",
        "    str2List=[]\n",
        "    for i in range(0,len(str1)): # str의 문자가 알파벳이면 2글자씩 저장\n",
        "      a = 0\n",
        "      for k in range(2):\n",
        "        if i+1 < len(str1) and str1[i:i+2][k].isalpha():\n",
        "          a+=1\n",
        "      if a == 2:\n",
        "          str1List.append(str1[i:i+2])\n",
        "    for i in range(0,len(str2)): # str의 문자가 알파벳이면 2글자씩 저장\n",
        "      a = 0\n",
        "      for k in range(2):\n",
        "        if i+1 < len(str2) and str2[i:i+2][k].isalpha():\n",
        "            a+=1\n",
        "      if a == 2:\n",
        "          str2List.append(str2[i:i+2])\n",
        "    str1Copy = str1List.copy() # 리스트 복사\n",
        "    str2Copy = str2List.copy()\n",
        "    if len(str1List) == 0 and len(str2List) == 0: # 리스트에 아무 원소가 없는 경우\n",
        "        answer = 65536\n",
        "    else:\n",
        "      ja = [] # 교집합\n",
        "      jb = [] # 합집합\n",
        "      for i in str1List: # 교집합 구하기\n",
        "        if i in str2Copy:\n",
        "          ja.append(i)\n",
        "          str1Copy.remove(i)\n",
        "          str2Copy.remove(i)\n",
        "      jb = ja + str1Copy + str2Copy # 합집합 구하기\n",
        "      answer = int((len(ja)/len(jb))*65536) # answer 구하기\n",
        "    return answer\n",
        "      \n",
        "solution(\"E=M*C^2\", \"e=m*c^2\")\n",
        "\n",
        "# 다른 풀이...\n",
        "import re\n",
        "import math\n",
        "\n",
        "def solution(str1, str2):\n",
        "  str1 = [str1[i:i+2].lower() for i in range(0,len(str1)-1) if not re.findall('[^a-zA-Z]+', str1[i:i+2])]\n",
        "  str2 = [str2[i:i+2].lower() for i in range(0,len(str2)-1) if not re.findall('[^a-zA-Z]+', str2[i:i+2])]\n",
        "\n",
        "  gyo = set(str1) & set(str2)\n",
        "  hap = set(str1) | set(str2)\n",
        "\n",
        "  if len(hap) == 0:\n",
        "    return 65536\n",
        "\n",
        "  gyo_sum = sum([min(str1.count(gg), str2.count(gg)) for gg in gyo])\n",
        "  hap_sum = sum([max(str1.count(hh), str2.count(hh)) for hh in hap])\n",
        "\n",
        "  return math.floor((gyo_sum / hap_sum)*65536)"
      ],
      "metadata": {
        "colab": {
          "base_uri": "https://localhost:8080/"
        },
        "id": "s0oTI5ZqAGLl",
        "outputId": "57da54fb-02f4-425d-faf8-1989f9f6112b"
      },
      "execution_count": 3,
      "outputs": [
        {
          "output_type": "execute_result",
          "data": {
            "text/plain": [
              "65536"
            ]
          },
          "metadata": {},
          "execution_count": 3
        }
      ]
    }
  ]
}