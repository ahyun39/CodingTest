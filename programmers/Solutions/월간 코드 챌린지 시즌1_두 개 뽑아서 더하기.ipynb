{
  "nbformat": 4,
  "nbformat_minor": 0,
  "metadata": {
    "colab": {
      "name": "Untitled3.ipynb",
      "provenance": [],
      "authorship_tag": "ABX9TyPt3ype8KLzS7RmjnmnfbKX",
      "include_colab_link": true
    },
    "kernelspec": {
      "name": "python3",
      "display_name": "Python 3"
    },
    "language_info": {
      "name": "python"
    }
  },
  "cells": [
    {
      "cell_type": "markdown",
      "metadata": {
        "id": "view-in-github",
        "colab_type": "text"
      },
      "source": [
        "<a href=\"https://colab.research.google.com/github/A-A27/Baekjoon_Python/blob/main/programmers/%EC%9B%94%EA%B0%84%20%EC%BD%94%EB%93%9C%20%EC%B1%8C%EB%A6%B0%EC%A7%80%20%EC%8B%9C%EC%A6%8C1_%EB%91%90%20%EA%B0%9C%20%EB%BD%91%EC%95%84%EC%84%9C%20%EB%8D%94%ED%95%98%EA%B8%B0.ipynb\" target=\"_parent\"><img src=\"https://colab.research.google.com/assets/colab-badge.svg\" alt=\"Open In Colab\"/></a>"
      ]
    },
    {
      "cell_type": "code",
      "source": [
        "# 월간 코드 챌린지 시즌1 _ 두 개 뽑아서 더하기\n",
        "def solution(numbers):\n",
        "    answer = []\n",
        "    for i in range(len(numbers)-1):\n",
        "      for k in range(i+1,len(numbers)):\n",
        "        answer.append(numbers[i]+numbers[k])\n",
        "    answer = list(set(answer))\n",
        "    return answer\n",
        "solution([2,1,3,4,1])"
      ],
      "metadata": {
        "colab": {
          "base_uri": "https://localhost:8080/"
        },
        "id": "4OaWOGBhQsMv",
        "outputId": "71f84671-f224-48e7-e077-72069e14cd82"
      },
      "execution_count": 1,
      "outputs": [
        {
          "output_type": "execute_result",
          "data": {
            "text/plain": [
              "[2, 3, 4, 5, 6, 7]"
            ]
          },
          "metadata": {},
          "execution_count": 1
        }
      ]
    }
  ]
}