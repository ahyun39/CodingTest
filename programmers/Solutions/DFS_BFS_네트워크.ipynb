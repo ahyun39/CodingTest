{
 "cells": [
  {
   "cell_type": "markdown",
   "metadata": {},
   "source": [
    "## DFS/BFS_네트워크 Lv.3\n",
    "[문제 링크](https://school.programmers.co.kr/learn/courses/30/lessons/43162#)"
   ]
  },
  {
   "cell_type": "code",
   "execution_count": 1,
   "metadata": {},
   "outputs": [
    {
     "data": {
      "text/plain": [
       "2"
      ]
     },
     "execution_count": 1,
     "metadata": {},
     "output_type": "execute_result"
    }
   ],
   "source": [
    "from collections import deque\n",
    "def solution(n, computers):\n",
    "    answer = 0\n",
    "    board = [[] for _ in range(n+1)]\n",
    "    for i in range(n):\n",
    "        for j in range(n):\n",
    "            if i != j:\n",
    "                if computers[i][j] == 1:\n",
    "                    board[i+1].append(j+1)\n",
    "                    \n",
    "    visited = [False] * (n+1)\n",
    "    t = []\n",
    "    \n",
    "    def dfs(v):\n",
    "        visited[v] = True\n",
    "        for i in board[v]:\n",
    "            if not visited[i]:\n",
    "                t.append(1)\n",
    "                dfs(i)\n",
    "        \n",
    "    for i in range(n+1):\n",
    "        dfs(i)\n",
    "        \n",
    "    answer = n - len(t)\n",
    "    return answer\n",
    "solution(3,[[1, 1, 0], [1, 1, 0], [0, 0, 1]])"
   ]
  }
 ],
 "metadata": {
  "kernelspec": {
   "display_name": "Python 3",
   "language": "python",
   "name": "python3"
  },
  "language_info": {
   "codemirror_mode": {
    "name": "ipython",
    "version": 3
   },
   "file_extension": ".py",
   "mimetype": "text/x-python",
   "name": "python",
   "nbconvert_exporter": "python",
   "pygments_lexer": "ipython3",
   "version": "3.10.11"
  }
 },
 "nbformat": 4,
 "nbformat_minor": 2
}
