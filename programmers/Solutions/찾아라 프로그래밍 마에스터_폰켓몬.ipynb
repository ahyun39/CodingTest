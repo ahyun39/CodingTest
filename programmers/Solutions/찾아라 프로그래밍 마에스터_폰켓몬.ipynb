{
  "nbformat": 4,
  "nbformat_minor": 0,
  "metadata": {
    "colab": {
      "name": "Solved problem.ipynb",
      "provenance": [],
      "authorship_tag": "ABX9TyN6jxw5xEekwT5DVptILI/t",
      "include_colab_link": true
    },
    "kernelspec": {
      "name": "python3",
      "display_name": "Python 3"
    },
    "language_info": {
      "name": "python"
    }
  },
  "cells": [
    {
      "cell_type": "markdown",
      "metadata": {
        "id": "view-in-github",
        "colab_type": "text"
      },
      "source": [
        "<a href=\"https://colab.research.google.com/github/A-A27/Baekjoon_Python/blob/main/programmers/%EC%B0%BE%EC%95%84%EB%9D%BC%20%ED%94%84%EB%A1%9C%EA%B7%B8%EB%9E%98%EB%B0%8D%20%EB%A7%88%EC%97%90%EC%8A%A4%ED%84%B0_%ED%8F%B0%EC%BC%93%EB%AA%AC.ipynb\" target=\"_parent\"><img src=\"https://colab.research.google.com/assets/colab-badge.svg\" alt=\"Open In Colab\"/></a>"
      ]
    },
    {
      "cell_type": "markdown",
      "source": [
        "Solved Problem"
      ],
      "metadata": {
        "id": "r6v6x4aYshb-"
      }
    },
    {
      "cell_type": "code",
      "source": [
        "# 찾아라 프로그래밍 마에스터 _ 폰켓몬\n",
        "def solution(nums):\n",
        "    answer = 0\n",
        "    nums_s = list(set(nums))\n",
        "    if len(nums_s) >= len(nums)//2:\n",
        "      answer = len(nums)//2\n",
        "    else:\n",
        "      answer = len(nums_s)\n",
        "    return answer\n",
        "solution([3,3,3,2,2,2])\n",
        "\n",
        "# 다른 풀이...\n",
        "def solution(ls):\n",
        "  return min(len(ls)/2, len(set(ls)))"
      ],
      "metadata": {
        "colab": {
          "base_uri": "https://localhost:8080/"
        },
        "id": "qMCJTMAsxaG_",
        "outputId": "9839fbb2-a380-4ac0-e872-f532d5992489"
      },
      "execution_count": 1,
      "outputs": [
        {
          "output_type": "execute_result",
          "data": {
            "text/plain": [
              "2"
            ]
          },
          "metadata": {},
          "execution_count": 1
        }
      ]
    }
  ]
}