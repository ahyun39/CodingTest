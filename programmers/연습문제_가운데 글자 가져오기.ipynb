{
  "nbformat": 4,
  "nbformat_minor": 0,
  "metadata": {
    "colab": {
      "name": "연습문제2.ipynb",
      "provenance": [],
      "authorship_tag": "ABX9TyPEUh9yWDZfSkm3giuFSUXY",
      "include_colab_link": true
    },
    "kernelspec": {
      "name": "python3",
      "display_name": "Python 3"
    },
    "language_info": {
      "name": "python"
    }
  },
  "cells": [
    {
      "cell_type": "markdown",
      "metadata": {
        "id": "view-in-github",
        "colab_type": "text"
      },
      "source": [
        "<a href=\"https://colab.research.google.com/github/A-A27/Baekjoon_Python/blob/main/programmers/%EC%97%B0%EC%8A%B5%EB%AC%B8%EC%A0%9C_%EA%B0%80%EC%9A%B4%EB%8D%B0%20%EA%B8%80%EC%9E%90%20%EA%B0%80%EC%A0%B8%EC%98%A4%EA%B8%B0.ipynb\" target=\"_parent\"><img src=\"https://colab.research.google.com/assets/colab-badge.svg\" alt=\"Open In Colab\"/></a>"
      ]
    },
    {
      "cell_type": "code",
      "source": [
        "# 연습문제 _ 가운데 글자 가져오기\n",
        "def solution(s):\n",
        "  answer = ''\n",
        "  if len(s) >= 1 and len(s) <= 100:\n",
        "    if len(s)%2 == 0:\n",
        "      answer = s[len(s)//2-1:len(s)//2+1]\n",
        "    else:\n",
        "      answer = s[len(s)//2]\n",
        "  return answer\n",
        "solution('qwer')\n",
        "\n",
        "# 다른 풀이...\n",
        "def string_middle(str):\n",
        "  return str[(len(str)-1)//2:len(str)//2+1]"
      ],
      "metadata": {
        "colab": {
          "base_uri": "https://localhost:8080/",
          "height": 36
        },
        "id": "X8k12oV8wjbz",
        "outputId": "9b8dcbfc-68f2-4131-ad9b-64aedd3e5a61"
      },
      "execution_count": 82,
      "outputs": [
        {
          "output_type": "execute_result",
          "data": {
            "text/plain": [
              "'we'"
            ],
            "application/vnd.google.colaboratory.intrinsic+json": {
              "type": "string"
            }
          },
          "metadata": {},
          "execution_count": 82
        }
      ]
    }
  ]
}