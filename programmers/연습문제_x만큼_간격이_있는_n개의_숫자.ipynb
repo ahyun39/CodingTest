{
  "nbformat": 4,
  "nbformat_minor": 0,
  "metadata": {
    "colab": {
      "name": "연습문제_x만큼 간격이 있는 n개의 숫자.ipynb",
      "provenance": [],
      "authorship_tag": "ABX9TyPknX6WDQ1zRg2vEe88JMyq",
      "include_colab_link": true
    },
    "kernelspec": {
      "name": "python3",
      "display_name": "Python 3"
    },
    "language_info": {
      "name": "python"
    }
  },
  "cells": [
    {
      "cell_type": "markdown",
      "metadata": {
        "id": "view-in-github",
        "colab_type": "text"
      },
      "source": [
        "<a href=\"https://colab.research.google.com/github/A-A27/Baekjoon_Python/blob/main/programmers/%EC%97%B0%EC%8A%B5%EB%AC%B8%EC%A0%9C_x%EB%A7%8C%ED%81%BC_%EA%B0%84%EA%B2%A9%EC%9D%B4_%EC%9E%88%EB%8A%94_n%EA%B0%9C%EC%9D%98_%EC%88%AB%EC%9E%90.ipynb\" target=\"_parent\"><img src=\"https://colab.research.google.com/assets/colab-badge.svg\" alt=\"Open In Colab\"/></a>"
      ]
    },
    {
      "cell_type": "code",
      "execution_count": 5,
      "metadata": {
        "colab": {
          "base_uri": "https://localhost:8080/"
        },
        "id": "8RNXtGi0Xil3",
        "outputId": "580385f0-73e8-4f3b-8353-bacea39287a0"
      },
      "outputs": [
        {
          "output_type": "execute_result",
          "data": {
            "text/plain": [
              "[2, 4, 6, 8, 10]"
            ]
          },
          "metadata": {},
          "execution_count": 5
        }
      ],
      "source": [
        "def solution(x, n):\n",
        "  answer = []\n",
        "  for i in range(1,n+1):\n",
        "    answer.append(x*i)\n",
        "  return answer\n",
        "\n",
        "# 다른 풀이...\n",
        "def number_generator(x, n):\n",
        "  return [i * x + x for i in range(n)]\n",
        "print(number_generator(x,n))"
      ]
    }
  ]
}