{
  "nbformat": 4,
  "nbformat_minor": 0,
  "metadata": {
    "colab": {
      "name": "Solved problem.ipynb",
      "provenance": [],
      "authorship_tag": "ABX9TyOm3EfO5zf988aGDzlG+B6t",
      "include_colab_link": true
    },
    "kernelspec": {
      "name": "python3",
      "display_name": "Python 3"
    },
    "language_info": {
      "name": "python"
    }
  },
  "cells": [
    {
      "cell_type": "markdown",
      "metadata": {
        "id": "view-in-github",
        "colab_type": "text"
      },
      "source": [
        "<a href=\"https://colab.research.google.com/github/A-A27/Baekjoon_Python/blob/main/programmers/2022%20KAKAO%20BLIND%20RECRUITMENT_%EC%8B%A0%EA%B3%A0%20%EA%B2%B0%EA%B3%BC%20%EB%B0%9B%EA%B8%B0.ipynb\" target=\"_parent\"><img src=\"https://colab.research.google.com/assets/colab-badge.svg\" alt=\"Open In Colab\"/></a>"
      ]
    },
    {
      "cell_type": "markdown",
      "source": [
        "Solved Problem"
      ],
      "metadata": {
        "id": "r6v6x4aYshb-"
      }
    },
    {
      "cell_type": "code",
      "source": [
        "# 2022 KAKAO BLIND RECRUITMENT _ 신고 결과 받기\n",
        "from collections import defaultdict\n",
        "\n",
        "def solution(id_list, report, k):\n",
        "  report_dict = {} # report directory\n",
        "  id_dict = {} # id_list directory\n",
        "  report = list(dict.fromkeys(report))\n",
        "  for i in id_list:\n",
        "    report_dict[hash(i)] = 0\n",
        "    id_dict[hash(i)] = 0\n",
        "  for h in range(len(report)): # 신고 당한 횟수 \n",
        "    a, b = report[h].split()\n",
        "    report_dict[hash(b)] += 1\n",
        "  for t in range(len(report)): # 신고 당한 횟수가 k이상인 경우 \n",
        "    a, b = report[t].split()\n",
        "    if report_dict[hash(b)] >= k: \n",
        "        id_dict[hash(a)] += 1\n",
        "  answer = []\n",
        "  for value in id_dict.values():\n",
        "    answer.append(value)\n",
        "  return answer\n",
        "\n",
        "# 다른 풀이...\n",
        "def solution(id_list, report, k):\n",
        "  answer = [0] * len(id_list)\n",
        "  reports = {x : 0 for x in id_list}\n",
        "\n",
        "  for r in set(report):\n",
        "    reports[r.split()[1]] += 1\n",
        "\n",
        "  for r in set(report):\n",
        "    if reports[r.split()[1]] >= k:\n",
        "      answer[id_list.index(r.split()[0])] += 1\n",
        "  \n",
        "  return answer\n",
        "\n",
        "solution([\"muzi\", \"frodo\", \"apeach\", \"neo\"], [\"muzi frodo\",\"apeach frodo\",\"frodo neo\",\"muzi neo\",\"apeach muzi\"],2)"
      ],
      "metadata": {
        "colab": {
          "base_uri": "https://localhost:8080/"
        },
        "id": "_GPmuFtorth1",
        "outputId": "9e37a232-e9e2-4440-e61c-a2e66f5a6a4e"
      },
      "execution_count": 1,
      "outputs": [
        {
          "output_type": "execute_result",
          "data": {
            "text/plain": [
              "[2, 1, 1, 0]"
            ]
          },
          "metadata": {},
          "execution_count": 1
        }
      ]
    }
  ]
}