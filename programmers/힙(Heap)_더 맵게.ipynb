{
  "nbformat": 4,
  "nbformat_minor": 0,
  "metadata": {
    "colab": {
      "name": "Solved problem.ipynb",
      "provenance": [],
      "collapsed_sections": [],
      "authorship_tag": "ABX9TyPLBiQXC8pjmGrTMRpTZq9f",
      "include_colab_link": true
    },
    "kernelspec": {
      "name": "python3",
      "display_name": "Python 3"
    },
    "language_info": {
      "name": "python"
    }
  },
  "cells": [
    {
      "cell_type": "markdown",
      "metadata": {
        "id": "view-in-github",
        "colab_type": "text"
      },
      "source": [
        "<a href=\"https://colab.research.google.com/github/A-A27/Baekjoon_Python/blob/main/programmers/%ED%9E%99(Heap)_%EB%8D%94%20%EB%A7%B5%EA%B2%8C.ipynb\" target=\"_parent\"><img src=\"https://colab.research.google.com/assets/colab-badge.svg\" alt=\"Open In Colab\"/></a>"
      ]
    },
    {
      "cell_type": "markdown",
      "source": [
        "Solved Problem"
      ],
      "metadata": {
        "id": "r6v6x4aYshb-"
      }
    },
    {
      "cell_type": "code",
      "source": [
        "# 힙(Heap) _ 더 맵게\n",
        "import heapq\n",
        "\n",
        "def solution(scoville, K):\n",
        "  answer = 0\n",
        "  heapq.heapify(scoville)\n",
        "  while len(scoville) >= 2:\n",
        "    first_min = heapq.heappop(scoville)\n",
        "    if first_min >= K:\n",
        "      return answer\n",
        "    else:\n",
        "      second_min = heapq.heappop(scoville)\n",
        "      heapq.heappush(scoville, first_min+(second_min)*2)\n",
        "      answer += 1\n",
        "  if scoville[0] > K:\n",
        "    return answer\n",
        "  else:\n",
        "    return -1\n",
        "solution([1, 2, 3, 9, 10, 12], 7)"
      ],
      "metadata": {
        "colab": {
          "base_uri": "https://localhost:8080/"
        },
        "id": "mutV4kR167sM",
        "outputId": "c80a50cb-9f71-4bc8-db32-08cf437755fd"
      },
      "execution_count": 3,
      "outputs": [
        {
          "output_type": "execute_result",
          "data": {
            "text/plain": [
              "2"
            ]
          },
          "metadata": {},
          "execution_count": 3
        }
      ]
    }
  ]
}