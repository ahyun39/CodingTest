{
  "nbformat": 4,
  "nbformat_minor": 0,
  "metadata": {
    "colab": {
      "name": "Solved problem.ipynb",
      "provenance": [],
      "collapsed_sections": [],
      "authorship_tag": "ABX9TyMiuDqsUOlKFxyv4X844sQd",
      "include_colab_link": true
    },
    "kernelspec": {
      "name": "python3",
      "display_name": "Python 3"
    },
    "language_info": {
      "name": "python"
    }
  },
  "cells": [
    {
      "cell_type": "markdown",
      "metadata": {
        "id": "view-in-github",
        "colab_type": "text"
      },
      "source": [
        "<a href=\"https://colab.research.google.com/github/A-A27/Baekjoon_Python/blob/main/programmers/%ED%9E%99(Heap)_%EB%8D%94%20%EB%A7%B5%EA%B2%8C.ipynb\" target=\"_parent\"><img src=\"https://colab.research.google.com/assets/colab-badge.svg\" alt=\"Open In Colab\"/></a>"
      ]
    },
    {
      "cell_type": "markdown",
      "source": [
        "Solved Problem"
      ],
      "metadata": {
        "id": "r6v6x4aYshb-"
      }
    },
    {
      "cell_type": "code",
      "source": [
        "# 힙(Heap) _ 더 맵게\n",
        "import heapq\n",
        "\n",
        "def solution(scoville, K):\n",
        "  answer = 0\n",
        "  heapq.heapify(scoville)\n",
        "  while len(scoville) >= 2:\n",
        "    min_ = heapq.heappop(scoville)\n",
        "    if min_ >= K:\n",
        "      return answer\n",
        "    else:\n",
        "      min_2 = heapq.heappop(scoville)\n",
        "      heapq.heappush(scoville, min_+(min_2)*2)\n",
        "      answer += 1\n",
        "  if scoville[0] > K:\n",
        "    return answer\n",
        "  else:\n",
        "    return -1\n",
        "solution([1, 2, 3, 9, 10, 12], 7)"
      ],
      "metadata": {
        "id": "mutV4kR167sM",
        "outputId": "639b0f6f-f800-4308-f165-8e7bb60bdad9",
        "colab": {
          "base_uri": "https://localhost:8080/"
        }
      },
      "execution_count": 2,
      "outputs": [
        {
          "output_type": "execute_result",
          "data": {
            "text/plain": [
              "2"
            ]
          },
          "metadata": {},
          "execution_count": 2
        }
      ]
    }
  ]
}