{
  "nbformat": 4,
  "nbformat_minor": 0,
  "metadata": {
    "colab": {
      "name": "Untitled2.ipynb",
      "provenance": [],
      "authorship_tag": "ABX9TyN1bt53mx3t3lUdi6dDSMhY",
      "include_colab_link": true
    },
    "kernelspec": {
      "name": "python3",
      "display_name": "Python 3"
    },
    "language_info": {
      "name": "python"
    }
  },
  "cells": [
    {
      "cell_type": "markdown",
      "metadata": {
        "id": "view-in-github",
        "colab_type": "text"
      },
      "source": [
        "<a href=\"https://colab.research.google.com/github/A-A27/Baekjoon_Python/blob/main/programmers/2022%20KAKAO%20BLIND%20RECRUITMENT_%EC%A3%BC%EC%B0%A8%20%EC%9A%94%EA%B8%88%20%EA%B3%84%EC%82%B0.ipynb\" target=\"_parent\"><img src=\"https://colab.research.google.com/assets/colab-badge.svg\" alt=\"Open In Colab\"/></a>"
      ]
    },
    {
      "cell_type": "code",
      "source": [
        "# 2022 KAKAO BLIND RECRUITMENT_주차 요금 계산\n",
        "import math\n",
        "def solution(fees, records):\n",
        "  InList = [] # user의 IN 시간\n",
        "  OutList = [] # user의 OUT 시간\n",
        "  userDict = {}\n",
        "  answer = []\n",
        "  for i in records:\n",
        "    a, b, c = i.split();\n",
        "    if c == 'IN': # IN 시간을 분단위로 변경\n",
        "      InList.append((b,int(a[0:2])*60+int(a[3:5])))\n",
        "    elif c == 'OUT': # OUT 시간을 분단위로 변경\n",
        "      OutList.append((b,int(a[0:2])*60+int(a[3:5])))\n",
        "    userDict[b] = 0 # userDict 각 value 초기값\n",
        "  for i in range(len(InList)): # IN의 개수와\n",
        "    userDict[InList[i][0]] += 1\n",
        "  for i in range(len(OutList)): # OUT의 개수가 \n",
        "    userDict[OutList[i][0]] -= 1\n",
        "  for key, value in userDict.items():\n",
        "    if value != 0: # 같은 지 판단하고 \n",
        "      OutList.append((key,23*60+59)) # 다르면 OUT에 23:59 추가\n",
        "      userDict[key] = 0 # userDict value 초기화\n",
        "  for i in range(len(OutList)): # 전체 사용 시간 계산\n",
        "    userDict[OutList[i][0]] += OutList[i][1]\n",
        "    userDict[InList[i][0]] -= InList[i][1]\n",
        "  for key, value in userDict.items(): # 요금 계산 \n",
        "    if value <= fees[0]:\n",
        "      userDict[key] = fees[1]\n",
        "    elif value > fees[0]:\n",
        "      userDict[key] = fees[1] + math.ceil((value-fees[0])/fees[2])*fees[3]\n",
        "  feeList = sorted(list(userDict.items())) # 차량번호 작은 순으로 정렬\n",
        "  for i in range(len(feeList)):\n",
        "    answer.append(feeList[i][1])\n",
        "  return answer\n",
        "solution([1, 461, 1, 10], [\"00:00 1234 IN\"])"
      ],
      "metadata": {
        "id": "n3-xemf0jvsE",
        "colab": {
          "base_uri": "https://localhost:8080/"
        },
        "outputId": "2f8c14a6-9c6a-4340-ddf9-3976cb601e6f"
      },
      "execution_count": 39,
      "outputs": [
        {
          "output_type": "execute_result",
          "data": {
            "text/plain": [
              "[14841]"
            ]
          },
          "metadata": {},
          "execution_count": 39
        }
      ]
    }
  ]
}