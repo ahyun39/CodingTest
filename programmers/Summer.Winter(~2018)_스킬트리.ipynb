{
  "nbformat": 4,
  "nbformat_minor": 0,
  "metadata": {
    "colab": {
      "name": "Solved problem.ipynb",
      "provenance": [],
      "collapsed_sections": [],
      "authorship_tag": "ABX9TyMtFMWzJhGrJb+aLRq2njBg",
      "include_colab_link": true
    },
    "kernelspec": {
      "name": "python3",
      "display_name": "Python 3"
    },
    "language_info": {
      "name": "python"
    }
  },
  "cells": [
    {
      "cell_type": "markdown",
      "metadata": {
        "id": "view-in-github",
        "colab_type": "text"
      },
      "source": [
        "<a href=\"https://colab.research.google.com/github/A-A27/Baekjoon_Python/blob/main/programmers/Summer.Winter(~2018)_%EC%8A%A4%ED%82%AC%ED%8A%B8%EB%A6%AC.ipynb\" target=\"_parent\"><img src=\"https://colab.research.google.com/assets/colab-badge.svg\" alt=\"Open In Colab\"/></a>"
      ]
    },
    {
      "cell_type": "code",
      "source": [
        "# Summer/Winter Coding(~2018) _ 스킬트리\n",
        "def solution(skill, skill_trees):\n",
        "  answer = 0\n",
        "  skillL = list(skill)\n",
        "  for i in skill_trees:\n",
        "    treeL = []\n",
        "    for k in range(len(i)):\n",
        "      if i[k] in skillL:\n",
        "        treeL.append(i[k])\n",
        "    treeL = ''.join(treeL)\n",
        "    if treeL in skill[0:len(treeL)]:\n",
        "      answer += 1\n",
        "  return answer\n",
        "solution(\"CBD\", [\"BACDE\", \"CBADF\", \"AECB\", \"BDA\"])"
      ],
      "metadata": {
        "colab": {
          "base_uri": "https://localhost:8080/"
        },
        "id": "nKUVQNxcTKvf",
        "outputId": "5472ac3b-c701-4d23-ca3c-61732b0e53c3"
      },
      "execution_count": 1,
      "outputs": [
        {
          "output_type": "execute_result",
          "data": {
            "text/plain": [
              "2"
            ]
          },
          "metadata": {},
          "execution_count": 1
        }
      ]
    }
  ]
}