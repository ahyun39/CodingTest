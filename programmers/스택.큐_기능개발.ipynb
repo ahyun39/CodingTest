{
  "nbformat": 4,
  "nbformat_minor": 0,
  "metadata": {
    "colab": {
      "name": "Solved problem.ipynb",
      "provenance": [],
      "collapsed_sections": [],
      "authorship_tag": "ABX9TyPRqR/hvEc+pf18hXuBmW1+",
      "include_colab_link": true
    },
    "kernelspec": {
      "name": "python3",
      "display_name": "Python 3"
    },
    "language_info": {
      "name": "python"
    }
  },
  "cells": [
    {
      "cell_type": "markdown",
      "metadata": {
        "id": "view-in-github",
        "colab_type": "text"
      },
      "source": [
        "<a href=\"https://colab.research.google.com/github/A-A27/Baekjoon_Python/blob/main/programmers/%EC%8A%A4%ED%83%9D.%ED%81%90_%EA%B8%B0%EB%8A%A5%EA%B0%9C%EB%B0%9C.ipynb\" target=\"_parent\"><img src=\"https://colab.research.google.com/assets/colab-badge.svg\" alt=\"Open In Colab\"/></a>"
      ]
    },
    {
      "cell_type": "markdown",
      "source": [
        "Solved Problem"
      ],
      "metadata": {
        "id": "r6v6x4aYshb-"
      }
    },
    {
      "cell_type": "code",
      "source": [
        "# 스택/큐 _ 기능개발\n",
        "def solution(progresses, speeds):\n",
        "    answer = []\n",
        "    dayL = []\n",
        "    for i in range(len(progresses)):\n",
        "      day = (100-progresses[i])/speeds[i]\n",
        "      if day > (100-progresses[i])//speeds[i]:\n",
        "        dayL.append(int(day)+1)\n",
        "      else:\n",
        "        dayL.append(int(day))\n",
        "    dayLL = dayL.copy()\n",
        "    t = []\n",
        "    for i in dayL:\n",
        "      if len(t) == 0:\n",
        "        t.append(dayLL.pop(0))\n",
        "      elif len(t) > 0 and t[0] >= i:\n",
        "        t.append(dayLL.pop(0))\n",
        "      elif len(t) > 0 and t[0] < i:\n",
        "        answer.append(len(t))\n",
        "        t = []\n",
        "        t.append(dayLL.pop(0))\n",
        "      if dayLL == []:\n",
        "        answer.append(len(t))\n",
        "    return answer\n",
        "\n",
        "# 다른 풀이...\n",
        "def solution(progresses, speeds):\n",
        "  Q = []\n",
        "  for p, s in zip(progresses, speeds):\n",
        "    if len(Q) == 0 or Q[-1][0] <- ((p-100)//s):\n",
        "      Q.append([-((p-100)//2),1])\n",
        "    else:\n",
        "      Q[-1][1] += 1\n",
        "  return [q[1] for q in Q]\n",
        "solution([95, 90, 99, 99, 80, 99], [1, 1, 1, 1, 1, 1])"
      ],
      "metadata": {
        "colab": {
          "base_uri": "https://localhost:8080/"
        },
        "id": "cO5kAvcDyVOo",
        "outputId": "90ee6587-215e-4846-eea4-4d9fc2219d08"
      },
      "execution_count": 1,
      "outputs": [
        {
          "output_type": "execute_result",
          "data": {
            "text/plain": [
              "[1, 3, 2]"
            ]
          },
          "metadata": {},
          "execution_count": 1
        }
      ]
    }
  ]
}