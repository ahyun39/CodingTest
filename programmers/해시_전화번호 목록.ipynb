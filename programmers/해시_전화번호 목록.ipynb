{
  "nbformat": 4,
  "nbformat_minor": 0,
  "metadata": {
    "colab": {
      "name": "Solved problem.ipynb",
      "provenance": [],
      "collapsed_sections": [],
      "authorship_tag": "ABX9TyPLGXGIMR3ViFs8pDPOFubV",
      "include_colab_link": true
    },
    "kernelspec": {
      "name": "python3",
      "display_name": "Python 3"
    },
    "language_info": {
      "name": "python"
    }
  },
  "cells": [
    {
      "cell_type": "markdown",
      "metadata": {
        "id": "view-in-github",
        "colab_type": "text"
      },
      "source": [
        "<a href=\"https://colab.research.google.com/github/A-A27/Baekjoon_Python/blob/main/programmers/%ED%95%B4%EC%8B%9C_%EC%A0%84%ED%99%94%EB%B2%88%ED%98%B8%20%EB%AA%A9%EB%A1%9D.ipynb\" target=\"_parent\"><img src=\"https://colab.research.google.com/assets/colab-badge.svg\" alt=\"Open In Colab\"/></a>"
      ]
    },
    {
      "cell_type": "markdown",
      "source": [
        "Solved Problem"
      ],
      "metadata": {
        "id": "r6v6x4aYshb-"
      }
    },
    {
      "cell_type": "code",
      "source": [
        "# 해시 _ 전화번호 목록\n",
        "def solution(phone_book):\n",
        "    answer = True\n",
        "    phoneDict = {}\n",
        "    for i in phone_book:\n",
        "      phoneDict[hash(i)] = 1\n",
        "    for i in phone_book:\n",
        "      phone = ''\n",
        "      for k in i:\n",
        "        phone += k\n",
        "        if hash(phone) in phoneDict and phone != i:\n",
        "          answer = False\n",
        "    return answer\n",
        "solution([\"119\", \"97674223\", \"1195524421\"])"
      ],
      "metadata": {
        "colab": {
          "base_uri": "https://localhost:8080/"
        },
        "id": "2xxCLir_zMsd",
        "outputId": "5a25080c-52b3-4939-f765-662934fdb66f"
      },
      "execution_count": 1,
      "outputs": [
        {
          "output_type": "execute_result",
          "data": {
            "text/plain": [
              "False"
            ]
          },
          "metadata": {},
          "execution_count": 1
        }
      ]
    }
  ]
}