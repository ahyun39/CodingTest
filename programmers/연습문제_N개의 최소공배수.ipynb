{
  "nbformat": 4,
  "nbformat_minor": 0,
  "metadata": {
    "colab": {
      "name": "Solved problem.ipynb",
      "provenance": [],
      "collapsed_sections": [],
      "authorship_tag": "ABX9TyNwMX+k/6CZq6E4xBMOLICV",
      "include_colab_link": true
    },
    "kernelspec": {
      "name": "python3",
      "display_name": "Python 3"
    },
    "language_info": {
      "name": "python"
    }
  },
  "cells": [
    {
      "cell_type": "markdown",
      "metadata": {
        "id": "view-in-github",
        "colab_type": "text"
      },
      "source": [
        "<a href=\"https://colab.research.google.com/github/A-A27/Programmers/blob/main/programmers/%EC%97%B0%EC%8A%B5%EB%AC%B8%EC%A0%9C_N%EA%B0%9C%EC%9D%98%20%EC%B5%9C%EC%86%8C%EA%B3%B5%EB%B0%B0%EC%88%98.ipynb\" target=\"_parent\"><img src=\"https://colab.research.google.com/assets/colab-badge.svg\" alt=\"Open In Colab\"/></a>"
      ]
    },
    {
      "cell_type": "code",
      "source": [
        "# 연습문제 _ N개의 최소공배수\n",
        "def solution(arr):\n",
        "    answer = 0\n",
        "    max_arr = max(arr)\n",
        "    i = 1\n",
        "    arr2 = arr.copy()\n",
        "    while True:\n",
        "        for k in range(len(arr2)):\n",
        "            if (max_arr*i)%(arr2[k]) == 0:\n",
        "                arr2[k] = 0\n",
        "        if sum(arr2) == 0:\n",
        "            answer += max_arr*i\n",
        "            break\n",
        "        else:\n",
        "            arr2 = arr.copy()\n",
        "        i += 1\n",
        "    return answer\n",
        "solution([2,6,8,14])\n",
        "\n",
        "# 다른 풀이...\n",
        "from fractions import gcd\n",
        "\n",
        "def nlcm(num):      \n",
        "    answer = num[0]\n",
        "    for n in num:\n",
        "        answer = n * answer / gcd(n, answer)\n",
        "    return answer"
      ],
      "metadata": {
        "colab": {
          "base_uri": "https://localhost:8080/"
        },
        "id": "mA6Fc-c5lxAf",
        "outputId": "062f801c-715e-461a-f22c-0eeb2286373e"
      },
      "execution_count": 5,
      "outputs": [
        {
          "output_type": "execute_result",
          "data": {
            "text/plain": [
              "168"
            ]
          },
          "metadata": {},
          "execution_count": 5
        }
      ]
    }
  ]
}