{
 "cells": [
  {
   "cell_type": "code",
   "execution_count": 1,
   "metadata": {},
   "outputs": [
    {
     "data": {
      "text/plain": [
       "9"
      ]
     },
     "execution_count": 1,
     "metadata": {},
     "output_type": "execute_result"
    }
   ],
   "source": [
    "import numpy as np\n",
    "\n",
    "def solution(A):\n",
    "  unpair = {}\n",
    "  answer = 0\n",
    "  for i in A:\n",
    "    if i not in unpair.keys():\n",
    "      unpair[i] = 0\n",
    "    if i in unpair.keys():\n",
    "      unpair[i] += 1\n",
    "  for k,v in unpair.items():\n",
    "    if v%2 != 0:\n",
    "      answer = k\n",
    "  return answer\n",
    "solution([9])"
   ]
  }
 ],
 "metadata": {
  "kernelspec": {
   "display_name": "Python 3",
   "language": "python",
   "name": "python3"
  },
  "language_info": {
   "codemirror_mode": {
    "name": "ipython",
    "version": 3
   },
   "file_extension": ".py",
   "mimetype": "text/x-python",
   "name": "python",
   "nbconvert_exporter": "python",
   "pygments_lexer": "ipython3",
   "version": "3.10.11"
  }
 },
 "nbformat": 4,
 "nbformat_minor": 2
}
