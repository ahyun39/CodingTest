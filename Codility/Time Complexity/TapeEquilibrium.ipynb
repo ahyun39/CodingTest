{
 "cells": [
  {
   "cell_type": "code",
   "execution_count": 1,
   "metadata": {},
   "outputs": [
    {
     "data": {
      "text/plain": [
       "1"
      ]
     },
     "execution_count": 1,
     "metadata": {},
     "output_type": "execute_result"
    }
   ],
   "source": [
    "def solution(A):\n",
    "  d = []\n",
    "  tape = 0\n",
    "  tape2 = sum(A)\n",
    "  for i in A:\n",
    "    tape += i\n",
    "    tape2 -= i\n",
    "    d.append(abs(tape-tape2))\n",
    "  return min(d[:-1])\n",
    "solution([3,1,2,4,3])"
   ]
  },
  {
   "cell_type": "code",
   "execution_count": 3,
   "metadata": {},
   "outputs": [
    {
     "data": {
      "text/plain": [
       "1"
      ]
     },
     "execution_count": 3,
     "metadata": {},
     "output_type": "execute_result"
    }
   ],
   "source": [
    "def solution(A):\n",
    "\ttape = 0\n",
    "\ttape2 = sum(A)\n",
    "\tl = []\n",
    "\tfor i in A:\n",
    "\t\ttape, tape2 = tape+i, tape2-i\n",
    "\t\tl.append(abs(tape-tape2))\n",
    "\treturn min(l[:-1])\n",
    "solution([3,1,2,4,3])"
   ]
  }
 ],
 "metadata": {
  "kernelspec": {
   "display_name": "Python 3",
   "language": "python",
   "name": "python3"
  },
  "language_info": {
   "codemirror_mode": {
    "name": "ipython",
    "version": 3
   },
   "file_extension": ".py",
   "mimetype": "text/x-python",
   "name": "python",
   "nbconvert_exporter": "python",
   "pygments_lexer": "ipython3",
   "version": "3.10.11"
  }
 },
 "nbformat": 4,
 "nbformat_minor": 2
}
