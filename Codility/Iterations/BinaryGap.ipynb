{
 "cells": [
  {
   "cell_type": "code",
   "execution_count": 1,
   "metadata": {},
   "outputs": [
    {
     "name": "stdout",
     "output_type": "stream",
     "text": [
      "1001\n"
     ]
    },
    {
     "data": {
      "text/plain": [
       "2"
      ]
     },
     "execution_count": 1,
     "metadata": {},
     "output_type": "execute_result"
    }
   ],
   "source": [
    "def solution(N):\n",
    "    answer = 0\n",
    "    binary_N = format(N, 'b')\n",
    "    len_gap = []\n",
    "    gap = 0\n",
    "    print(binary_N)\n",
    "    for i in range(len(binary_N)):\n",
    "        if i-1 >= 0 and binary_N[i] == '1':\n",
    "            if binary_N[i-1] == '0':\n",
    "                answer += 1\n",
    "                len_gap.append(gap)\n",
    "                gap = 0\n",
    "        if binary_N[i] == '0':\n",
    "            gap += 1\n",
    "    if len_gap != []:\n",
    "        answer = max(len_gap)\n",
    "    elif len_gap == []:\n",
    "        answer = 0\n",
    "    return answer\n",
    "solution(9)"
   ]
  }
 ],
 "metadata": {
  "kernelspec": {
   "display_name": "Python 3",
   "language": "python",
   "name": "python3"
  },
  "language_info": {
   "codemirror_mode": {
    "name": "ipython",
    "version": 3
   },
   "file_extension": ".py",
   "mimetype": "text/x-python",
   "name": "python",
   "nbconvert_exporter": "python",
   "pygments_lexer": "ipython3",
   "version": "3.10.11"
  }
 },
 "nbformat": 4,
 "nbformat_minor": 2
}
