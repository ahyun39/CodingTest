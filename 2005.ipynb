{
 "cells": [
  {
   "cell_type": "markdown",
   "metadata": {},
   "source": [
    "## 2005. 파스칼의 삼각형 D2\n",
    "[문제 링크](https://swexpertacademy.com/main/code/problem/problemDetail.do?problemLevel=2&contestProbId=AV5P0-h6Ak4DFAUq&categoryId=AV5P0-h6Ak4DFAUq&categoryType=CODE&problemTitle=&orderBy=INQUERY_COUNT&selectCodeLang=PYTHON&select-1=2&pageSize=10&pageIndex=1)"
   ]
  },
  {
   "cell_type": "code",
   "execution_count": 1,
   "metadata": {},
   "outputs": [
    {
     "name": "stdout",
     "output_type": "stream",
     "text": [
      "#1\n",
      "1\n",
      "1 1\n",
      "1 2 1\n",
      "1 3 3 1\n"
     ]
    }
   ],
   "source": [
    "T = int(input())\n",
    "for t in range(T):\n",
    "    N = int(input())\n",
    "    triangle = []\n",
    "    for i in range(1,N+1):\n",
    "        k = []\n",
    "        if i == 1:\n",
    "            triangle.append([1])\n",
    "        elif i == 2:\n",
    "            triangle.append([1,1])\n",
    "        else:\n",
    "            k.append(1)\n",
    "            for j in range(1,i-1):\n",
    "                k.append(triangle[i-2][j-1] + triangle[i-2][j])\n",
    "            k.append(1)\n",
    "            triangle.append(k)\n",
    "    print(f'#{t+1}')\n",
    "    for tri in triangle:\n",
    "        print(*tri)"
   ]
  }
 ],
 "metadata": {
  "kernelspec": {
   "display_name": "Python 3",
   "language": "python",
   "name": "python3"
  },
  "language_info": {
   "codemirror_mode": {
    "name": "ipython",
    "version": 3
   },
   "file_extension": ".py",
   "mimetype": "text/x-python",
   "name": "python",
   "nbconvert_exporter": "python",
   "pygments_lexer": "ipython3",
   "version": "3.10.11"
  }
 },
 "nbformat": 4,
 "nbformat_minor": 2
}
