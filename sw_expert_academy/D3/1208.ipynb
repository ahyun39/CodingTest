{
 "cells": [
  {
   "cell_type": "markdown",
   "metadata": {},
   "source": [
    "## 1208. [S/W 문제해결 기본] 1일차 - Flatten D3\n",
    "[문제 링크](https://swexpertacademy.com/main/code/problem/problemDetail.do?problemLevel=3&contestProbId=AV139KOaABgCFAYh&categoryId=AV139KOaABgCFAYh&categoryType=CODE&problemTitle=&orderBy=INQUERY_COUNT&selectCodeLang=PYTHON&select-1=3&pageSize=10&pageIndex=1)"
   ]
  },
  {
   "cell_type": "code",
   "execution_count": 1,
   "metadata": {},
   "outputs": [
    {
     "name": "stdout",
     "output_type": "stream",
     "text": [
      "#1 13\n",
      "#2 32\n",
      "#3 54\n",
      "#4 25\n",
      "#5 87\n",
      "#6 14\n",
      "#7 39\n",
      "#8 26\n",
      "#9 13\n",
      "#10 29\n"
     ]
    }
   ],
   "source": [
    "for t in range(10):\n",
    "    dump = int(input())\n",
    "    boxes = list(map(int,input().split()))\n",
    "\n",
    "    for i in range(dump):\n",
    "        m = max(boxes)\n",
    "        n = min(boxes)\n",
    "        if m == n:\n",
    "            break\n",
    "        else:\n",
    "            m = max(boxes)\n",
    "            n = min(boxes)\n",
    "            boxes[boxes.index(m)] -= 1\n",
    "            boxes[boxes.index(n)] += 1\n",
    "    print(f'#{t+1} {max(boxes) - min(boxes)}')"
   ]
  }
 ],
 "metadata": {
  "kernelspec": {
   "display_name": "Python 3",
   "language": "python",
   "name": "python3"
  },
  "language_info": {
   "codemirror_mode": {
    "name": "ipython",
    "version": 3
   },
   "file_extension": ".py",
   "mimetype": "text/x-python",
   "name": "python",
   "nbconvert_exporter": "python",
   "pygments_lexer": "ipython3",
   "version": "3.10.11"
  }
 },
 "nbformat": 4,
 "nbformat_minor": 2
}
