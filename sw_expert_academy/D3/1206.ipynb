{
 "cells": [
  {
   "cell_type": "markdown",
   "metadata": {},
   "source": [
    "## 1206. [S/W 문제해결 기본] 1일차 - View D3\n",
    "[문제 링크](https://swexpertacademy.com/main/code/problem/problemDetail.do?problemLevel=3&contestProbId=AV134DPqAA8CFAYh&categoryId=AV134DPqAA8CFAYh&categoryType=CODE&problemTitle=&orderBy=INQUERY_COUNT&selectCodeLang=PYTHON&select-1=3&pageSize=10&pageIndex=1)"
   ]
  },
  {
   "cell_type": "code",
   "execution_count": 1,
   "metadata": {},
   "outputs": [
    {
     "name": "stdout",
     "output_type": "stream",
     "text": [
      "#1 691\n"
     ]
    }
   ],
   "source": [
    "for t in range(10):\n",
    "    N = int(input())\n",
    "    buildings = list(map(int,input().split()))\n",
    "    answer = 0\n",
    "    for i in range(2,N-2):\n",
    "        around = 0\n",
    "        diff = 1000000000\n",
    "        for j in range(1,3):\n",
    "            if buildings[i-j] < buildings[i]:\n",
    "                if diff > buildings[i] - buildings[i-j]:\n",
    "                    diff =  buildings[i] - buildings[i-j]\n",
    "                around += 1\n",
    "        for j in range(1,3):\n",
    "            if buildings[i+j] < buildings[i]:\n",
    "                if diff > buildings[i] - buildings[i+j]:\n",
    "                    diff = buildings[i] - buildings[i+j]\n",
    "                around += 1\n",
    "        if around == 4:\n",
    "            answer += diff\n",
    "    print(f'#{t+1} {answer}')"
   ]
  }
 ],
 "metadata": {
  "kernelspec": {
   "display_name": "Python 3",
   "language": "python",
   "name": "python3"
  },
  "language_info": {
   "codemirror_mode": {
    "name": "ipython",
    "version": 3
   },
   "file_extension": ".py",
   "mimetype": "text/x-python",
   "name": "python",
   "nbconvert_exporter": "python",
   "pygments_lexer": "ipython3",
   "version": "3.10.11"
  }
 },
 "nbformat": 4,
 "nbformat_minor": 2
}
