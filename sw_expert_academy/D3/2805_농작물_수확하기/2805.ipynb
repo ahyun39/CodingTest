{
 "cells": [
  {
   "cell_type": "markdown",
   "metadata": {},
   "source": [
    "## 2805. 농작물 수확하기 D3\n",
    "[문제 링크](https://swexpertacademy.com/main/code/problem/problemDetail.do?problemLevel=3&contestProbId=AV7GLXqKAWYDFAXB&categoryId=AV7GLXqKAWYDFAXB&categoryType=CODE&problemTitle=&orderBy=INQUERY_COUNT&selectCodeLang=PYTHON&select-1=3&pageSize=10&pageIndex=1)"
   ]
  },
  {
   "cell_type": "code",
   "execution_count": 1,
   "metadata": {},
   "outputs": [
    {
     "name": "stdout",
     "output_type": "stream",
     "text": [
      "#1 23\n"
     ]
    }
   ],
   "source": [
    "T = int(input())\n",
    "for t in range(T):\n",
    "    N = int(input())\n",
    "    board = []\n",
    "    ans = 0\n",
    "    aa = []\n",
    "    for _ in range(N):\n",
    "        board.append(list(str(input())))\n",
    "    odd = 1\n",
    "    for i in range(N//2):\n",
    "        for j in range((N-odd)//2,(N-odd)//2+odd):\n",
    "            ans += int(board[i][j])\n",
    "        odd += 2\n",
    "    for i in range(N):\n",
    "        board[N//2][i] = int(board[N//2][i])\n",
    "    odd -= 2\n",
    "    ans += sum(board[N//2])\n",
    "    for i in range(N//2+1,N):\n",
    "        for j in range((N-odd)//2,(N-odd)//2+odd):\n",
    "            ans += int(board[i][j])\n",
    "        odd -= 2\n",
    "    print(f'#{t+1} {ans}')"
   ]
  }
 ],
 "metadata": {
  "kernelspec": {
   "display_name": "Python 3",
   "language": "python",
   "name": "python3"
  },
  "language_info": {
   "codemirror_mode": {
    "name": "ipython",
    "version": 3
   },
   "file_extension": ".py",
   "mimetype": "text/x-python",
   "name": "python",
   "nbconvert_exporter": "python",
   "pygments_lexer": "ipython3",
   "version": "3.10.11"
  }
 },
 "nbformat": 4,
 "nbformat_minor": 2
}
