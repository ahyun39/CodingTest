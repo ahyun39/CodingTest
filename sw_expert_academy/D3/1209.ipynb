{
 "cells": [
  {
   "cell_type": "markdown",
   "metadata": {},
   "source": [
    "## 1209. [S/W 문제해결 기본] 2일차 - Sum D3\n",
    "[문제 링크](https://swexpertacademy.com/main/code/problem/problemDetail.do?problemLevel=3&contestProbId=AV13_BWKACUCFAYh&categoryId=AV13_BWKACUCFAYh&categoryType=CODE&problemTitle=&orderBy=INQUERY_COUNT&selectCodeLang=PYTHON&select-1=3&pageSize=10&pageIndex=1)"
   ]
  },
  {
   "cell_type": "code",
   "execution_count": null,
   "metadata": {},
   "outputs": [],
   "source": [
    "for t in range(10):\n",
    "    testcase = int(input())\n",
    "    board = []\n",
    "    s = []\n",
    "    for _ in range(100):\n",
    "        board.append(list(map(int,input().split())))\n",
    "        s.append(sum(board[-1]))\n",
    "    for i in range(100):\n",
    "        su = 0\n",
    "        for j in range(100):\n",
    "            su += board[j][i]\n",
    "        s.append(su)\n",
    "    su = 0\n",
    "    for i in range(100):\n",
    "        su += board[i][i]\n",
    "    s.append(su)\n",
    "    su = 0\n",
    "    for i in range(99,0,-1):\n",
    "        su += board[i][i]\n",
    "    s.append(su)\n",
    "    print(f'#{testcase} {max(s)}')"
   ]
  },
  {
   "cell_type": "code",
   "execution_count": 1,
   "metadata": {},
   "outputs": [
    {
     "name": "stdout",
     "output_type": "stream",
     "text": [
      "#1 29\n"
     ]
    }
   ],
   "source": [
    "# testcase : 1\n",
    "# len : 5\n",
    "for t in range(1):\n",
    "    testcase = int(input())\n",
    "    board = []\n",
    "    s = []\n",
    "    for _ in range(5):\n",
    "        board.append(list(map(int,input().split())))\n",
    "        s.append(sum(board[-1]))\n",
    "    for i in range(5):\n",
    "        su = 0\n",
    "        for j in range(5):\n",
    "            su += board[j][i]\n",
    "        s.append(su)\n",
    "    su = 0\n",
    "    for i in range(5):\n",
    "        su += board[i][i]\n",
    "    s.append(su)\n",
    "    su = 0\n",
    "    for i in range(4,0,-1):\n",
    "        su += board[i][i]\n",
    "    s.append(su)\n",
    "    print(f'#{testcase} {max(s)}')"
   ]
  }
 ],
 "metadata": {
  "kernelspec": {
   "display_name": "Python 3",
   "language": "python",
   "name": "python3"
  },
  "language_info": {
   "codemirror_mode": {
    "name": "ipython",
    "version": 3
   },
   "file_extension": ".py",
   "mimetype": "text/x-python",
   "name": "python",
   "nbconvert_exporter": "python",
   "pygments_lexer": "ipython3",
   "version": "3.10.11"
  }
 },
 "nbformat": 4,
 "nbformat_minor": 2
}
