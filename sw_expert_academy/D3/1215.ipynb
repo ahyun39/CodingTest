{
 "cells": [
  {
   "cell_type": "markdown",
   "metadata": {},
   "source": [
    "## 1215. [S/W 문제해결 기본] 3일차 - 회문1 D3\n",
    "[문제 링크](https://swexpertacademy.com/main/code/problem/problemDetail.do?problemLevel=3&contestProbId=AV14QpAaAAwCFAYi&categoryId=AV14QpAaAAwCFAYi&categoryType=CODE&problemTitle=&orderBy=INQUERY_COUNT&selectCodeLang=PYTHON&select-1=3&pageSize=10&pageIndex=1) "
   ]
  },
  {
   "cell_type": "code",
   "execution_count": null,
   "metadata": {},
   "outputs": [],
   "source": [
    "for t in range(10):\n",
    "    pal_len = int(input())\n",
    "    board = []\n",
    "    ans = 0\n",
    "    for _ in range(8):\n",
    "        board.append(list(str(input())))\n",
    "    # 가로 탐색\n",
    "    for i in range(8):\n",
    "        for j in range(0,9-pal_len):\n",
    "            left_s = ''.join(board[i][j:j+pal_len//2])\n",
    "            right_s = ''\n",
    "            if pal_len % 2 == 0:\n",
    "                for k in range(j+pal_len-1,j+pal_len//2-1,-1):\n",
    "                    right_s += board[i][k]\n",
    "            elif pal_len % 2 != 0:\n",
    "                for k in range(j+pal_len-1,j+pal_len//2,-1):\n",
    "                    right_s += board[i][k]\n",
    "            if left_s == right_s:\n",
    "                ans += 1\n",
    "    # 세로 탐색\n",
    "    for i in range(8):\n",
    "        for j in range(0,9-pal_len):\n",
    "            left_s = ''\n",
    "            right_s = ''\n",
    "            for k in range(j,j+pal_len//2):\n",
    "                left_s += board[k][i]\n",
    "            if pal_len % 2 == 0:\n",
    "                for k in range(j+pal_len-1,j+pal_len//2-1,-1):\n",
    "                    right_s += board[k][i]\n",
    "            elif pal_len % 2 != 0:\n",
    "                for k in range(j+pal_len-1,j+pal_len//2,-1):\n",
    "                    right_s += board[k][i]\n",
    "            if left_s == right_s:\n",
    "                ans += 1\n",
    "    print(f'#{t+1} {ans}')"
   ]
  },
  {
   "cell_type": "code",
   "execution_count": 1,
   "metadata": {},
   "outputs": [
    {
     "name": "stdout",
     "output_type": "stream",
     "text": [
      "#1 12\n",
      "#2 10\n"
     ]
    }
   ],
   "source": [
    "# testcase : 2개\n",
    "for t in range(2):\n",
    "    pal_len = int(input())\n",
    "    board = []\n",
    "    ans = 0\n",
    "    for _ in range(8):\n",
    "        board.append(list(str(input())))\n",
    "    # 가로 탐색\n",
    "    for i in range(8):\n",
    "        for j in range(0,9-pal_len):\n",
    "            left_s = ''.join(board[i][j:j+pal_len//2])\n",
    "            right_s = ''\n",
    "            if pal_len % 2 == 0:\n",
    "                for k in range(j+pal_len-1,j+pal_len//2-1,-1):\n",
    "                    right_s += board[i][k]\n",
    "            elif pal_len % 2 != 0:\n",
    "                for k in range(j+pal_len-1,j+pal_len//2,-1):\n",
    "                    right_s += board[i][k]\n",
    "            if left_s == right_s:\n",
    "                ans += 1\n",
    "    # 세로 탐색\n",
    "    for i in range(8):\n",
    "        for j in range(0,9-pal_len):\n",
    "            left_s = ''\n",
    "            right_s = ''\n",
    "            for k in range(j,j+pal_len//2):\n",
    "                left_s += board[k][i]\n",
    "            if pal_len % 2 == 0:\n",
    "                for k in range(j+pal_len-1,j+pal_len//2-1,-1):\n",
    "                    right_s += board[k][i]\n",
    "            elif pal_len % 2 != 0:\n",
    "                for k in range(j+pal_len-1,j+pal_len//2,-1):\n",
    "                    right_s += board[k][i]\n",
    "            if left_s == right_s:\n",
    "                ans += 1\n",
    "    print(f'#{t+1} {ans}')"
   ]
  }
 ],
 "metadata": {
  "kernelspec": {
   "display_name": "Python 3",
   "language": "python",
   "name": "python3"
  },
  "language_info": {
   "codemirror_mode": {
    "name": "ipython",
    "version": 3
   },
   "file_extension": ".py",
   "mimetype": "text/x-python",
   "name": "python",
   "nbconvert_exporter": "python",
   "pygments_lexer": "ipython3",
   "version": "3.10.11"
  }
 },
 "nbformat": 4,
 "nbformat_minor": 2
}
