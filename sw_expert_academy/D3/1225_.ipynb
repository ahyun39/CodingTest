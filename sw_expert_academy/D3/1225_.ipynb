{
 "cells": [
  {
   "cell_type": "markdown",
   "metadata": {},
   "source": [
    "## 1225. [S/W 문제해결 기본] 7일차 - 암호생성기 D3\n",
    "[문제 링크](https://swexpertacademy.com/main/code/problem/problemDetail.do?problemLevel=3&contestProbId=AV14uWl6AF0CFAYD&categoryId=AV14uWl6AF0CFAYD&categoryType=CODE&problemTitle=&orderBy=INQUERY_COUNT&selectCodeLang=PYTHON&select-1=3&pageSize=10&pageIndex=1)"
   ]
  },
  {
   "cell_type": "markdown",
   "metadata": {},
   "source": [
    "### Python Deque\n",
    "\n",
    "> **Deque Method**\n",
    "\n",
    "|Method|Explanation|\n",
    "|------|-----------|\n",
    "|deque.append(item)|  \t오른쪽 끝에 새로운 원소를 삽입한다.|\n",
    "|deque.appendleft(item)|\t왼쪽 끝에 새로운 원소를 삽입한다.|\n",
    "|deque.pop()|\t오른쪽 끝의 원소를 제거 후 반환한다.|\n",
    "|deque.popleft()|\t왼쪽 끝의 원소를 제거 후 반환한다.|\n",
    "|deque.extend(array)|\t주어진 array 배열을 순환하며 오른쪽에 추가한다.|\n",
    "|deque.extendleft(array)|\t주어진 array 배열을 순환하며 왼쪽에 추가한다.|\n",
    "|deque.insert(n, item)|\tn번 index에 원소를 추가한다.|\n",
    "|deque.remove(item)|\t입력한 원소를 삭제한다. 같은 원소가 있을 경우 왼쪽부터 삭제된다.|\n",
    "|deque.rotate(n)|\tn만큼 원소의 위치를 회전한다. (양수 : 시계방향, 음수 : 반시계 방향)| \n",
    "|deque.clear()|\t모든 원소를 제거한다.|\n",
    "|deque.reverse()|\t원소의 위치를 좌우 반전시킨다.|"
   ]
  },
  {
   "cell_type": "code",
   "execution_count": null,
   "metadata": {},
   "outputs": [],
   "source": [
    "from collections import deque\n",
    "for t in range(10):\n",
    "    testcase = int(input())\n",
    "    d = deque(map(int,input().split()))\n",
    "    i = 1\n",
    "    while True:\n",
    "        left = d.popleft() - i\n",
    "        if left <= 0:\n",
    "            d.append(0)\n",
    "            break\n",
    "        d.append(left)\n",
    "        if i == 5:\n",
    "            i = 1\n",
    "        elif i < 5:\n",
    "            i += 1\n",
    "    d = list(d)\n",
    "    print(f'#{testcase}',*d)"
   ]
  },
  {
   "cell_type": "code",
   "execution_count": 1,
   "metadata": {},
   "outputs": [
    {
     "name": "stdout",
     "output_type": "stream",
     "text": [
      "#1 6 2 2 9 4 1 3 0\n",
      "#2 9 7 9 5 4 3 8 0\n"
     ]
    }
   ],
   "source": [
    "# testcase : 2개\n",
    "from collections import deque\n",
    "for t in range(2):\n",
    "    testcase = int(input())\n",
    "    d = deque(map(int,input().split()))\n",
    "    i = 1\n",
    "    while True:\n",
    "        left = d.popleft() - i\n",
    "        if left <= 0:\n",
    "            d.append(0)\n",
    "            break\n",
    "        d.append(left)\n",
    "        if i == 5:\n",
    "            i = 1\n",
    "        elif i < 5:\n",
    "            i += 1\n",
    "    d = list(d)\n",
    "    print(f'#{testcase}',*d)"
   ]
  }
 ],
 "metadata": {
  "kernelspec": {
   "display_name": "Python 3",
   "language": "python",
   "name": "python3"
  },
  "language_info": {
   "codemirror_mode": {
    "name": "ipython",
    "version": 3
   },
   "file_extension": ".py",
   "mimetype": "text/x-python",
   "name": "python",
   "nbconvert_exporter": "python",
   "pygments_lexer": "ipython3",
   "version": "3.10.11"
  }
 },
 "nbformat": 4,
 "nbformat_minor": 2
}
