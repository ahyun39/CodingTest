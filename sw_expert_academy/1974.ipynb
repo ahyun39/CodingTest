{
 "cells": [
  {
   "cell_type": "markdown",
   "metadata": {},
   "source": [
    "## 1974. 스도쿠 검증 D2\n",
    "[문제 링크](https://swexpertacademy.com/main/code/problem/problemDetail.do?problemLevel=2&contestProbId=AV5Psz16AYEDFAUq&categoryId=AV5Psz16AYEDFAUq&categoryType=CODE&problemTitle=&orderBy=INQUERY_COUNT&selectCodeLang=PYTHON&select-1=2&pageSize=10&pageIndex=1)"
   ]
  },
  {
   "cell_type": "code",
   "execution_count": 1,
   "metadata": {},
   "outputs": [
    {
     "name": "stdout",
     "output_type": "stream",
     "text": [
      "#1 1\n"
     ]
    }
   ],
   "source": [
    "T = int(input())\n",
    "for t in range(T):\n",
    "    board = []\n",
    "    for _ in range(9):\n",
    "        board.append(list(map(int,input().split())))\n",
    "    is_sudoku = True\n",
    "    for i in range(9):\n",
    "        set_board = len(list(set(board[i])))\n",
    "        if set_board != 9:\n",
    "            is_sudoku = False\n",
    "            break\n",
    "    for i in range(9):\n",
    "        set_board = []\n",
    "        for j in range(9):\n",
    "            set_board.append(board[j][i])\n",
    "        if len(list(set(set_board))) != 9:\n",
    "            is_sudoku = False\n",
    "            break\n",
    "    for i in range(0,9,3):\n",
    "        for j in range(0,9,3):\n",
    "            set_board = []\n",
    "            for k in range(3):\n",
    "                for h in range(3):\n",
    "                    set_board.append(board[i+k][j+h])\n",
    "            if len(list(set(set_board))) != 9:\n",
    "                is_sudoku = False\n",
    "                break\n",
    "    if is_sudoku == True:\n",
    "        print(f'#{t+1} 1')\n",
    "    else:\n",
    "        print(f'#{t+1} 0')"
   ]
  }
 ],
 "metadata": {
  "kernelspec": {
   "display_name": "Python 3",
   "language": "python",
   "name": "python3"
  },
  "language_info": {
   "codemirror_mode": {
    "name": "ipython",
    "version": 3
   },
   "file_extension": ".py",
   "mimetype": "text/x-python",
   "name": "python",
   "nbconvert_exporter": "python",
   "pygments_lexer": "ipython3",
   "version": "3.10.11"
  }
 },
 "nbformat": 4,
 "nbformat_minor": 2
}
