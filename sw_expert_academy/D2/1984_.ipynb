{
 "cells": [
  {
   "cell_type": "markdown",
   "metadata": {},
   "source": [
    "## 1984. 중간 평균값 구하기 D2\n",
    "[문제 링크](https://swexpertacademy.com/main/code/problem/problemDetail.do?problemLevel=2&contestProbId=AV5Pw_-KAdcDFAUq&categoryId=AV5Pw_-KAdcDFAUq&categoryType=CODE&problemTitle=&orderBy=INQUERY_COUNT&selectCodeLang=PYTHON&select-1=2&pageSize=10&pageIndex=2)\n",
    "\n",
    "### Python 소수점\n",
    "> round(실수, 자리수)\n",
    "```\n",
    "    >>> n = 3.141592\n",
    "    >>> print(round(n))\n",
    "    3\n",
    "    >>> print(round(n,1))\n",
    "    3.1\n",
    "    >>> print(round(n,2))\n",
    "    3.14\n",
    "    >>> print(round(n,3))\n",
    "    3.142\n",
    "    >>> print(round(n,4))\n",
    "    3.1416\n",
    "```\n",
    "\n",
    "> f\"{실수:.(표기할 자리수)f}\n",
    "```\n",
    "    >>> n = 3.141592\n",
    "    >>> print(f\"{n:.1f}\")\n",
    "    3.1\n",
    "    >>> print(f\"{n:.2f}\")\n",
    "    3.14\n",
    "    >>> print(f\"{n:.3f}\")\n",
    "    3.142\n",
    "    >>> print(f\"{n:.4f}\")\n",
    "    3.1416\n",
    "```\n",
    "\n",
    "> format(실수, \".(표기할 자리수)f\")\n",
    "```\n",
    "    >>> n = 3.141592\n",
    "    >>> print(format(n, \".1f\"))\n",
    "    3.1\n",
    "    >>> print(format(n, \".2f\"))\n",
    "    3.14\n",
    "    >>> print(format(n, \".3f\"))\n",
    "    3.142\n",
    "    >>> print(format(n, \".4f\"))\n",
    "    3.1416\n",
    "```\n",
    "\n",
    "```\n",
    "\n",
    "\n",
    "\n",
    "```\n",
    "### floor() / ceil()\n",
    "\n",
    "> floor() : 내림\n",
    "```\n",
    "    >>> import math\n",
    "    >>> print(math.floor(3.14))\n",
    "    3\n",
    "    >>> print(math.floor(-3.14))\n",
    "    -4\n",
    "```\n",
    "> ceil() : 올림\n",
    "```\n",
    "    >>> import math\n",
    "    >>> print(math.ceil(3.14))\n",
    "    4\n",
    "    >>> print(math.ceil(-3.14))\n",
    "    -3\n",
    "```"
   ]
  },
  {
   "cell_type": "code",
   "execution_count": 1,
   "metadata": {},
   "outputs": [
    {
     "name": "stdout",
     "output_type": "stream",
     "text": [
      "#1 18\n"
     ]
    }
   ],
   "source": [
    "T = int(input())\n",
    "for t in range(T):\n",
    "    num = sorted(list(map(int,input().split())))\n",
    "    ans = round(sum(num[1:9]) / 8)\n",
    "    print(f'#{t+1} {ans}')"
   ]
  }
 ],
 "metadata": {
  "kernelspec": {
   "display_name": "Python 3",
   "language": "python",
   "name": "python3"
  },
  "language_info": {
   "codemirror_mode": {
    "name": "ipython",
    "version": 3
   },
   "file_extension": ".py",
   "mimetype": "text/x-python",
   "name": "python",
   "nbconvert_exporter": "python",
   "pygments_lexer": "ipython3",
   "version": "3.10.11"
  }
 },
 "nbformat": 4,
 "nbformat_minor": 2
}
