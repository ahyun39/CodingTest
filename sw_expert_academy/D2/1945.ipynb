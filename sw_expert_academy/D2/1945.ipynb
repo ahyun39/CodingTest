{
 "cells": [
  {
   "cell_type": "markdown",
   "metadata": {},
   "source": [
    "## 1945. 간단한 소인수분해 D2\n",
    "[문제 링크](https://swexpertacademy.com/main/code/problem/problemDetail.do?problemLevel=2&contestProbId=AV5Pl0Q6ANQDFAUq&categoryId=AV5Pl0Q6ANQDFAUq&categoryType=CODE&problemTitle=&orderBy=INQUERY_COUNT&selectCodeLang=PYTHON&select-1=2&pageSize=10&pageIndex=2)"
   ]
  },
  {
   "cell_type": "code",
   "execution_count": 1,
   "metadata": {},
   "outputs": [
    {
     "name": "stdout",
     "output_type": "stream",
     "text": [
      "#1 3 2 2 3 1\n",
      "#2 6 1 2 3 0\n",
      "#3 6 4 2 0 1\n",
      "#4 0 0 2 3 0\n",
      "#5 0 3 4 0 1\n",
      "#6 4 4 1 0 0\n",
      "#7 7 3 0 3 0\n",
      "#8 0 8 0 0 0\n",
      "#9 0 0 2 0 0\n",
      "#10 1 3 3 2 0\n"
     ]
    }
   ],
   "source": [
    "T = int(input())\n",
    "for t in range(T):\n",
    "    N = int(input())\n",
    "    abcde = [0, 0, 0, 0, 0]\n",
    "    div = [2,3,5,7,11]\n",
    "    for i in range(len(div)):\n",
    "        if N%div[i] == 0:\n",
    "            while N%div[i] == 0:\n",
    "                N /= div[i]\n",
    "                abcde[i] += 1\n",
    "    print(f'#{t+1}',*abcde)"
   ]
  }
 ],
 "metadata": {
  "kernelspec": {
   "display_name": "Python 3",
   "language": "python",
   "name": "python3"
  },
  "language_info": {
   "codemirror_mode": {
    "name": "ipython",
    "version": 3
   },
   "file_extension": ".py",
   "mimetype": "text/x-python",
   "name": "python",
   "nbconvert_exporter": "python",
   "pygments_lexer": "ipython3",
   "version": "3.10.11"
  }
 },
 "nbformat": 4,
 "nbformat_minor": 2
}
