{
 "cells": [
  {
   "cell_type": "markdown",
   "metadata": {},
   "source": [
    "## 1983. 조교의 성적 매기기 D2\n",
    "[문제 링크](https://swexpertacademy.com/main/code/problem/problemDetail.do?problemLevel=2&contestProbId=AV5PwGK6AcIDFAUq&categoryId=AV5PwGK6AcIDFAUq&categoryType=CODE&problemTitle=&orderBy=INQUERY_COUNT&selectCodeLang=PYTHON&select-1=2&pageSize=10&pageIndex=2)"
   ]
  },
  {
   "cell_type": "code",
   "execution_count": 2,
   "metadata": {},
   "outputs": [
    {
     "name": "stdout",
     "output_type": "stream",
     "text": [
      "#1 A-\n"
     ]
    }
   ],
   "source": [
    "# 1983. 조교의 성적 매기기 [D2]\n",
    "T = int(input())\n",
    "for t in range(T):\n",
    "    N, K = map(int,input().split())\n",
    "    student = {}\n",
    "    for n in range(N):\n",
    "        mid, fin, assign = map(int,input().split())\n",
    "        student[n+1] = round((mid * 0.35) + (fin * 0.45) + (assign * 0.2),2)\n",
    "    student_rank = sorted(student.items(), key = lambda x:x[1], reverse = True)\n",
    "    same_ = 0\n",
    "    r = 0\n",
    "    rank = ['A+','A0','A-','B+','B0','B-','C+','C0','C-','D0']\n",
    "    for i in range(N):\n",
    "        if same_ == N / 10:\n",
    "            r += 1\n",
    "            same_ = 0\n",
    "        student_rank[i] = list(student_rank[i])\n",
    "        student_rank[i][1] = rank[r]\n",
    "        if student_rank[i][0] == K:\n",
    "            print(f'#{t+1} {student_rank[i][1]}')\n",
    "            break\n",
    "        same_ += 1"
   ]
  }
 ],
 "metadata": {
  "kernelspec": {
   "display_name": "Python 3",
   "language": "python",
   "name": "python3"
  },
  "language_info": {
   "codemirror_mode": {
    "name": "ipython",
    "version": 3
   },
   "file_extension": ".py",
   "mimetype": "text/x-python",
   "name": "python",
   "nbconvert_exporter": "python",
   "pygments_lexer": "ipython3",
   "version": "3.10.11"
  }
 },
 "nbformat": 4,
 "nbformat_minor": 2
}
