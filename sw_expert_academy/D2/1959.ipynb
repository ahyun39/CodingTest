{
 "cells": [
  {
   "cell_type": "markdown",
   "metadata": {},
   "source": [
    "## 1959. 두 개의 숫자열 D2\n",
    "[문제 링크](https://swexpertacademy.com/main/code/problem/problemDetail.do?problemLevel=2&contestProbId=AV5PpoFaAS4DFAUq&categoryId=AV5PpoFaAS4DFAUq&categoryType=CODE&problemTitle=&orderBy=INQUERY_COUNT&selectCodeLang=PYTHON&select-1=2&pageSize=10&pageIndex=2)"
   ]
  },
  {
   "cell_type": "code",
   "execution_count": 1,
   "metadata": {},
   "outputs": [
    {
     "name": "stdout",
     "output_type": "stream",
     "text": [
      "#1 30\n"
     ]
    }
   ],
   "source": [
    "T = int(input())\n",
    "for t in range(T):\n",
    "    N, M = map(int,input().split())\n",
    "    A = list(map(int,input().split()))\n",
    "    B = list(map(int,input().split()))\n",
    "    multiply = []\n",
    "\n",
    "    if N > M:\n",
    "        for i in range(N-M+1):\n",
    "            sum = 0\n",
    "            idx = []\n",
    "            n_idx = 0\n",
    "            for j in range(M):\n",
    "                idx.append(i+j)\n",
    "            for j in range(N):\n",
    "                if j in idx:\n",
    "                    sum += (A[j] * B[n_idx])\n",
    "                    n_idx += 1\n",
    "            multiply.append(sum)\n",
    "        print(f'#{t+1} {max(multiply)}')\n",
    "\n",
    "    if N < M:\n",
    "        for i in range(M-N+1):\n",
    "            sum = 0\n",
    "            idx = []\n",
    "            n_idx = 0\n",
    "            for j in range(N):\n",
    "                idx.append(i+j)\n",
    "            for j in range(M):\n",
    "                if j in idx:\n",
    "                    sum += (A[n_idx] * B[j])\n",
    "                    n_idx += 1\n",
    "            multiply.append(sum)\n",
    "        print(f'#{t+1} {max(multiply)}')\n",
    "        \n",
    "    if N == M:\n",
    "        ans = 0\n",
    "        for i in range(N):\n",
    "            ans += (A[i] * B[i])\n",
    "        print(f'#{t+1} {ans}')"
   ]
  }
 ],
 "metadata": {
  "kernelspec": {
   "display_name": "Python 3",
   "language": "python",
   "name": "python3"
  },
  "language_info": {
   "codemirror_mode": {
    "name": "ipython",
    "version": 3
   },
   "file_extension": ".py",
   "mimetype": "text/x-python",
   "name": "python",
   "nbconvert_exporter": "python",
   "pygments_lexer": "ipython3",
   "version": "3.10.11"
  }
 },
 "nbformat": 4,
 "nbformat_minor": 2
}
