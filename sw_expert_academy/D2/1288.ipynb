{
 "cells": [
  {
   "cell_type": "markdown",
   "metadata": {},
   "source": [
    "## 1288. 새로운 불면증 치료법 D2\n",
    "[문제 링크](https://swexpertacademy.com/main/code/problem/problemDetail.do?problemLevel=2&contestProbId=AV18_yw6I9MCFAZN&categoryId=AV18_yw6I9MCFAZN&categoryType=CODE&problemTitle=&orderBy=INQUERY_COUNT&selectCodeLang=PYTHON&select-1=2&pageSize=10&pageIndex=2&&&&&&&&&&)"
   ]
  },
  {
   "cell_type": "code",
   "execution_count": 1,
   "metadata": {},
   "outputs": [
    {
     "name": "stdout",
     "output_type": "stream",
     "text": [
      "#1 10\n",
      "#2 90\n",
      "#3 110\n",
      "#4 6475\n",
      "#5 5076\n"
     ]
    }
   ],
   "source": [
    "T = int(input())\n",
    "for t in range(T):\n",
    "    N = int(input())\n",
    "    one_to_nine = ['0','1','2','3','4','5','6','7','8','9']\n",
    "    cnt = 0\n",
    "    i = 1\n",
    "    while one_to_nine != []:\n",
    "        sheep = N * i\n",
    "        str_sheep = str(sheep)\n",
    "        for k in range(len(str_sheep)):\n",
    "            if str_sheep[k] in one_to_nine:\n",
    "                one_to_nine.remove(str_sheep[k])\n",
    "        i += 1\n",
    "    print(f'#{t+1} {sheep}')"
   ]
  }
 ],
 "metadata": {
  "kernelspec": {
   "display_name": "Python 3",
   "language": "python",
   "name": "python3"
  },
  "language_info": {
   "codemirror_mode": {
    "name": "ipython",
    "version": 3
   },
   "file_extension": ".py",
   "mimetype": "text/x-python",
   "name": "python",
   "nbconvert_exporter": "python",
   "pygments_lexer": "ipython3",
   "version": "3.10.11"
  }
 },
 "nbformat": 4,
 "nbformat_minor": 2
}
