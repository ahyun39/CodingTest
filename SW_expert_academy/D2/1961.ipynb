{
 "cells": [
  {
   "cell_type": "markdown",
   "metadata": {},
   "source": [
    "## 1961. 숫자 배열 회전 D2\n",
    "[문제 링크](https://swexpertacademy.com/main/code/problem/problemDetail.do?problemLevel=2&contestProbId=AV5Pq-OKAVYDFAUq&categoryId=AV5Pq-OKAVYDFAUq&categoryType=CODE&problemTitle=&orderBy=INQUERY_COUNT&selectCodeLang=PYTHON&select-1=2&pageSize=10&pageIndex=2)"
   ]
  },
  {
   "cell_type": "code",
   "execution_count": 1,
   "metadata": {},
   "outputs": [
    {
     "name": "stdout",
     "output_type": "stream",
     "text": [
      "#1\n",
      "741 987 369\n",
      "852 654 258\n",
      "963 321 147\n"
     ]
    }
   ],
   "source": [
    "from collections import deque\n",
    "\n",
    "T = int(input())\n",
    "for t in range(T):\n",
    "    N = int(input())\n",
    "    board = []\n",
    "    for _ in range(N):\n",
    "        board.append(list(map(str,input().split())))\n",
    "\n",
    "    rotate_90 = []\n",
    "    for i in range(N):\n",
    "        b = deque([])\n",
    "        for j in range(N):\n",
    "            b.appendleft(board[j][i])\n",
    "        rotate_90.append(list(b))\n",
    "\n",
    "    rotate_180 = [deque([]) for _ in range(N)]\n",
    "    for i in range(N):\n",
    "        for j in range(N):\n",
    "            rotate_180[j].appendleft(rotate_90[i][j])\n",
    "\n",
    "    rotate_270 = []\n",
    "    for i in range(N):\n",
    "        b = deque([])\n",
    "        for j in range(N):\n",
    "            b.appendleft(rotate_180[j][i])\n",
    "        rotate_270.append(list(b))\n",
    "        \n",
    "    print(f'#{t+1}')\n",
    "    for i in range(N):\n",
    "        print(''.join(rotate_90[i]), end = ' ')\n",
    "        print(''.join(rotate_180[i]), end = ' ')\n",
    "        print(''.join(rotate_270[i]))"
   ]
  }
 ],
 "metadata": {
  "kernelspec": {
   "display_name": "Python 3",
   "language": "python",
   "name": "python3"
  },
  "language_info": {
   "codemirror_mode": {
    "name": "ipython",
    "version": 3
   },
   "file_extension": ".py",
   "mimetype": "text/x-python",
   "name": "python",
   "nbconvert_exporter": "python",
   "pygments_lexer": "ipython3",
   "version": "3.10.11"
  }
 },
 "nbformat": 4,
 "nbformat_minor": 2
}
