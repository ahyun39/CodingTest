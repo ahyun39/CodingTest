{
 "cells": [
  {
   "cell_type": "markdown",
   "metadata": {},
   "source": [
    "## 1979. 어디에 단어가 들어갈 수 있을까 D2\n",
    "[문제 링크](https://swexpertacademy.com/main/code/problem/problemDetail.do?problemLevel=2&contestProbId=AV5PuPq6AaQDFAUq&categoryId=AV5PuPq6AaQDFAUq&categoryType=CODE&problemTitle=&orderBy=INQUERY_COUNT&selectCodeLang=PYTHON&select-1=2&pageSize=10&pageIndex=1)"
   ]
  },
  {
   "cell_type": "code",
   "execution_count": 1,
   "metadata": {},
   "outputs": [
    {
     "name": "stdout",
     "output_type": "stream",
     "text": [
      "#1 2\n"
     ]
    }
   ],
   "source": [
    "T = int(input())\n",
    "for t in range(T):\n",
    "    N, K = map(int,input().split())\n",
    "    board = []\n",
    "    ans = 0\n",
    "    for _ in range(N):\n",
    "        board.append(list(map(int,input().split())))\n",
    "    for i in range(N):\n",
    "        white = 0\n",
    "        for j in board[i]:\n",
    "            if j == 1:\n",
    "                white += 1\n",
    "            elif j == 0:\n",
    "                if white == K:\n",
    "                    ans += 1\n",
    "                white = 0\n",
    "        if white == K:\n",
    "            ans += 1\n",
    "    for i in range(N):\n",
    "        white = 0\n",
    "        for j in range(N):\n",
    "            if board[j][i] == 1:\n",
    "                white += 1\n",
    "            elif board[j][i] == 0:\n",
    "                if white == K:\n",
    "                    ans += 1\n",
    "                white = 0\n",
    "        if white == K:\n",
    "            ans += 1\n",
    "    print(f'#{t+1} {ans}')"
   ]
  }
 ],
 "metadata": {
  "kernelspec": {
   "display_name": "Python 3",
   "language": "python",
   "name": "python3"
  },
  "language_info": {
   "codemirror_mode": {
    "name": "ipython",
    "version": 3
   },
   "file_extension": ".py",
   "mimetype": "text/x-python",
   "name": "python",
   "nbconvert_exporter": "python",
   "pygments_lexer": "ipython3",
   "version": "3.10.11"
  }
 },
 "nbformat": 4,
 "nbformat_minor": 2
}
