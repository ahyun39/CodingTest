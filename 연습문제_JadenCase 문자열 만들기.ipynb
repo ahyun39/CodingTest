{
  "nbformat": 4,
  "nbformat_minor": 0,
  "metadata": {
    "colab": {
      "name": "Solved problem.ipynb",
      "provenance": [],
      "collapsed_sections": [],
      "authorship_tag": "ABX9TyNsTfM4p2R7QyVBGh7C1kpt",
      "include_colab_link": true
    },
    "kernelspec": {
      "name": "python3",
      "display_name": "Python 3"
    },
    "language_info": {
      "name": "python"
    }
  },
  "cells": [
    {
      "cell_type": "markdown",
      "metadata": {
        "id": "view-in-github",
        "colab_type": "text"
      },
      "source": [
        "<a href=\"https://colab.research.google.com/github/A-A27/Programmers/blob/main/%EC%97%B0%EC%8A%B5%EB%AC%B8%EC%A0%9C_JadenCase%20%EB%AC%B8%EC%9E%90%EC%97%B4%20%EB%A7%8C%EB%93%A4%EA%B8%B0.ipynb\" target=\"_parent\"><img src=\"https://colab.research.google.com/assets/colab-badge.svg\" alt=\"Open In Colab\"/></a>"
      ]
    },
    {
      "cell_type": "code",
      "source": [
        "# 연습문제 _ JadenCase 문자열 만들기\n",
        "def solution(s):\n",
        "    newL = list(s.split(' '))\n",
        "    answer = ''\n",
        "    for i in range(len(newL)):\n",
        "        if i != len(newL) - 1 and newL[i] != ' ':\n",
        "            answer += newL[i].capitalize() + ' '\n",
        "        elif i == len(newL) - 1 and newL[i] != ' ':\n",
        "            answer += newL[i].capitalize()\n",
        "    return answer\n",
        "solution(\"3people unFollowed me\")"
      ],
      "metadata": {
        "colab": {
          "base_uri": "https://localhost:8080/",
          "height": 36
        },
        "id": "SgVvbR-YZLa2",
        "outputId": "01433590-9d4c-4387-c3af-35b3b046f0d3"
      },
      "execution_count": 2,
      "outputs": [
        {
          "output_type": "execute_result",
          "data": {
            "text/plain": [
              "'3people Unfollowed Me'"
            ],
            "application/vnd.google.colaboratory.intrinsic+json": {
              "type": "string"
            }
          },
          "metadata": {},
          "execution_count": 2
        }
      ]
    }
  ]
}