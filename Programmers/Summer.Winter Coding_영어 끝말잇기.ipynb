{
  "nbformat": 4,
  "nbformat_minor": 0,
  "metadata": {
    "colab": {
      "name": "Solved problem.ipynb",
      "provenance": [],
      "collapsed_sections": [],
      "authorship_tag": "ABX9TyPdGTBXsp2d+MIIJCXKxORL",
      "include_colab_link": true
    },
    "kernelspec": {
      "name": "python3",
      "display_name": "Python 3"
    },
    "language_info": {
      "name": "python"
    }
  },
  "cells": [
    {
      "cell_type": "markdown",
      "metadata": {
        "id": "view-in-github",
        "colab_type": "text"
      },
      "source": [
        "<a href=\"https://colab.research.google.com/github/A-A27/Programmers/blob/main/Programmers/Summer.Winter%20Coding_%EC%98%81%EC%96%B4%20%EB%81%9D%EB%A7%90%EC%9E%87%EA%B8%B0.ipynb\" target=\"_parent\"><img src=\"https://colab.research.google.com/assets/colab-badge.svg\" alt=\"Open In Colab\"/></a>"
      ]
    },
    {
      "cell_type": "code",
      "source": [
        "# Summer/Winter Coding(~2018) _ 영어 끝말잇기\n",
        "def solution(n, words):\n",
        "    answer = []\n",
        "    now = []\n",
        "    player_num = 1\n",
        "    round = 1\n",
        "    for i in range(len(words)):\n",
        "        if words[i] not in now:\n",
        "            if now == []:\n",
        "                now.append(words[i])\n",
        "                player_num += 1\n",
        "            elif now != [] and now[len(now)-1][len(now[len(now)-1])-1] == words[i][0]:\n",
        "                now.append(words[i])\n",
        "                if player_num != n:\n",
        "                    player_num += 1\n",
        "                else:\n",
        "                    player_num = 1\n",
        "                    round += 1\n",
        "            elif now != [] and now[len(now)-1][len(now[len(now)-1])-1] != words[i][0]:\n",
        "                answer.append(player_num)\n",
        "                answer.append(round)\n",
        "                return answer\n",
        "        elif words[i] in now:\n",
        "            answer.append(player_num)\n",
        "            answer.append(round)\n",
        "            return answer\n",
        "    answer.append(0)\n",
        "    answer.append(0)\n",
        "    return answer\n",
        "\n",
        "solution(3,\t[\"tank\", \"kick\", \"know\", \"wheel\", \"land\", \"dream\", \"mother\", \"robot\", \"tank\"])"
      ],
      "metadata": {
        "colab": {
          "base_uri": "https://localhost:8080/"
        },
        "id": "Eophp7gkjfCo",
        "outputId": "765db23d-8355-48fa-c39c-e5962717f9b5"
      },
      "execution_count": 1,
      "outputs": [
        {
          "output_type": "execute_result",
          "data": {
            "text/plain": [
              "[3, 3]"
            ]
          },
          "metadata": {},
          "execution_count": 1
        }
      ]
    }
  ]
}